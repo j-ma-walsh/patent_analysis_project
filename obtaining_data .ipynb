{
 "cells": [
  {
   "cell_type": "markdown",
   "source": [
    "# Obtaining the Data"
   ],
   "metadata": {
    "collapsed": false
   }
  },
  {
   "cell_type": "markdown",
   "source": [
    "Note that this code needs to be run on a kaggle notebook. The bq_helper library uses kaggle permissions to access google big query.\n",
    "\n",
    "The dataset in question: https://www.kaggle.com/datasets/bigquery/patents"
   ],
   "metadata": {
    "collapsed": false
   }
  },
  {
   "cell_type": "code",
   "execution_count": null,
   "outputs": [],
   "source": [
    "# Start by importing the bq_helper module and calling on the specific active_project and dataset_name for the BigQuery dataset.\n",
    "import bq_helper\n",
    "import  pandas as pd\n",
    "from bq_helper import BigQueryHelper\n",
    "# https://www.kaggle.com/sohier/introduction-to-the-bq-helper-package\n",
    "\n",
    "patents = bq_helper.BigQueryHelper(active_project=\"patents-public-data\",\n",
    "                                   dataset_name=\"patents\")"
   ],
   "metadata": {
    "collapsed": false
   }
  },
  {
   "cell_type": "code",
   "execution_count": null,
   "outputs": [],
   "source": [
    "# View table names under the patents data table\n",
    "bq_assistant = BigQueryHelper(\"patents-public-data\", \"patents\")\n",
    "bq_assistant.list_tables()"
   ],
   "metadata": {
    "collapsed": false
   }
  },
  {
   "cell_type": "code",
   "execution_count": null,
   "outputs": [],
   "source": [
    "# View the first three rows of the publications data table\n",
    "df_sample = bq_assistant.head(\"publications\", num_rows=3)\n",
    "df_sample"
   ],
   "metadata": {
    "collapsed": false
   }
  },
  {
   "cell_type": "code",
   "execution_count": null,
   "outputs": [],
   "source": [
    "# View information on all columns in the publications data table\n",
    "bq_assistant.table_schema(\"publications\")"
   ],
   "metadata": {
    "collapsed": false
   }
  },
  {
   "cell_type": "code",
   "execution_count": null,
   "outputs": [],
   "source": [
    "### Test xample Query\n",
    "query1 = \"\"\"\n",
    "SELECT\n",
    "  publication_number,\n",
    "  application_number,\n",
    "  country_code,\n",
    "  pct_number,\n",
    "  family_id,\n",
    "  title_localized,\n",
    "  abstract_localized,\n",
    "  claims_localized,\n",
    "  description_localized,\n",
    "  publication_date,\n",
    "  filing_date,\n",
    "  inventor,\n",
    "  assignee,\n",
    "  ipc\n",
    "FROM\n",
    "  `patents-public-data.patents.publications`\n",
    "LIMIT\n",
    "  10;\n",
    "        \"\"\""
   ],
   "metadata": {
    "collapsed": false
   }
  },
  {
   "cell_type": "code",
   "execution_count": null,
   "outputs": [],
   "source": [
    "# this function shows the size of the query on the dataset before it was run\n",
    "# This is important to check as the dataset is terabyte size.\n",
    "bq_assistant.estimate_query_size(query1)"
   ],
   "metadata": {
    "collapsed": false
   }
  },
  {
   "cell_type": "code",
   "execution_count": null,
   "outputs": [],
   "source": [
    "## Query for a dataset of patent text to do NLP modelling on\n",
    "query_patent_text = \"\"\"\n",
    "SELECT\n",
    "  publication_number,\n",
    "  application_number,\n",
    "  title_localized,\n",
    "  abstract_localized,\n",
    "  claims_localized,\n",
    "  description_localized,\n",
    "FROM\n",
    "  `patents-public-data.patents.publications`\n",
    "WHERE\n",
    "    application_kind = 'A' AND\n",
    "    publication_date > 20180000\n",
    "LIMIT\n",
    "  10000;\n",
    "  \"\"\""
   ],
   "metadata": {
    "collapsed": false
   }
  },
  {
   "cell_type": "markdown",
   "source": [
    "This query was big (about 200GB)"
   ],
   "metadata": {
    "collapsed": false
   }
  },
  {
   "cell_type": "code",
   "execution_count": null,
   "outputs": [],
   "source": [
    "query2018 = \"\"\"\n",
    "SELECT\n",
    "  publication_number,\n",
    "  application_number,\n",
    "  country_code,\n",
    "  publication_date,\n",
    "  filing_date,\n",
    "  assignee,\n",
    "  family_id,\n",
    "  ipc\n",
    "FROM\n",
    "  `patents-public-data.patents.publications`\n",
    "WHERE\n",
    "    application_kind = 'A' AND\n",
    "    ipc IS NOT NULL AND\n",
    "    country_code IS NOT NULL AND\n",
    "    publication_date > 20180000\n",
    "ORDER BY RAND()\n",
    "LIMIT 1000000;\n",
    "  \"\"\""
   ],
   "metadata": {
    "collapsed": false
   }
  },
  {
   "cell_type": "markdown",
   "source": [
    "This query was around 20GB"
   ],
   "metadata": {
    "collapsed": false
   }
  },
  {
   "cell_type": "code",
   "execution_count": null,
   "outputs": [],
   "source": [
    "bq_assistant.estimate_query_size(query2018)"
   ],
   "metadata": {
    "collapsed": false
   }
  },
  {
   "cell_type": "markdown",
   "source": [
    "Queries were run to pull 2 datasets (one for analysis part of project, one for modelling part of project) from the total Google Patent Dataset"
   ],
   "metadata": {
    "collapsed": false
   }
  },
  {
   "cell_type": "code",
   "execution_count": null,
   "outputs": [],
   "source": [
    "## pulling the data\n",
    "response = patents.query_to_pandas_safe(query2018, max_gb_scanned=20)\n",
    "response.head(10)"
   ],
   "metadata": {
    "collapsed": false
   }
  },
  {
   "cell_type": "code",
   "execution_count": null,
   "outputs": [],
   "source": [
    "response2 = patents.query_to_pandas_safe(query_patent_text, max_gb_scanned=250)\n",
    "response2.head(10)"
   ],
   "metadata": {
    "collapsed": false
   }
  }
 ],
 "metadata": {
  "kernelspec": {
   "display_name": "Python 3",
   "language": "python",
   "name": "python3"
  },
  "language_info": {
   "codemirror_mode": {
    "name": "ipython",
    "version": 2
   },
   "file_extension": ".py",
   "mimetype": "text/x-python",
   "name": "python",
   "nbconvert_exporter": "python",
   "pygments_lexer": "ipython2",
   "version": "2.7.6"
  }
 },
 "nbformat": 4,
 "nbformat_minor": 0
}
