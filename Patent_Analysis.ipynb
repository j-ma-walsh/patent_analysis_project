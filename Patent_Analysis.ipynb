{
 "cells": [
  {
   "cell_type": "markdown",
   "source": [
    "# Capstone Project - Patent Data"
   ],
   "metadata": {
    "collapsed": false
   }
  },
  {
   "cell_type": "markdown",
   "source": [
    "## EDA and Data Cleaning"
   ],
   "metadata": {
    "collapsed": false
   }
  },
  {
   "cell_type": "code",
   "execution_count": 93,
   "metadata": {},
   "outputs": [],
   "source": [
    "import pandas as pd\n",
    "import numpy as np\n",
    "import matplotlib.pyplot as plt\n",
    "import seaborn as sns"
   ]
  },
  {
   "cell_type": "code",
   "execution_count": 94,
   "metadata": {},
   "outputs": [],
   "source": [
    "## reading in the dataset\n",
    "df = pd.read_csv('patents1m.csv')"
   ]
  },
  {
   "cell_type": "code",
   "execution_count": 95,
   "metadata": {},
   "outputs": [
    {
     "data": {
      "text/plain": "   Unnamed: 0 publication_number application_number country_code  \\\n0           0      EP-3716307-A1      EP-17932779-A           EP   \n1           1    JP-2020191060-A    JP-2019151335-A           JP   \n2           2        IL-250219-B      IL-25021917-A           IL   \n3           3   US-2019015283-A1  US-201715648518-A           US   \n4           4   KR-20210078242-A   KR-20190170085-A           KR   \n5           5     CN-113091512-A  CN-202110372226-A           CN   \n6           6   AU-2020285671-A1    AU-2020285671-A           AU   \n7           7     CN-106304518-B  CN-201510242673-A           CN   \n8           8     CN-111657088-A  CN-202010566953-A           CN   \n9           9     CN-114239837-A  CN-202111586532-A           CN   \n\n   publication_date  filing_date  \\\n0          20200930     20171218   \n1          20201126     20190821   \n2          20220101     20170122   \n3          20190117     20170713   \n4          20210628     20191218   \n5          20210709     20210407   \n6          20211209     20200527   \n7          20190416     20150513   \n8          20200915     20200619   \n9          20220325     20211223   \n\n                                            assignee  family_id  \\\n0  ['The 41st Institute of China Electronics Tech...   62031869   \n1  ['廣達電腦股▲ふん▼有限公司Ｑｕａｎｔａ Ｃｏｍｐｕｔｅｒ Ｉｎｃ．', 'Quanta ...   67840994   \n2  ['REGANDSY and HATES SARL', 'Loic Bresson', 'S...   51352735   \n3                             ['James Earl Jackson']   65000790   \n4                                   ['엘지디스플레이 주식회사']   76608219   \n5                                   ['合肥英睿系统技术有限公司']   76674690   \n6                ['Kverneland Group Ravenna S.R.L.']   67957338   \n7                                 ['华润矽威科技（上海）有限公司']   57630890   \n8                   ['江苏沿江地区农业科学研究所', '如皋市鑫磊生态家庭农场']   72388926   \n9                                     ['树根互联股份有限公司']   80761871   \n\n                                                 ipc  \n0  [{'code': 'H01H50/00', 'inventive': True, 'fir...  \n1  [{'code': 'G06F1/20', 'inventive': True, 'firs...  \n2                                                 []  \n3  [{'code': 'A61H1/00', 'inventive': True, 'firs...  \n4  [{'code': 'G09F9/30', 'inventive': True, 'firs...  \n5  [{'code': 'F41G1/46', 'inventive': True, 'firs...  \n6  [{'code': 'A01F15/10', 'inventive': False, 'fi...  \n7  [{'code': 'H05B37/02', 'inventive': True, 'fir...  \n8  [{'code': 'C05G3/60', 'inventive': True, 'firs...  \n9  [{'code': 'G06N7/00', 'inventive': True, 'firs...  ",
      "text/html": "<div>\n<style scoped>\n    .dataframe tbody tr th:only-of-type {\n        vertical-align: middle;\n    }\n\n    .dataframe tbody tr th {\n        vertical-align: top;\n    }\n\n    .dataframe thead th {\n        text-align: right;\n    }\n</style>\n<table border=\"1\" class=\"dataframe\">\n  <thead>\n    <tr style=\"text-align: right;\">\n      <th></th>\n      <th>Unnamed: 0</th>\n      <th>publication_number</th>\n      <th>application_number</th>\n      <th>country_code</th>\n      <th>publication_date</th>\n      <th>filing_date</th>\n      <th>assignee</th>\n      <th>family_id</th>\n      <th>ipc</th>\n    </tr>\n  </thead>\n  <tbody>\n    <tr>\n      <th>0</th>\n      <td>0</td>\n      <td>EP-3716307-A1</td>\n      <td>EP-17932779-A</td>\n      <td>EP</td>\n      <td>20200930</td>\n      <td>20171218</td>\n      <td>['The 41st Institute of China Electronics Tech...</td>\n      <td>62031869</td>\n      <td>[{'code': 'H01H50/00', 'inventive': True, 'fir...</td>\n    </tr>\n    <tr>\n      <th>1</th>\n      <td>1</td>\n      <td>JP-2020191060-A</td>\n      <td>JP-2019151335-A</td>\n      <td>JP</td>\n      <td>20201126</td>\n      <td>20190821</td>\n      <td>['廣達電腦股▲ふん▼有限公司Ｑｕａｎｔａ Ｃｏｍｐｕｔｅｒ Ｉｎｃ．', 'Quanta ...</td>\n      <td>67840994</td>\n      <td>[{'code': 'G06F1/20', 'inventive': True, 'firs...</td>\n    </tr>\n    <tr>\n      <th>2</th>\n      <td>2</td>\n      <td>IL-250219-B</td>\n      <td>IL-25021917-A</td>\n      <td>IL</td>\n      <td>20220101</td>\n      <td>20170122</td>\n      <td>['REGANDSY and HATES SARL', 'Loic Bresson', 'S...</td>\n      <td>51352735</td>\n      <td>[]</td>\n    </tr>\n    <tr>\n      <th>3</th>\n      <td>3</td>\n      <td>US-2019015283-A1</td>\n      <td>US-201715648518-A</td>\n      <td>US</td>\n      <td>20190117</td>\n      <td>20170713</td>\n      <td>['James Earl Jackson']</td>\n      <td>65000790</td>\n      <td>[{'code': 'A61H1/00', 'inventive': True, 'firs...</td>\n    </tr>\n    <tr>\n      <th>4</th>\n      <td>4</td>\n      <td>KR-20210078242-A</td>\n      <td>KR-20190170085-A</td>\n      <td>KR</td>\n      <td>20210628</td>\n      <td>20191218</td>\n      <td>['엘지디스플레이 주식회사']</td>\n      <td>76608219</td>\n      <td>[{'code': 'G09F9/30', 'inventive': True, 'firs...</td>\n    </tr>\n    <tr>\n      <th>5</th>\n      <td>5</td>\n      <td>CN-113091512-A</td>\n      <td>CN-202110372226-A</td>\n      <td>CN</td>\n      <td>20210709</td>\n      <td>20210407</td>\n      <td>['合肥英睿系统技术有限公司']</td>\n      <td>76674690</td>\n      <td>[{'code': 'F41G1/46', 'inventive': True, 'firs...</td>\n    </tr>\n    <tr>\n      <th>6</th>\n      <td>6</td>\n      <td>AU-2020285671-A1</td>\n      <td>AU-2020285671-A</td>\n      <td>AU</td>\n      <td>20211209</td>\n      <td>20200527</td>\n      <td>['Kverneland Group Ravenna S.R.L.']</td>\n      <td>67957338</td>\n      <td>[{'code': 'A01F15/10', 'inventive': False, 'fi...</td>\n    </tr>\n    <tr>\n      <th>7</th>\n      <td>7</td>\n      <td>CN-106304518-B</td>\n      <td>CN-201510242673-A</td>\n      <td>CN</td>\n      <td>20190416</td>\n      <td>20150513</td>\n      <td>['华润矽威科技（上海）有限公司']</td>\n      <td>57630890</td>\n      <td>[{'code': 'H05B37/02', 'inventive': True, 'fir...</td>\n    </tr>\n    <tr>\n      <th>8</th>\n      <td>8</td>\n      <td>CN-111657088-A</td>\n      <td>CN-202010566953-A</td>\n      <td>CN</td>\n      <td>20200915</td>\n      <td>20200619</td>\n      <td>['江苏沿江地区农业科学研究所', '如皋市鑫磊生态家庭农场']</td>\n      <td>72388926</td>\n      <td>[{'code': 'C05G3/60', 'inventive': True, 'firs...</td>\n    </tr>\n    <tr>\n      <th>9</th>\n      <td>9</td>\n      <td>CN-114239837-A</td>\n      <td>CN-202111586532-A</td>\n      <td>CN</td>\n      <td>20220325</td>\n      <td>20211223</td>\n      <td>['树根互联股份有限公司']</td>\n      <td>80761871</td>\n      <td>[{'code': 'G06N7/00', 'inventive': True, 'firs...</td>\n    </tr>\n  </tbody>\n</table>\n</div>"
     },
     "execution_count": 95,
     "metadata": {},
     "output_type": "execute_result"
    }
   ],
   "source": [
    "df.head(10)"
   ]
  },
  {
   "cell_type": "code",
   "execution_count": 96,
   "metadata": {},
   "outputs": [
    {
     "data": {
      "text/plain": "(1000000, 9)"
     },
     "execution_count": 96,
     "metadata": {},
     "output_type": "execute_result"
    }
   ],
   "source": [
    "df.shape"
   ]
  },
  {
   "cell_type": "code",
   "execution_count": 97,
   "metadata": {},
   "outputs": [
    {
     "name": "stdout",
     "output_type": "stream",
     "text": [
      "<class 'pandas.core.frame.DataFrame'>\n",
      "RangeIndex: 1000000 entries, 0 to 999999\n",
      "Data columns (total 9 columns):\n",
      " #   Column              Non-Null Count    Dtype \n",
      "---  ------              --------------    ----- \n",
      " 0   Unnamed: 0          1000000 non-null  int64 \n",
      " 1   publication_number  1000000 non-null  object\n",
      " 2   application_number  1000000 non-null  object\n",
      " 3   country_code        1000000 non-null  object\n",
      " 4   publication_date    1000000 non-null  int64 \n",
      " 5   filing_date         1000000 non-null  int64 \n",
      " 6   assignee            1000000 non-null  object\n",
      " 7   family_id           1000000 non-null  int64 \n",
      " 8   ipc                 1000000 non-null  object\n",
      "dtypes: int64(4), object(5)\n",
      "memory usage: 68.7+ MB\n"
     ]
    }
   ],
   "source": [
    "df.info()"
   ]
  },
  {
   "cell_type": "code",
   "execution_count": 98,
   "metadata": {},
   "outputs": [],
   "source": [
    "#Note that there are 0 nulls in the data, however there are nulls in the form of empty lists -- []"
   ]
  },
  {
   "cell_type": "code",
   "execution_count": 99,
   "metadata": {},
   "outputs": [
    {
     "data": {
      "text/plain": "Index(['Unnamed: 0', 'publication_number', 'application_number',\n       'country_code', 'publication_date', 'filing_date', 'assignee',\n       'family_id', 'ipc'],\n      dtype='object')"
     },
     "execution_count": 99,
     "metadata": {},
     "output_type": "execute_result"
    }
   ],
   "source": [
    "df.columns"
   ]
  },
  {
   "cell_type": "code",
   "execution_count": 100,
   "metadata": {},
   "outputs": [],
   "source": [
    "df.drop('Unnamed: 0', axis=1, inplace=True)"
   ]
  },
  {
   "cell_type": "code",
   "execution_count": 101,
   "metadata": {},
   "outputs": [
    {
     "data": {
      "text/plain": "publication_number    object\napplication_number    object\ncountry_code          object\npublication_date       int64\nfiling_date            int64\nassignee              object\nfamily_id              int64\nipc                   object\ndtype: object"
     },
     "execution_count": 101,
     "metadata": {},
     "output_type": "execute_result"
    }
   ],
   "source": [
    "df.dtypes\n",
    "\n",
    "# noting that dates are integers in the form of yyyymmdd - can work well with that, no need change to datetype."
   ]
  },
  {
   "cell_type": "code",
   "execution_count": 102,
   "metadata": {},
   "outputs": [
    {
     "data": {
      "text/plain": "array(['EP', 'JP', 'IL', 'US', 'KR', 'CN', 'AU', 'RU', 'PL', 'DE', 'BR',\n       'FR', 'CA', 'AR', 'ES', 'NL', 'RS', 'TW', 'GB', 'MY', 'PH', 'HU',\n       'TR', 'SG', 'MX', 'EA', 'NO', 'HK', 'AT', 'CH', 'UA', 'ZA', 'CL',\n       'CO', 'SK', 'NZ', 'BE', 'SA', 'BG', 'FI', 'IT', 'LU', 'MA', 'SE',\n       'RO', 'EC', 'PT', 'UY', 'TN', 'PE', 'CZ', 'CR', 'DK', 'SI', 'MD',\n       'LV', 'DO', 'LT', 'ME', 'JO', 'HR', 'GR', 'GE', 'IE', 'CU', 'NI',\n       'SU', 'SV', 'IS', 'EE', 'IN', 'GT', 'MC'], dtype=object)"
     },
     "execution_count": 102,
     "metadata": {},
     "output_type": "execute_result"
    }
   ],
   "source": [
    "country_code_list = df['country_code'].unique()\n",
    "country_code_list"
   ]
  },
  {
   "cell_type": "code",
   "execution_count": 103,
   "outputs": [
    {
     "name": "stdout",
     "output_type": "stream",
     "text": [
      "942611\n"
     ]
    },
    {
     "data": {
      "text/plain": "-1           578\n 57796360     24\n 60804962     14\n 58099621     14\n 51843959     13\n            ... \n 71401298      1\n 59225913      1\n 71945052      1\n 67190721      1\n 62846050      1\nName: family_id, Length: 942611, dtype: int64"
     },
     "execution_count": 103,
     "metadata": {},
     "output_type": "execute_result"
    }
   ],
   "source": [
    "## exploring patent families - looking at single inventive concepts for technology landscaping\n",
    "## Therefore only a single patent per family should be in the dataset\n",
    "print(len(df['family_id'].value_counts()))\n",
    "df['family_id'].value_counts()"
   ],
   "metadata": {
    "collapsed": false
   }
  },
  {
   "cell_type": "code",
   "execution_count": 104,
   "outputs": [],
   "source": [
    "df.drop(df[df['family_id'] == -1].index, inplace=True)"
   ],
   "metadata": {
    "collapsed": false
   }
  },
  {
   "cell_type": "code",
   "execution_count": 105,
   "outputs": [
    {
     "data": {
      "text/plain": "57796360    24\n58099621    14\n60804962    14\n51843959    13\n62948390    13\n            ..\n71401298     1\n59225913     1\n71945052     1\n67190721     1\n62846050     1\nName: family_id, Length: 942610, dtype: int64"
     },
     "execution_count": 105,
     "metadata": {},
     "output_type": "execute_result"
    }
   ],
   "source": [
    "family_count = df['family_id'].value_counts()\n",
    "family_count"
   ],
   "metadata": {
    "collapsed": false
   }
  },
  {
   "cell_type": "code",
   "execution_count": 106,
   "outputs": [
    {
     "data": {
      "text/plain": "       family_ID  patent count\n0       57796360            24\n1       58099621            14\n2       60804962            14\n3       51843959            13\n4       62948390            13\n...          ...           ...\n49278   66379730             2\n49279   72042299             2\n49280   47913210             2\n49281   68534002             2\n49282   60042844             2\n\n[49283 rows x 2 columns]",
      "text/html": "<div>\n<style scoped>\n    .dataframe tbody tr th:only-of-type {\n        vertical-align: middle;\n    }\n\n    .dataframe tbody tr th {\n        vertical-align: top;\n    }\n\n    .dataframe thead th {\n        text-align: right;\n    }\n</style>\n<table border=\"1\" class=\"dataframe\">\n  <thead>\n    <tr style=\"text-align: right;\">\n      <th></th>\n      <th>family_ID</th>\n      <th>patent count</th>\n    </tr>\n  </thead>\n  <tbody>\n    <tr>\n      <th>0</th>\n      <td>57796360</td>\n      <td>24</td>\n    </tr>\n    <tr>\n      <th>1</th>\n      <td>58099621</td>\n      <td>14</td>\n    </tr>\n    <tr>\n      <th>2</th>\n      <td>60804962</td>\n      <td>14</td>\n    </tr>\n    <tr>\n      <th>3</th>\n      <td>51843959</td>\n      <td>13</td>\n    </tr>\n    <tr>\n      <th>4</th>\n      <td>62948390</td>\n      <td>13</td>\n    </tr>\n    <tr>\n      <th>...</th>\n      <td>...</td>\n      <td>...</td>\n    </tr>\n    <tr>\n      <th>49278</th>\n      <td>66379730</td>\n      <td>2</td>\n    </tr>\n    <tr>\n      <th>49279</th>\n      <td>72042299</td>\n      <td>2</td>\n    </tr>\n    <tr>\n      <th>49280</th>\n      <td>47913210</td>\n      <td>2</td>\n    </tr>\n    <tr>\n      <th>49281</th>\n      <td>68534002</td>\n      <td>2</td>\n    </tr>\n    <tr>\n      <th>49282</th>\n      <td>60042844</td>\n      <td>2</td>\n    </tr>\n  </tbody>\n</table>\n<p>49283 rows × 2 columns</p>\n</div>"
     },
     "execution_count": 106,
     "metadata": {},
     "output_type": "execute_result"
    }
   ],
   "source": [
    "#creating dataframe of family counts\n",
    "df_family_counts = pd.DataFrame(family_count)\n",
    "df_family_counts = df_family_counts.reset_index()\n",
    "df_family_counts.columns = ['family_ID', 'patent count'] # change column names\n",
    "df_family_counts.drop(df_family_counts[df_family_counts['patent count'] < 2].index, inplace=True)  ## drop rows which don't have multiple patents in family\n",
    "df_family_counts"
   ],
   "metadata": {
    "collapsed": false
   }
  },
  {
   "cell_type": "code",
   "execution_count": 107,
   "outputs": [
    {
     "data": {
      "text/plain": "56812"
     },
     "execution_count": 107,
     "metadata": {},
     "output_type": "execute_result"
    }
   ],
   "source": [
    "## dropping patents with same family same - ensuring to keep one of the first filed priority patents\n",
    "patents_to_drop = []\n",
    "for id in df_family_counts['family_ID']:\n",
    "    family = df[df['family_id'] == id]  ## for each family id set dataframe to the family\n",
    "    for p in range(len(family)):\n",
    "        patents_to_drop.append(family['application_number'].iloc[p]) ## add all patents in family to drop list\n",
    "    family_priority = family[family['filing_date']==family['filing_date'].min()] ## first filed patents\n",
    "    family_country_count = pd.DataFrame(family_priority['country_code'].value_counts()).reset_index()\n",
    "    top_country = family_country_count['index'][0]\n",
    "    patent_list = family[family['country_code']== top_country] ##most represented territory of originally filed patents as maintained information\n",
    "    patents_to_drop.remove(patent_list['application_number'].iloc[0]) ##take top patent to retain in dataset - dropping the rest\n",
    "\n",
    "len(patents_to_drop)"
   ],
   "metadata": {
    "collapsed": false
   }
  },
  {
   "cell_type": "code",
   "execution_count": 108,
   "outputs": [],
   "source": [
    "# now drop the list of patents\n",
    "df.drop(df[df['application_number'].isin(patents_to_drop)].index, inplace=True)"
   ],
   "metadata": {
    "collapsed": false
   }
  },
  {
   "cell_type": "code",
   "execution_count": 109,
   "outputs": [
    {
     "data": {
      "text/plain": "(933159, 8)"
     },
     "execution_count": 109,
     "metadata": {},
     "output_type": "execute_result"
    }
   ],
   "source": [
    "df.shape # 930,000 rows left"
   ],
   "metadata": {
    "collapsed": false
   }
  },
  {
   "cell_type": "markdown",
   "source": [
    "## Country Code to Country Name Mapping"
   ],
   "metadata": {
    "collapsed": false
   }
  },
  {
   "cell_type": "code",
   "execution_count": 110,
   "metadata": {},
   "outputs": [],
   "source": [
    "## Dictionary mapping each country code to the country - obtained from the world patent organisation website\n",
    "\n",
    "countrycode_lookup = {'AL' : 'Albania',\n",
    "'AP' : 'African Regional Industrial Property Organization',\n",
    "'AR' : 'Argentina',\n",
    "'AT' : 'Austria',\n",
    "'AU' : 'Australia',\n",
    "'BA' : 'Bosnia and Herzegovina',\n",
    "'BE' : 'Belgium',\n",
    "'BG' : 'Bulgaria',\n",
    "'BR' : 'Brazil',\n",
    "'CA' : 'Canada',\n",
    "'CH' : 'Switzerland',\n",
    "'CL' : 'Chile',\n",
    "'CN' : 'China',\n",
    "'CO' : 'Colombia',\n",
    "'CR' : 'Costa Rica',\n",
    "'CS' : 'Czechoslovakia (up to 1993)',\n",
    "'CU' : 'Cuba',\n",
    "'CY' : 'Cyprus',\n",
    "'CZ' : 'Czech Republic',\n",
    "'DD' : 'Germany, excluding the territory that, prior to 3 October 1990, constituted the Federal Republic of Germany',\n",
    "'DE' : 'Germany',\n",
    "'DK' : 'Denmark',\n",
    "'DZ' : 'Algeria',\n",
    "'EA' : 'Eurasian Patent Organisation',\n",
    "'EC' : 'Ecuador',\n",
    "'EE' : 'Estonia',\n",
    "'EG' : 'Egypt',\n",
    "'EP' : 'European Patent Office',\n",
    "'ES' : 'Spain',\n",
    "'FI' : 'Finland',\n",
    "'FR' : 'France',\n",
    "'GB' : 'United Kingdom',\n",
    "'GC' : 'Gulf Cooperation Council',\n",
    "'GE' : 'Georgia',\n",
    "'GR' : 'Greece',\n",
    "'GT' : 'Guatemala',\n",
    "'HK' : 'Hong Kong (China)',\n",
    "'HR' : 'Croatia',\n",
    "'HU' : 'Hungary',\n",
    "'ID' : 'Indonesia',\n",
    "'IE' : 'Ireland',\n",
    "'IL' : 'Israel',\n",
    "'IN' : 'India',\n",
    "'IS' : 'Iceland',\n",
    "'IT' : 'Italy',\n",
    "'JP' : 'Japan',\n",
    "'KE' : 'Kenya',\n",
    "'KR' : 'Republic of Korea',\n",
    "'LI' : 'Liechtenstein',\n",
    "'LT' : 'Lithuania',\n",
    "'LU' : 'Luxembourg',\n",
    "'LV' : 'Latvia',\n",
    "'MA' : 'Morocco',\n",
    "'MC' : 'Monaco',\n",
    "'MD' : 'Republic of Moldova',\n",
    "'ME' : 'Montenegro',\n",
    "'MK' : 'Republic of North Macedonia',\n",
    "'MN' : 'Mongolia',\n",
    "'MT' : 'Malta',\n",
    "'MW' : 'Malawi',\n",
    "'MX' : 'Mexico',\n",
    "'MY' : 'Malaysia',\n",
    "'NC' : 'New Caledonia',\n",
    "'NI' : 'Nicaragua',\n",
    "'NL' : 'Netherlands',\n",
    "'NO' : 'Norway',\n",
    "'NZ' : 'New Zealand',\n",
    "'OA' : 'African Intellectual Property Organization',\n",
    "'PA' : 'Panama',\n",
    "'PE' : 'Peru',\n",
    "'PH' : 'Philippines',\n",
    "'PL' : 'Poland',\n",
    "'PT' : 'Portugal',\n",
    "'RO' : 'Romania',\n",
    "'RS' : 'Serbia',\n",
    "'RU' : 'Russia',\n",
    "'SE' : 'Sweden',\n",
    "'SG' : 'Singapore',\n",
    "'SI' : 'Slovenia',\n",
    "'SK' : 'Slovakia',\n",
    "'SM' : 'San Marino',\n",
    "'SU' : 'Union of Soviet Socialist Republics (USSR)',\n",
    "'SV' : 'El Salvador',\n",
    "'TJ' : 'Tajikistan',\n",
    "'TR' : 'Turkey',\n",
    "'TT' : 'Trinidad and Tobago',\n",
    "'TW' : 'Chinese Taipei',\n",
    "'UA' : 'Ukraine',\n",
    "'US' : 'United States of America',\n",
    "'UY' : 'Uruguay',\n",
    "'VN' : 'Vietnam',\n",
    "'WO' : 'World Intellectual Property Organisation (WIPO)',\n",
    "'YU' : 'Yugoslavia (Serbia and Montenegro)',\n",
    "'ZA' : 'South Africa',\n",
    "'ZM' : 'Zambia',\n",
    "'ZW' : 'Zimbabwe'}"
   ]
  },
  {
   "cell_type": "code",
   "execution_count": 111,
   "outputs": [
    {
     "data": {
      "text/plain": "  publication_number application_number country_code  publication_date  \\\n0      EP-3716307-A1      EP-17932779-A           EP          20200930   \n1    JP-2020191060-A    JP-2019151335-A           JP          20201126   \n2        IL-250219-B      IL-25021917-A           IL          20220101   \n3   US-2019015283-A1  US-201715648518-A           US          20190117   \n4   KR-20210078242-A   KR-20190170085-A           KR          20210628   \n5     CN-113091512-A  CN-202110372226-A           CN          20210709   \n6   AU-2020285671-A1    AU-2020285671-A           AU          20211209   \n7     CN-106304518-B  CN-201510242673-A           CN          20190416   \n8     CN-111657088-A  CN-202010566953-A           CN          20200915   \n9     CN-114239837-A  CN-202111586532-A           CN          20220325   \n\n   filing_date                                           assignee  family_id  \\\n0     20171218  ['The 41st Institute of China Electronics Tech...   62031869   \n1     20190821  ['廣達電腦股▲ふん▼有限公司Ｑｕａｎｔａ Ｃｏｍｐｕｔｅｒ Ｉｎｃ．', 'Quanta ...   67840994   \n2     20170122  ['REGANDSY and HATES SARL', 'Loic Bresson', 'S...   51352735   \n3     20170713                             ['James Earl Jackson']   65000790   \n4     20191218                                   ['엘지디스플레이 주식회사']   76608219   \n5     20210407                                   ['合肥英睿系统技术有限公司']   76674690   \n6     20200527                ['Kverneland Group Ravenna S.R.L.']   67957338   \n7     20150513                                 ['华润矽威科技（上海）有限公司']   57630890   \n8     20200619                   ['江苏沿江地区农业科学研究所', '如皋市鑫磊生态家庭农场']   72388926   \n9     20211223                                     ['树根互联股份有限公司']   80761871   \n\n                                                 ipc              country_name  \n0  [{'code': 'H01H50/00', 'inventive': True, 'fir...    European Patent Office  \n1  [{'code': 'G06F1/20', 'inventive': True, 'firs...                     Japan  \n2                                                 []                    Israel  \n3  [{'code': 'A61H1/00', 'inventive': True, 'firs...  United States of America  \n4  [{'code': 'G09F9/30', 'inventive': True, 'firs...         Republic of Korea  \n5  [{'code': 'F41G1/46', 'inventive': True, 'firs...                     China  \n6  [{'code': 'A01F15/10', 'inventive': False, 'fi...                 Australia  \n7  [{'code': 'H05B37/02', 'inventive': True, 'fir...                     China  \n8  [{'code': 'C05G3/60', 'inventive': True, 'firs...                     China  \n9  [{'code': 'G06N7/00', 'inventive': True, 'firs...                     China  ",
      "text/html": "<div>\n<style scoped>\n    .dataframe tbody tr th:only-of-type {\n        vertical-align: middle;\n    }\n\n    .dataframe tbody tr th {\n        vertical-align: top;\n    }\n\n    .dataframe thead th {\n        text-align: right;\n    }\n</style>\n<table border=\"1\" class=\"dataframe\">\n  <thead>\n    <tr style=\"text-align: right;\">\n      <th></th>\n      <th>publication_number</th>\n      <th>application_number</th>\n      <th>country_code</th>\n      <th>publication_date</th>\n      <th>filing_date</th>\n      <th>assignee</th>\n      <th>family_id</th>\n      <th>ipc</th>\n      <th>country_name</th>\n    </tr>\n  </thead>\n  <tbody>\n    <tr>\n      <th>0</th>\n      <td>EP-3716307-A1</td>\n      <td>EP-17932779-A</td>\n      <td>EP</td>\n      <td>20200930</td>\n      <td>20171218</td>\n      <td>['The 41st Institute of China Electronics Tech...</td>\n      <td>62031869</td>\n      <td>[{'code': 'H01H50/00', 'inventive': True, 'fir...</td>\n      <td>European Patent Office</td>\n    </tr>\n    <tr>\n      <th>1</th>\n      <td>JP-2020191060-A</td>\n      <td>JP-2019151335-A</td>\n      <td>JP</td>\n      <td>20201126</td>\n      <td>20190821</td>\n      <td>['廣達電腦股▲ふん▼有限公司Ｑｕａｎｔａ Ｃｏｍｐｕｔｅｒ Ｉｎｃ．', 'Quanta ...</td>\n      <td>67840994</td>\n      <td>[{'code': 'G06F1/20', 'inventive': True, 'firs...</td>\n      <td>Japan</td>\n    </tr>\n    <tr>\n      <th>2</th>\n      <td>IL-250219-B</td>\n      <td>IL-25021917-A</td>\n      <td>IL</td>\n      <td>20220101</td>\n      <td>20170122</td>\n      <td>['REGANDSY and HATES SARL', 'Loic Bresson', 'S...</td>\n      <td>51352735</td>\n      <td>[]</td>\n      <td>Israel</td>\n    </tr>\n    <tr>\n      <th>3</th>\n      <td>US-2019015283-A1</td>\n      <td>US-201715648518-A</td>\n      <td>US</td>\n      <td>20190117</td>\n      <td>20170713</td>\n      <td>['James Earl Jackson']</td>\n      <td>65000790</td>\n      <td>[{'code': 'A61H1/00', 'inventive': True, 'firs...</td>\n      <td>United States of America</td>\n    </tr>\n    <tr>\n      <th>4</th>\n      <td>KR-20210078242-A</td>\n      <td>KR-20190170085-A</td>\n      <td>KR</td>\n      <td>20210628</td>\n      <td>20191218</td>\n      <td>['엘지디스플레이 주식회사']</td>\n      <td>76608219</td>\n      <td>[{'code': 'G09F9/30', 'inventive': True, 'firs...</td>\n      <td>Republic of Korea</td>\n    </tr>\n    <tr>\n      <th>5</th>\n      <td>CN-113091512-A</td>\n      <td>CN-202110372226-A</td>\n      <td>CN</td>\n      <td>20210709</td>\n      <td>20210407</td>\n      <td>['合肥英睿系统技术有限公司']</td>\n      <td>76674690</td>\n      <td>[{'code': 'F41G1/46', 'inventive': True, 'firs...</td>\n      <td>China</td>\n    </tr>\n    <tr>\n      <th>6</th>\n      <td>AU-2020285671-A1</td>\n      <td>AU-2020285671-A</td>\n      <td>AU</td>\n      <td>20211209</td>\n      <td>20200527</td>\n      <td>['Kverneland Group Ravenna S.R.L.']</td>\n      <td>67957338</td>\n      <td>[{'code': 'A01F15/10', 'inventive': False, 'fi...</td>\n      <td>Australia</td>\n    </tr>\n    <tr>\n      <th>7</th>\n      <td>CN-106304518-B</td>\n      <td>CN-201510242673-A</td>\n      <td>CN</td>\n      <td>20190416</td>\n      <td>20150513</td>\n      <td>['华润矽威科技（上海）有限公司']</td>\n      <td>57630890</td>\n      <td>[{'code': 'H05B37/02', 'inventive': True, 'fir...</td>\n      <td>China</td>\n    </tr>\n    <tr>\n      <th>8</th>\n      <td>CN-111657088-A</td>\n      <td>CN-202010566953-A</td>\n      <td>CN</td>\n      <td>20200915</td>\n      <td>20200619</td>\n      <td>['江苏沿江地区农业科学研究所', '如皋市鑫磊生态家庭农场']</td>\n      <td>72388926</td>\n      <td>[{'code': 'C05G3/60', 'inventive': True, 'firs...</td>\n      <td>China</td>\n    </tr>\n    <tr>\n      <th>9</th>\n      <td>CN-114239837-A</td>\n      <td>CN-202111586532-A</td>\n      <td>CN</td>\n      <td>20220325</td>\n      <td>20211223</td>\n      <td>['树根互联股份有限公司']</td>\n      <td>80761871</td>\n      <td>[{'code': 'G06N7/00', 'inventive': True, 'firs...</td>\n      <td>China</td>\n    </tr>\n  </tbody>\n</table>\n</div>"
     },
     "execution_count": 111,
     "metadata": {},
     "output_type": "execute_result"
    }
   ],
   "source": [
    "## mapping new column country_name to lookup dictionary\n",
    "\n",
    "df['country_name'] = df['country_code']\n",
    "df['country_name'] = df['country_name'].map(countrycode_lookup)\n",
    "df.head(10)"
   ],
   "metadata": {
    "collapsed": false
   }
  },
  {
   "cell_type": "markdown",
   "source": [
    "# IPC Code Mapping & IPC column cleaning"
   ],
   "metadata": {
    "collapsed": false
   }
  },
  {
   "cell_type": "code",
   "execution_count": 112,
   "outputs": [
    {
     "data": {
      "text/plain": "\"[{'code': 'H01H50/00', 'inventive': True, 'first': True, 'tree': []}]\""
     },
     "execution_count": 112,
     "metadata": {},
     "output_type": "execute_result"
    }
   ],
   "source": [
    "(df['ipc'][0])\n",
    "## ipc column is str type"
   ],
   "metadata": {
    "collapsed": false
   }
  },
  {
   "cell_type": "code",
   "execution_count": 113,
   "outputs": [
    {
     "name": "stdout",
     "output_type": "stream",
     "text": [
      "[{'code': 'H01H50/00', 'inventive': True, 'first': True, 'tree': []}]\n",
      "[{'code': 'G06F1/20', 'inventive': True, 'first': True, 'tree': []}, {'code': 'H05K7/20', 'inventive': True, 'first': False, 'tree': []}, {'code': 'G06F1/16', 'inventive': True, 'first': False, 'tree': []}]\n",
      "[]\n",
      "[{'code': 'A61H1/00', 'inventive': True, 'first': True, 'tree': []}, {'code': 'A41C1/00', 'inventive': True, 'first': False, 'tree': []}]\n",
      "[{'code': 'G09F9/30', 'inventive': True, 'first': True, 'tree': []}, {'code': 'G06F1/16', 'inventive': True, 'first': False, 'tree': []}, {'code': 'H01L51/00', 'inventive': True, 'first': False, 'tree': []}]\n",
      "[{'code': 'F41G1/46', 'inventive': True, 'first': True, 'tree': []}, {'code': 'F41G1/473', 'inventive': True, 'first': False, 'tree': []}]\n",
      "[{'code': 'A01F15/10', 'inventive': False, 'first': False, 'tree': []}, {'code': 'A01F15/00', 'inventive': True, 'first': True, 'tree': []}]\n",
      "[{'code': 'H05B37/02', 'inventive': True, 'first': True, 'tree': []}]\n",
      "[{'code': 'C05G3/60', 'inventive': True, 'first': False, 'tree': []}, {'code': 'C05F11/00', 'inventive': True, 'first': False, 'tree': []}, {'code': 'A01N65/30', 'inventive': True, 'first': False, 'tree': []}, {'code': 'A01P3/00', 'inventive': True, 'first': False, 'tree': []}, {'code': 'A01G22/20', 'inventive': True, 'first': False, 'tree': []}, {'code': 'A01P1/00', 'inventive': True, 'first': False, 'tree': []}, {'code': 'A01B79/02', 'inventive': True, 'first': False, 'tree': []}, {'code': 'A01P7/00', 'inventive': True, 'first': False, 'tree': []}, {'code': 'A01N59/00', 'inventive': True, 'first': False, 'tree': []}, {'code': 'A01N43/16', 'inventive': True, 'first': False, 'tree': []}, {'code': 'A01G22/40', 'inventive': True, 'first': True, 'tree': []}]\n",
      "[{'code': 'G06N7/00', 'inventive': True, 'first': True, 'tree': []}]\n"
     ]
    }
   ],
   "source": [
    "## Exploration of the contents of the ipc column - looking at first 50 full\n",
    "for i in range(10):\n",
    "    print(df['ipc'][i])"
   ],
   "metadata": {
    "collapsed": false
   }
  },
  {
   "cell_type": "code",
   "execution_count": 113,
   "outputs": [],
   "source": [],
   "metadata": {
    "collapsed": false
   }
  },
  {
   "cell_type": "code",
   "execution_count": 114,
   "outputs": [],
   "source": [
    "def ipc_clean(string):\n",
    "    ''' Function to clean ipc column to into a clean list of the stated IPC codes only'''\n",
    "    string = string.replace('[','')\n",
    "    string = string.replace(']','')\n",
    "    string = string.replace('{','')\n",
    "    string = string.replace('}','')\n",
    "    string = string.replace(\"'\",'')\n",
    "    string = string.replace(':','')\n",
    "    string = string.replace(',','')\n",
    "    string = string.replace('code','')\n",
    "    string = string.replace('True','')\n",
    "    string = string.replace('False','')\n",
    "    string = string.replace('inventive','')\n",
    "    string = string.replace('first','')\n",
    "    string = string.replace('tree','')\n",
    "    string = string.strip()\n",
    "    string = string.split()\n",
    "    return string\n"
   ],
   "metadata": {
    "collapsed": false
   }
  },
  {
   "cell_type": "code",
   "execution_count": 115,
   "outputs": [
    {
     "data": {
      "text/plain": "  publication_number application_number country_code  publication_date  \\\n0      EP-3716307-A1      EP-17932779-A           EP          20200930   \n1    JP-2020191060-A    JP-2019151335-A           JP          20201126   \n2        IL-250219-B      IL-25021917-A           IL          20220101   \n3   US-2019015283-A1  US-201715648518-A           US          20190117   \n4   KR-20210078242-A   KR-20190170085-A           KR          20210628   \n5     CN-113091512-A  CN-202110372226-A           CN          20210709   \n6   AU-2020285671-A1    AU-2020285671-A           AU          20211209   \n7     CN-106304518-B  CN-201510242673-A           CN          20190416   \n8     CN-111657088-A  CN-202010566953-A           CN          20200915   \n9     CN-114239837-A  CN-202111586532-A           CN          20220325   \n\n   filing_date                                           assignee  family_id  \\\n0     20171218  ['The 41st Institute of China Electronics Tech...   62031869   \n1     20190821  ['廣達電腦股▲ふん▼有限公司Ｑｕａｎｔａ Ｃｏｍｐｕｔｅｒ Ｉｎｃ．', 'Quanta ...   67840994   \n2     20170122  ['REGANDSY and HATES SARL', 'Loic Bresson', 'S...   51352735   \n3     20170713                             ['James Earl Jackson']   65000790   \n4     20191218                                   ['엘지디스플레이 주식회사']   76608219   \n5     20210407                                   ['合肥英睿系统技术有限公司']   76674690   \n6     20200527                ['Kverneland Group Ravenna S.R.L.']   67957338   \n7     20150513                                 ['华润矽威科技（上海）有限公司']   57630890   \n8     20200619                   ['江苏沿江地区农业科学研究所', '如皋市鑫磊生态家庭农场']   72388926   \n9     20211223                                     ['树根互联股份有限公司']   80761871   \n\n                                                 ipc  \\\n0  [{'code': 'H01H50/00', 'inventive': True, 'fir...   \n1  [{'code': 'G06F1/20', 'inventive': True, 'firs...   \n2                                                 []   \n3  [{'code': 'A61H1/00', 'inventive': True, 'firs...   \n4  [{'code': 'G09F9/30', 'inventive': True, 'firs...   \n5  [{'code': 'F41G1/46', 'inventive': True, 'firs...   \n6  [{'code': 'A01F15/10', 'inventive': False, 'fi...   \n7  [{'code': 'H05B37/02', 'inventive': True, 'fir...   \n8  [{'code': 'C05G3/60', 'inventive': True, 'firs...   \n9  [{'code': 'G06N7/00', 'inventive': True, 'firs...   \n\n               country_name                                     ipc_codes_full  \n0    European Patent Office                                        [H01H50/00]  \n1                     Japan                     [G06F1/20, H05K7/20, G06F1/16]  \n2                    Israel                                                 []  \n3  United States of America                               [A61H1/00, A41C1/00]  \n4         Republic of Korea                    [G09F9/30, G06F1/16, H01L51/00]  \n5                     China                              [F41G1/46, F41G1/473]  \n6                 Australia                             [A01F15/10, A01F15/00]  \n7                     China                                        [H05B37/02]  \n8                     China  [C05G3/60, C05F11/00, A01N65/30, A01P3/00, A01...  \n9                     China                                         [G06N7/00]  ",
      "text/html": "<div>\n<style scoped>\n    .dataframe tbody tr th:only-of-type {\n        vertical-align: middle;\n    }\n\n    .dataframe tbody tr th {\n        vertical-align: top;\n    }\n\n    .dataframe thead th {\n        text-align: right;\n    }\n</style>\n<table border=\"1\" class=\"dataframe\">\n  <thead>\n    <tr style=\"text-align: right;\">\n      <th></th>\n      <th>publication_number</th>\n      <th>application_number</th>\n      <th>country_code</th>\n      <th>publication_date</th>\n      <th>filing_date</th>\n      <th>assignee</th>\n      <th>family_id</th>\n      <th>ipc</th>\n      <th>country_name</th>\n      <th>ipc_codes_full</th>\n    </tr>\n  </thead>\n  <tbody>\n    <tr>\n      <th>0</th>\n      <td>EP-3716307-A1</td>\n      <td>EP-17932779-A</td>\n      <td>EP</td>\n      <td>20200930</td>\n      <td>20171218</td>\n      <td>['The 41st Institute of China Electronics Tech...</td>\n      <td>62031869</td>\n      <td>[{'code': 'H01H50/00', 'inventive': True, 'fir...</td>\n      <td>European Patent Office</td>\n      <td>[H01H50/00]</td>\n    </tr>\n    <tr>\n      <th>1</th>\n      <td>JP-2020191060-A</td>\n      <td>JP-2019151335-A</td>\n      <td>JP</td>\n      <td>20201126</td>\n      <td>20190821</td>\n      <td>['廣達電腦股▲ふん▼有限公司Ｑｕａｎｔａ Ｃｏｍｐｕｔｅｒ Ｉｎｃ．', 'Quanta ...</td>\n      <td>67840994</td>\n      <td>[{'code': 'G06F1/20', 'inventive': True, 'firs...</td>\n      <td>Japan</td>\n      <td>[G06F1/20, H05K7/20, G06F1/16]</td>\n    </tr>\n    <tr>\n      <th>2</th>\n      <td>IL-250219-B</td>\n      <td>IL-25021917-A</td>\n      <td>IL</td>\n      <td>20220101</td>\n      <td>20170122</td>\n      <td>['REGANDSY and HATES SARL', 'Loic Bresson', 'S...</td>\n      <td>51352735</td>\n      <td>[]</td>\n      <td>Israel</td>\n      <td>[]</td>\n    </tr>\n    <tr>\n      <th>3</th>\n      <td>US-2019015283-A1</td>\n      <td>US-201715648518-A</td>\n      <td>US</td>\n      <td>20190117</td>\n      <td>20170713</td>\n      <td>['James Earl Jackson']</td>\n      <td>65000790</td>\n      <td>[{'code': 'A61H1/00', 'inventive': True, 'firs...</td>\n      <td>United States of America</td>\n      <td>[A61H1/00, A41C1/00]</td>\n    </tr>\n    <tr>\n      <th>4</th>\n      <td>KR-20210078242-A</td>\n      <td>KR-20190170085-A</td>\n      <td>KR</td>\n      <td>20210628</td>\n      <td>20191218</td>\n      <td>['엘지디스플레이 주식회사']</td>\n      <td>76608219</td>\n      <td>[{'code': 'G09F9/30', 'inventive': True, 'firs...</td>\n      <td>Republic of Korea</td>\n      <td>[G09F9/30, G06F1/16, H01L51/00]</td>\n    </tr>\n    <tr>\n      <th>5</th>\n      <td>CN-113091512-A</td>\n      <td>CN-202110372226-A</td>\n      <td>CN</td>\n      <td>20210709</td>\n      <td>20210407</td>\n      <td>['合肥英睿系统技术有限公司']</td>\n      <td>76674690</td>\n      <td>[{'code': 'F41G1/46', 'inventive': True, 'firs...</td>\n      <td>China</td>\n      <td>[F41G1/46, F41G1/473]</td>\n    </tr>\n    <tr>\n      <th>6</th>\n      <td>AU-2020285671-A1</td>\n      <td>AU-2020285671-A</td>\n      <td>AU</td>\n      <td>20211209</td>\n      <td>20200527</td>\n      <td>['Kverneland Group Ravenna S.R.L.']</td>\n      <td>67957338</td>\n      <td>[{'code': 'A01F15/10', 'inventive': False, 'fi...</td>\n      <td>Australia</td>\n      <td>[A01F15/10, A01F15/00]</td>\n    </tr>\n    <tr>\n      <th>7</th>\n      <td>CN-106304518-B</td>\n      <td>CN-201510242673-A</td>\n      <td>CN</td>\n      <td>20190416</td>\n      <td>20150513</td>\n      <td>['华润矽威科技（上海）有限公司']</td>\n      <td>57630890</td>\n      <td>[{'code': 'H05B37/02', 'inventive': True, 'fir...</td>\n      <td>China</td>\n      <td>[H05B37/02]</td>\n    </tr>\n    <tr>\n      <th>8</th>\n      <td>CN-111657088-A</td>\n      <td>CN-202010566953-A</td>\n      <td>CN</td>\n      <td>20200915</td>\n      <td>20200619</td>\n      <td>['江苏沿江地区农业科学研究所', '如皋市鑫磊生态家庭农场']</td>\n      <td>72388926</td>\n      <td>[{'code': 'C05G3/60', 'inventive': True, 'firs...</td>\n      <td>China</td>\n      <td>[C05G3/60, C05F11/00, A01N65/30, A01P3/00, A01...</td>\n    </tr>\n    <tr>\n      <th>9</th>\n      <td>CN-114239837-A</td>\n      <td>CN-202111586532-A</td>\n      <td>CN</td>\n      <td>20220325</td>\n      <td>20211223</td>\n      <td>['树根互联股份有限公司']</td>\n      <td>80761871</td>\n      <td>[{'code': 'G06N7/00', 'inventive': True, 'firs...</td>\n      <td>China</td>\n      <td>[G06N7/00]</td>\n    </tr>\n  </tbody>\n</table>\n</div>"
     },
     "execution_count": 115,
     "metadata": {},
     "output_type": "execute_result"
    }
   ],
   "source": [
    "## apply the ipc clean function to the ipc row as a new row - ipc_codes_full\n",
    "df['ipc_codes_full'] = df['ipc']\n",
    "\n",
    "df['ipc_codes_full'] = df.apply(lambda x: ipc_clean(x['ipc_codes_full']), axis=1)\n",
    "\n",
    "df.head(10)"
   ],
   "metadata": {
    "collapsed": false
   }
  },
  {
   "cell_type": "code",
   "execution_count": 116,
   "outputs": [],
   "source": [
    "## Drop all rows with no ipc code\n",
    "df.drop(df[df['ipc_codes_full'].map(len) == 0].index, inplace=True)"
   ],
   "metadata": {
    "collapsed": false
   }
  },
  {
   "cell_type": "code",
   "execution_count": 117,
   "outputs": [
    {
     "data": {
      "text/plain": "(921461, 10)"
     },
     "execution_count": 117,
     "metadata": {},
     "output_type": "execute_result"
    }
   ],
   "source": [
    "df.shape  ## about 14000 rows dropped"
   ],
   "metadata": {
    "collapsed": false
   }
  },
  {
   "cell_type": "code",
   "execution_count": 118,
   "outputs": [
    {
     "data": {
      "text/plain": "['G06', 'H05', 'G06']"
     },
     "execution_count": 118,
     "metadata": {},
     "output_type": "execute_result"
    }
   ],
   "source": [
    "## this works for extracting the subclasses from the ipc column\n",
    "[x[:3] for x in df['ipc_codes_full'][1]]"
   ],
   "metadata": {
    "collapsed": false
   }
  },
  {
   "cell_type": "code",
   "execution_count": 119,
   "outputs": [],
   "source": [
    "def ipc_subclass_extract(list):\n",
    "    return set([x[:3] for x in list])"
   ],
   "metadata": {
    "collapsed": false
   }
  },
  {
   "cell_type": "code",
   "execution_count": 120,
   "outputs": [
    {
     "data": {
      "text/plain": "   publication_number application_number country_code  publication_date  \\\n0       EP-3716307-A1      EP-17932779-A           EP          20200930   \n1     JP-2020191060-A    JP-2019151335-A           JP          20201126   \n3    US-2019015283-A1  US-201715648518-A           US          20190117   \n4    KR-20210078242-A   KR-20190170085-A           KR          20210628   \n5      CN-113091512-A  CN-202110372226-A           CN          20210709   \n6    AU-2020285671-A1    AU-2020285671-A           AU          20211209   \n7      CN-106304518-B  CN-201510242673-A           CN          20190416   \n8      CN-111657088-A  CN-202010566953-A           CN          20200915   \n9      CN-114239837-A  CN-202111586532-A           CN          20220325   \n10    JP-2021176159-A    JP-2020081026-A           JP          20211104   \n\n    filing_date                                           assignee  family_id  \\\n0      20171218  ['The 41st Institute of China Electronics Tech...   62031869   \n1      20190821  ['廣達電腦股▲ふん▼有限公司Ｑｕａｎｔａ Ｃｏｍｐｕｔｅｒ Ｉｎｃ．', 'Quanta ...   67840994   \n3      20170713                             ['James Earl Jackson']   65000790   \n4      20191218                                   ['엘지디스플레이 주식회사']   76608219   \n5      20210407                                   ['合肥英睿系统技术有限公司']   76674690   \n6      20200527                ['Kverneland Group Ravenna S.R.L.']   67957338   \n7      20150513                                 ['华润矽威科技（上海）有限公司']   57630890   \n8      20200619                   ['江苏沿江地区农业科学研究所', '如皋市鑫磊生态家庭农场']   72388926   \n9      20211223                                     ['树根互联股份有限公司']   80761871   \n10     20200501  ['三菱電機エンジニアリング株式会社', 'Mitsubishi Electric Engi...   78300495   \n\n                                                  ipc  \\\n0   [{'code': 'H01H50/00', 'inventive': True, 'fir...   \n1   [{'code': 'G06F1/20', 'inventive': True, 'firs...   \n3   [{'code': 'A61H1/00', 'inventive': True, 'firs...   \n4   [{'code': 'G09F9/30', 'inventive': True, 'firs...   \n5   [{'code': 'F41G1/46', 'inventive': True, 'firs...   \n6   [{'code': 'A01F15/10', 'inventive': False, 'fi...   \n7   [{'code': 'H05B37/02', 'inventive': True, 'fir...   \n8   [{'code': 'C05G3/60', 'inventive': True, 'firs...   \n9   [{'code': 'G06N7/00', 'inventive': True, 'firs...   \n10  [{'code': 'H01L35/06', 'inventive': True, 'fir...   \n\n                country_name  \\\n0     European Patent Office   \n1                      Japan   \n3   United States of America   \n4          Republic of Korea   \n5                      China   \n6                  Australia   \n7                      China   \n8                      China   \n9                      China   \n10                     Japan   \n\n                                       ipc_codes_full     ipc_subclass  \n0                                         [H01H50/00]            {H01}  \n1                      [G06F1/20, H05K7/20, G06F1/16]       {H05, G06}  \n3                                [A61H1/00, A41C1/00]       {A61, A41}  \n4                     [G09F9/30, G06F1/16, H01L51/00]  {H01, G09, G06}  \n5                               [F41G1/46, F41G1/473]            {F41}  \n6                              [A01F15/10, A01F15/00]            {A01}  \n7                                         [H05B37/02]            {H05}  \n8   [C05G3/60, C05F11/00, A01N65/30, A01P3/00, A01...       {C05, A01}  \n9                                          [G06N7/00]            {G06}  \n10                             [H01L35/06, H02N11/00]       {H02, H01}  ",
      "text/html": "<div>\n<style scoped>\n    .dataframe tbody tr th:only-of-type {\n        vertical-align: middle;\n    }\n\n    .dataframe tbody tr th {\n        vertical-align: top;\n    }\n\n    .dataframe thead th {\n        text-align: right;\n    }\n</style>\n<table border=\"1\" class=\"dataframe\">\n  <thead>\n    <tr style=\"text-align: right;\">\n      <th></th>\n      <th>publication_number</th>\n      <th>application_number</th>\n      <th>country_code</th>\n      <th>publication_date</th>\n      <th>filing_date</th>\n      <th>assignee</th>\n      <th>family_id</th>\n      <th>ipc</th>\n      <th>country_name</th>\n      <th>ipc_codes_full</th>\n      <th>ipc_subclass</th>\n    </tr>\n  </thead>\n  <tbody>\n    <tr>\n      <th>0</th>\n      <td>EP-3716307-A1</td>\n      <td>EP-17932779-A</td>\n      <td>EP</td>\n      <td>20200930</td>\n      <td>20171218</td>\n      <td>['The 41st Institute of China Electronics Tech...</td>\n      <td>62031869</td>\n      <td>[{'code': 'H01H50/00', 'inventive': True, 'fir...</td>\n      <td>European Patent Office</td>\n      <td>[H01H50/00]</td>\n      <td>{H01}</td>\n    </tr>\n    <tr>\n      <th>1</th>\n      <td>JP-2020191060-A</td>\n      <td>JP-2019151335-A</td>\n      <td>JP</td>\n      <td>20201126</td>\n      <td>20190821</td>\n      <td>['廣達電腦股▲ふん▼有限公司Ｑｕａｎｔａ Ｃｏｍｐｕｔｅｒ Ｉｎｃ．', 'Quanta ...</td>\n      <td>67840994</td>\n      <td>[{'code': 'G06F1/20', 'inventive': True, 'firs...</td>\n      <td>Japan</td>\n      <td>[G06F1/20, H05K7/20, G06F1/16]</td>\n      <td>{H05, G06}</td>\n    </tr>\n    <tr>\n      <th>3</th>\n      <td>US-2019015283-A1</td>\n      <td>US-201715648518-A</td>\n      <td>US</td>\n      <td>20190117</td>\n      <td>20170713</td>\n      <td>['James Earl Jackson']</td>\n      <td>65000790</td>\n      <td>[{'code': 'A61H1/00', 'inventive': True, 'firs...</td>\n      <td>United States of America</td>\n      <td>[A61H1/00, A41C1/00]</td>\n      <td>{A61, A41}</td>\n    </tr>\n    <tr>\n      <th>4</th>\n      <td>KR-20210078242-A</td>\n      <td>KR-20190170085-A</td>\n      <td>KR</td>\n      <td>20210628</td>\n      <td>20191218</td>\n      <td>['엘지디스플레이 주식회사']</td>\n      <td>76608219</td>\n      <td>[{'code': 'G09F9/30', 'inventive': True, 'firs...</td>\n      <td>Republic of Korea</td>\n      <td>[G09F9/30, G06F1/16, H01L51/00]</td>\n      <td>{H01, G09, G06}</td>\n    </tr>\n    <tr>\n      <th>5</th>\n      <td>CN-113091512-A</td>\n      <td>CN-202110372226-A</td>\n      <td>CN</td>\n      <td>20210709</td>\n      <td>20210407</td>\n      <td>['合肥英睿系统技术有限公司']</td>\n      <td>76674690</td>\n      <td>[{'code': 'F41G1/46', 'inventive': True, 'firs...</td>\n      <td>China</td>\n      <td>[F41G1/46, F41G1/473]</td>\n      <td>{F41}</td>\n    </tr>\n    <tr>\n      <th>6</th>\n      <td>AU-2020285671-A1</td>\n      <td>AU-2020285671-A</td>\n      <td>AU</td>\n      <td>20211209</td>\n      <td>20200527</td>\n      <td>['Kverneland Group Ravenna S.R.L.']</td>\n      <td>67957338</td>\n      <td>[{'code': 'A01F15/10', 'inventive': False, 'fi...</td>\n      <td>Australia</td>\n      <td>[A01F15/10, A01F15/00]</td>\n      <td>{A01}</td>\n    </tr>\n    <tr>\n      <th>7</th>\n      <td>CN-106304518-B</td>\n      <td>CN-201510242673-A</td>\n      <td>CN</td>\n      <td>20190416</td>\n      <td>20150513</td>\n      <td>['华润矽威科技（上海）有限公司']</td>\n      <td>57630890</td>\n      <td>[{'code': 'H05B37/02', 'inventive': True, 'fir...</td>\n      <td>China</td>\n      <td>[H05B37/02]</td>\n      <td>{H05}</td>\n    </tr>\n    <tr>\n      <th>8</th>\n      <td>CN-111657088-A</td>\n      <td>CN-202010566953-A</td>\n      <td>CN</td>\n      <td>20200915</td>\n      <td>20200619</td>\n      <td>['江苏沿江地区农业科学研究所', '如皋市鑫磊生态家庭农场']</td>\n      <td>72388926</td>\n      <td>[{'code': 'C05G3/60', 'inventive': True, 'firs...</td>\n      <td>China</td>\n      <td>[C05G3/60, C05F11/00, A01N65/30, A01P3/00, A01...</td>\n      <td>{C05, A01}</td>\n    </tr>\n    <tr>\n      <th>9</th>\n      <td>CN-114239837-A</td>\n      <td>CN-202111586532-A</td>\n      <td>CN</td>\n      <td>20220325</td>\n      <td>20211223</td>\n      <td>['树根互联股份有限公司']</td>\n      <td>80761871</td>\n      <td>[{'code': 'G06N7/00', 'inventive': True, 'firs...</td>\n      <td>China</td>\n      <td>[G06N7/00]</td>\n      <td>{G06}</td>\n    </tr>\n    <tr>\n      <th>10</th>\n      <td>JP-2021176159-A</td>\n      <td>JP-2020081026-A</td>\n      <td>JP</td>\n      <td>20211104</td>\n      <td>20200501</td>\n      <td>['三菱電機エンジニアリング株式会社', 'Mitsubishi Electric Engi...</td>\n      <td>78300495</td>\n      <td>[{'code': 'H01L35/06', 'inventive': True, 'fir...</td>\n      <td>Japan</td>\n      <td>[H01L35/06, H02N11/00]</td>\n      <td>{H02, H01}</td>\n    </tr>\n  </tbody>\n</table>\n</div>"
     },
     "execution_count": 120,
     "metadata": {},
     "output_type": "execute_result"
    }
   ],
   "source": [
    "df['ipc_subclass'] = df['ipc_codes_full']\n",
    "\n",
    "df['ipc_subclass'] = df.apply(lambda x: ipc_subclass_extract(x['ipc_subclass']), axis=1)\n",
    "\n",
    "df.head(10)"
   ],
   "metadata": {
    "collapsed": false
   }
  },
  {
   "cell_type": "code",
   "execution_count": 121,
   "outputs": [
    {
     "data": {
      "text/plain": "{'G', 'H'}"
     },
     "execution_count": 121,
     "metadata": {},
     "output_type": "execute_result"
    }
   ],
   "source": [
    "set([x[0] for x in df['ipc_codes_full'][1]])"
   ],
   "metadata": {
    "collapsed": false
   }
  },
  {
   "cell_type": "code",
   "execution_count": 122,
   "outputs": [],
   "source": [
    "# get each class letter for each patent\n",
    "def ipc_class_extract(list):\n",
    "    return set([x[0] for x in list])"
   ],
   "metadata": {
    "collapsed": false
   }
  },
  {
   "cell_type": "code",
   "execution_count": 123,
   "outputs": [
    {
     "data": {
      "text/plain": "   publication_number application_number country_code  publication_date  \\\n0       EP-3716307-A1      EP-17932779-A           EP          20200930   \n1     JP-2020191060-A    JP-2019151335-A           JP          20201126   \n3    US-2019015283-A1  US-201715648518-A           US          20190117   \n4    KR-20210078242-A   KR-20190170085-A           KR          20210628   \n5      CN-113091512-A  CN-202110372226-A           CN          20210709   \n6    AU-2020285671-A1    AU-2020285671-A           AU          20211209   \n7      CN-106304518-B  CN-201510242673-A           CN          20190416   \n8      CN-111657088-A  CN-202010566953-A           CN          20200915   \n9      CN-114239837-A  CN-202111586532-A           CN          20220325   \n10    JP-2021176159-A    JP-2020081026-A           JP          20211104   \n\n    filing_date                                           assignee  family_id  \\\n0      20171218  ['The 41st Institute of China Electronics Tech...   62031869   \n1      20190821  ['廣達電腦股▲ふん▼有限公司Ｑｕａｎｔａ Ｃｏｍｐｕｔｅｒ Ｉｎｃ．', 'Quanta ...   67840994   \n3      20170713                             ['James Earl Jackson']   65000790   \n4      20191218                                   ['엘지디스플레이 주식회사']   76608219   \n5      20210407                                   ['合肥英睿系统技术有限公司']   76674690   \n6      20200527                ['Kverneland Group Ravenna S.R.L.']   67957338   \n7      20150513                                 ['华润矽威科技（上海）有限公司']   57630890   \n8      20200619                   ['江苏沿江地区农业科学研究所', '如皋市鑫磊生态家庭农场']   72388926   \n9      20211223                                     ['树根互联股份有限公司']   80761871   \n10     20200501  ['三菱電機エンジニアリング株式会社', 'Mitsubishi Electric Engi...   78300495   \n\n                                                  ipc  \\\n0   [{'code': 'H01H50/00', 'inventive': True, 'fir...   \n1   [{'code': 'G06F1/20', 'inventive': True, 'firs...   \n3   [{'code': 'A61H1/00', 'inventive': True, 'firs...   \n4   [{'code': 'G09F9/30', 'inventive': True, 'firs...   \n5   [{'code': 'F41G1/46', 'inventive': True, 'firs...   \n6   [{'code': 'A01F15/10', 'inventive': False, 'fi...   \n7   [{'code': 'H05B37/02', 'inventive': True, 'fir...   \n8   [{'code': 'C05G3/60', 'inventive': True, 'firs...   \n9   [{'code': 'G06N7/00', 'inventive': True, 'firs...   \n10  [{'code': 'H01L35/06', 'inventive': True, 'fir...   \n\n                country_name  \\\n0     European Patent Office   \n1                      Japan   \n3   United States of America   \n4          Republic of Korea   \n5                      China   \n6                  Australia   \n7                      China   \n8                      China   \n9                      China   \n10                     Japan   \n\n                                       ipc_codes_full     ipc_subclass  \\\n0                                         [H01H50/00]            {H01}   \n1                      [G06F1/20, H05K7/20, G06F1/16]       {H05, G06}   \n3                                [A61H1/00, A41C1/00]       {A61, A41}   \n4                     [G09F9/30, G06F1/16, H01L51/00]  {H01, G09, G06}   \n5                               [F41G1/46, F41G1/473]            {F41}   \n6                              [A01F15/10, A01F15/00]            {A01}   \n7                                         [H05B37/02]            {H05}   \n8   [C05G3/60, C05F11/00, A01N65/30, A01P3/00, A01...       {C05, A01}   \n9                                          [G06N7/00]            {G06}   \n10                             [H01L35/06, H02N11/00]       {H02, H01}   \n\n   ipc_class  \n0        {H}  \n1     {G, H}  \n3        {A}  \n4     {G, H}  \n5        {F}  \n6        {A}  \n7        {H}  \n8     {A, C}  \n9        {G}  \n10       {H}  ",
      "text/html": "<div>\n<style scoped>\n    .dataframe tbody tr th:only-of-type {\n        vertical-align: middle;\n    }\n\n    .dataframe tbody tr th {\n        vertical-align: top;\n    }\n\n    .dataframe thead th {\n        text-align: right;\n    }\n</style>\n<table border=\"1\" class=\"dataframe\">\n  <thead>\n    <tr style=\"text-align: right;\">\n      <th></th>\n      <th>publication_number</th>\n      <th>application_number</th>\n      <th>country_code</th>\n      <th>publication_date</th>\n      <th>filing_date</th>\n      <th>assignee</th>\n      <th>family_id</th>\n      <th>ipc</th>\n      <th>country_name</th>\n      <th>ipc_codes_full</th>\n      <th>ipc_subclass</th>\n      <th>ipc_class</th>\n    </tr>\n  </thead>\n  <tbody>\n    <tr>\n      <th>0</th>\n      <td>EP-3716307-A1</td>\n      <td>EP-17932779-A</td>\n      <td>EP</td>\n      <td>20200930</td>\n      <td>20171218</td>\n      <td>['The 41st Institute of China Electronics Tech...</td>\n      <td>62031869</td>\n      <td>[{'code': 'H01H50/00', 'inventive': True, 'fir...</td>\n      <td>European Patent Office</td>\n      <td>[H01H50/00]</td>\n      <td>{H01}</td>\n      <td>{H}</td>\n    </tr>\n    <tr>\n      <th>1</th>\n      <td>JP-2020191060-A</td>\n      <td>JP-2019151335-A</td>\n      <td>JP</td>\n      <td>20201126</td>\n      <td>20190821</td>\n      <td>['廣達電腦股▲ふん▼有限公司Ｑｕａｎｔａ Ｃｏｍｐｕｔｅｒ Ｉｎｃ．', 'Quanta ...</td>\n      <td>67840994</td>\n      <td>[{'code': 'G06F1/20', 'inventive': True, 'firs...</td>\n      <td>Japan</td>\n      <td>[G06F1/20, H05K7/20, G06F1/16]</td>\n      <td>{H05, G06}</td>\n      <td>{G, H}</td>\n    </tr>\n    <tr>\n      <th>3</th>\n      <td>US-2019015283-A1</td>\n      <td>US-201715648518-A</td>\n      <td>US</td>\n      <td>20190117</td>\n      <td>20170713</td>\n      <td>['James Earl Jackson']</td>\n      <td>65000790</td>\n      <td>[{'code': 'A61H1/00', 'inventive': True, 'firs...</td>\n      <td>United States of America</td>\n      <td>[A61H1/00, A41C1/00]</td>\n      <td>{A61, A41}</td>\n      <td>{A}</td>\n    </tr>\n    <tr>\n      <th>4</th>\n      <td>KR-20210078242-A</td>\n      <td>KR-20190170085-A</td>\n      <td>KR</td>\n      <td>20210628</td>\n      <td>20191218</td>\n      <td>['엘지디스플레이 주식회사']</td>\n      <td>76608219</td>\n      <td>[{'code': 'G09F9/30', 'inventive': True, 'firs...</td>\n      <td>Republic of Korea</td>\n      <td>[G09F9/30, G06F1/16, H01L51/00]</td>\n      <td>{H01, G09, G06}</td>\n      <td>{G, H}</td>\n    </tr>\n    <tr>\n      <th>5</th>\n      <td>CN-113091512-A</td>\n      <td>CN-202110372226-A</td>\n      <td>CN</td>\n      <td>20210709</td>\n      <td>20210407</td>\n      <td>['合肥英睿系统技术有限公司']</td>\n      <td>76674690</td>\n      <td>[{'code': 'F41G1/46', 'inventive': True, 'firs...</td>\n      <td>China</td>\n      <td>[F41G1/46, F41G1/473]</td>\n      <td>{F41}</td>\n      <td>{F}</td>\n    </tr>\n    <tr>\n      <th>6</th>\n      <td>AU-2020285671-A1</td>\n      <td>AU-2020285671-A</td>\n      <td>AU</td>\n      <td>20211209</td>\n      <td>20200527</td>\n      <td>['Kverneland Group Ravenna S.R.L.']</td>\n      <td>67957338</td>\n      <td>[{'code': 'A01F15/10', 'inventive': False, 'fi...</td>\n      <td>Australia</td>\n      <td>[A01F15/10, A01F15/00]</td>\n      <td>{A01}</td>\n      <td>{A}</td>\n    </tr>\n    <tr>\n      <th>7</th>\n      <td>CN-106304518-B</td>\n      <td>CN-201510242673-A</td>\n      <td>CN</td>\n      <td>20190416</td>\n      <td>20150513</td>\n      <td>['华润矽威科技（上海）有限公司']</td>\n      <td>57630890</td>\n      <td>[{'code': 'H05B37/02', 'inventive': True, 'fir...</td>\n      <td>China</td>\n      <td>[H05B37/02]</td>\n      <td>{H05}</td>\n      <td>{H}</td>\n    </tr>\n    <tr>\n      <th>8</th>\n      <td>CN-111657088-A</td>\n      <td>CN-202010566953-A</td>\n      <td>CN</td>\n      <td>20200915</td>\n      <td>20200619</td>\n      <td>['江苏沿江地区农业科学研究所', '如皋市鑫磊生态家庭农场']</td>\n      <td>72388926</td>\n      <td>[{'code': 'C05G3/60', 'inventive': True, 'firs...</td>\n      <td>China</td>\n      <td>[C05G3/60, C05F11/00, A01N65/30, A01P3/00, A01...</td>\n      <td>{C05, A01}</td>\n      <td>{A, C}</td>\n    </tr>\n    <tr>\n      <th>9</th>\n      <td>CN-114239837-A</td>\n      <td>CN-202111586532-A</td>\n      <td>CN</td>\n      <td>20220325</td>\n      <td>20211223</td>\n      <td>['树根互联股份有限公司']</td>\n      <td>80761871</td>\n      <td>[{'code': 'G06N7/00', 'inventive': True, 'firs...</td>\n      <td>China</td>\n      <td>[G06N7/00]</td>\n      <td>{G06}</td>\n      <td>{G}</td>\n    </tr>\n    <tr>\n      <th>10</th>\n      <td>JP-2021176159-A</td>\n      <td>JP-2020081026-A</td>\n      <td>JP</td>\n      <td>20211104</td>\n      <td>20200501</td>\n      <td>['三菱電機エンジニアリング株式会社', 'Mitsubishi Electric Engi...</td>\n      <td>78300495</td>\n      <td>[{'code': 'H01L35/06', 'inventive': True, 'fir...</td>\n      <td>Japan</td>\n      <td>[H01L35/06, H02N11/00]</td>\n      <td>{H02, H01}</td>\n      <td>{H}</td>\n    </tr>\n  </tbody>\n</table>\n</div>"
     },
     "execution_count": 123,
     "metadata": {},
     "output_type": "execute_result"
    }
   ],
   "source": [
    "df['ipc_class'] = df['ipc_codes_full']\n",
    "\n",
    "df['ipc_class'] = df.apply(lambda x: ipc_class_extract(x['ipc_class']), axis=1)\n",
    "\n",
    "df.head(10)"
   ],
   "metadata": {
    "collapsed": false
   }
  },
  {
   "cell_type": "code",
   "execution_count": 124,
   "outputs": [],
   "source": [
    "## Dictionary mapping each subclass to the subclass description - obtained from the world patent organisation website\n",
    "ipc_subclass_mapping = {'A01' : 'AGRICULTURE; FORESTRY; ANIMAL HUSBANDRY; HUNTING; TRAPPING; FISHING',\n",
    "            'A21' : 'BAKING; EQUIPMENT FOR MAKING OR PROCESSING DOUGHS; DOUGHS FOR BAKING',\n",
    "            'A22' : 'BUTCHERING; MEAT TREATMENT; PROCESSING POULTRY OR FISH',\n",
    "            'A23' : 'FOODS OR FOODSTUFFS; TREATMENT THEREOF, NOT COVERED BY OTHER CLASSES',\n",
    "            'A24' : \"TOBACCO; CIGARS; CIGARETTES; SIMULATED SMOKING DEVICES; SMOKERS'REQUISITES\",\n",
    "            'A41' : 'WEARING APPAREL',\n",
    "            'A42' : 'HEADWEAR',\n",
    "            'A43' : 'FOOTWEAR',\n",
    "            'A44' : 'HABERDASHERY; JEWELLERY',\n",
    "            'A45' : 'HAND OR TRAVELLING ARTICLES',\n",
    "            'A46' : 'BRUSHWARE',\n",
    "            'A47' : 'FURNITURE; DOMESTIC ARTICLES OR APPLIANCES; COFFEE MILLS; SPICE MILLS; SUCTION CLEANERS IN GENERAL',\n",
    "            'A61' : 'MEDICAL OR VETERINARY SCIENCE; HYGIENE',\n",
    "            'A62' : 'LIFE-SAVING; FIRE-FIGHTING',\n",
    "            'A63' : 'SPORTS; GAMES; AMUSEMENTS',\n",
    "            'A99' : 'SUBJECT MATTER NOT OTHERWISE PROVIDED FOR IN THIS SECTION',\n",
    "            'B01' : 'PHYSICAL OR CHEMICAL PROCESSES OR APPARATUS IN GENERAL',\n",
    "            'B02' : 'CRUSHING, PULVERISING, OR DISINTEGRATING; PREPARATORY TREATMENT OF GRAIN FOR MILLING',\n",
    "            'B03' : 'SEPARATION OF SOLID MATERIALS USING LIQUIDS OR USING PNEUMATIC TABLES OR JIGS; MAGNETIC OR ELECTROSTATIC SEPARATION OF SOLID MATERIALS FROM SOLID MATERIALS OR FLUIDS; SEPARATION BY HIGH-VOLTAGE ELECTRIC FIELDS',\n",
    "            'B04' : 'CENTRIFUGAL APPARATUS OR MACHINES FOR CARRYING-OUT PHYSICAL OR CHEMICAL PROCESSES',\n",
    "            'B05' : 'SPRAYING OR ATOMISING IN GENERAL; APPLYING FLUENT MATERIALS TO SURFACES, IN GENERAL',\n",
    "            'B06' : 'GENERATING OR TRANSMITTING MECHANICAL VIBRATIONS IN GENERAL',\n",
    "            'B07' : 'SEPARATING SOLIDS FROM SOLIDS; SORTING',\n",
    "            'B08' : 'CLEANING',\n",
    "            'B09' : 'DISPOSAL OF SOLID WASTE; RECLAMATION OF CONTAMINATED SOIL',\n",
    "            'B21' : 'MECHANICAL METAL-WORKING WITHOUT ESSENTIALLY REMOVING MATERIAL; PUNCHING METAL',\n",
    "            'B22' : 'CASTING; POWDER METALLURGY',\n",
    "            'B23' : 'MACHINE TOOLS; METAL-WORKING NOT OTHERWISE PROVIDED FOR',\n",
    "            'B24' : 'GRINDING; POLISHING',\n",
    "            'B25' : 'HAND TOOLS; PORTABLE POWER-DRIVEN TOOLS; HANDLES FOR HAND IMPLEMENTS; WORKSHOP EQUIPMENT; MANIPULATORS',\n",
    "            'B26' : 'HAND CUTTING TOOLS; CUTTING; SEVERING',\n",
    "            'B27' : 'WORKING OR PRESERVING WOOD OR SIMILAR MATERIAL; NAILING OR STAPLING MACHINES IN GENERAL',\n",
    "            'B28' : 'WORKING CEMENT, CLAY, OR STONE',\n",
    "            'B29' : 'WORKING OF PLASTICS; WORKING OF SUBSTANCES IN A PLASTIC STATE IN GENERAL',\n",
    "            'B30' : 'PRESSES',\n",
    "            'B31' : 'MAKING ARTICLES OF PAPER, CARDBOARD OR MATERIAL WORKED IN A MANNER ANALOGOUS TO PAPER; WORKING PAPER, CARDBOARD OR MATERIAL WORKED IN A MANNER ANALOGOUS TO PAPER',\n",
    "            'B32' : 'LAYERED PRODUCTS',\n",
    "            'B33' : 'ADDITIVE MANUFACTURING TECHNOLOGY',\n",
    "            'B41' : 'PRINTING; LINING MACHINES; TYPEWRITERS; STAMPS',\n",
    "            'B42' : 'BOOKBINDING; ALBUMS; FILES; SPECIAL PRINTED MATTER',\n",
    "            'B43' : 'WRITING OR DRAWING IMPLEMENTS; BUREAU ACCESSORIES',\n",
    "            'B44' : 'DECORATIVE ARTS',\n",
    "            'B60' : 'VEHICLES IN GENERAL',\n",
    "            'B61' : 'RAILWAYS',\n",
    "            'B62' : 'LAND VEHICLES FOR TRAVELLING OTHERWISE THAN ON RAILS',\n",
    "            'B63' : 'SHIPS OR OTHER WATERBORNE VESSELS; RELATED EQUIPMENT',\n",
    "            'B64' : 'AIRCRAFT; AVIATION; COSMONAUTICS',\n",
    "            'B65' : 'CONVEYING; PACKING; STORING; HANDLING THIN OR FILAMENTARY MATERIAL',\n",
    "            'B66' : 'HOISTING; LIFTING; HAULING',\n",
    "            'B67' : 'OPENING OR CLOSING BOTTLES, JARS OR SIMILAR CONTAINERS; LIQUID HANDLING',\n",
    "            'B68' : 'SADDLERY; UPHOLSTERY',\n",
    "            'B81' : 'MICROSTRUCTURAL TECHNOLOGY',\n",
    "            'B82' : 'NANOTECHNOLOGY',\n",
    "            'B99' : 'SUBJECT MATTER NOT OTHERWISE PROVIDED FOR IN THIS SECTION',\n",
    "            'C01' : 'INORGANIC CHEMISTRY',\n",
    "            'C02' : 'TREATMENT OF WATER, WASTE WATER, SEWAGE, OR SLUDGE',\n",
    "            'C03' : 'GLASS; MINERAL OR SLAG WOOL',\n",
    "            'C04' : 'CEMENTS; CONCRETE; ARTIFICIAL STONE; CERAMICS; REFRACTORIES',\n",
    "            'C05' : 'FERTILISERS; MANUFACTURE THEREOF',\n",
    "            'C06' : 'EXPLOSIVES; MATCHES',\n",
    "            'C07' : 'ORGANIC CHEMISTRY',\n",
    "            'C08' : 'ORGANIC MACROMOLECULAR COMPOUNDS; THEIR PREPARATION OR CHEMICAL WORKING-UP; COMPOSITIONS BASED THEREON',\n",
    "            'C09' : 'DYES; PAINTS; POLISHES; NATURAL RESINS; ADHESIVES; COMPOSITIONS NOT OTHERWISE PROVIDED FOR; APPLICATIONS OF MATERIALS NOT OTHERWISE PROVIDED FOR',\n",
    "            'C10' : 'PETROLEUM, GAS OR COKE INDUSTRIES; TECHNICAL GASES CONTAINING CARBON MONOXIDE; FUELS; LUBRICANTS; PEAT',\n",
    "            'C11' : 'ANIMAL OR VEGETABLE OILS, FATS, FATTY SUBSTANCES OR WAXES; FATTY ACIDS THEREFROM; DETERGENTS; CANDLES',\n",
    "            'C12' : 'BIOCHEMISTRY; BEER; SPIRITS; WINE; VINEGAR; MICROBIOLOGY; ENZYMOLOGY; MUTATION OR GENETIC ENGINEERING',\n",
    "            'C13' : 'SUGAR INDUSTRY',\n",
    "            'C14' : 'SKINS; HIDES; PELTS OR LEATHER',\n",
    "            'C21' : 'METALLURGY OF IRON',\n",
    "            'C22' : 'METALLURGY; FERROUS OR NON-FERROUS ALLOYS; TREATMENT OF ALLOYS OR NON-FERROUS METALS',\n",
    "            'C23' : 'COATING METALLIC MATERIAL; COATING MATERIAL WITH METALLIC MATERIAL; CHEMICAL SURFACE TREATMENT; DIFFUSION TREATMENT OF METALLIC MATERIAL; COATING BY VACUUM EVAPORATION, BY SPUTTERING, BY ION IMPLANTATION OR BY CHEMICAL VAPOUR DEPOSITION, IN GENERAL; INHIBITING CORROSION OF METALLIC MATERIAL OR INCRUSTATION IN GENERAL',\n",
    "            'C25' : 'ELECTROLYTIC OR ELECTROPHORETIC PROCESSES; APPARATUS THEREFOR',\n",
    "            'C30' : 'CRYSTAL GROWTH',\n",
    "            'C40' : 'COMBINATORIAL TECHNOLOGY',\n",
    "            'C99' : 'SUBJECT MATTER NOT OTHERWISE PROVIDED FOR IN THIS SECTION',\n",
    "            'D01' : 'NATURAL OR MAN-MADE THREADS OR FIBRES; SPINNING',\n",
    "            'D02' : 'YARNS; MECHANICAL FINISHING OF YARNS OR ROPES; WARPING OR BEAMING',\n",
    "            'D03' : 'WEAVING',\n",
    "            'D04' : 'BRAIDING; LACE-MAKING; KNITTING; TRIMMINGS; NON-WOVEN FABRICS',\n",
    "            'D05' : 'SEWING; EMBROIDERING; TUFTING',\n",
    "            'D06' : 'TREATMENT OF TEXTILES OR THE LIKE; LAUNDERING; FLEXIBLE MATERIALS NOT OTHERWISE PROVIDED FOR',\n",
    "            'D07' : 'ROPES; CABLES OTHER THAN ELECTRIC',\n",
    "            'D21' : 'PAPER-MAKING; PRODUCTION OF CELLULOSE',\n",
    "            'D99' : 'SUBJECT MATTER NOT OTHERWISE PROVIDED FOR IN THIS SECTION',\n",
    "            'E01' : 'CONSTRUCTION OF ROADS, RAILWAYS, OR BRIDGES',\n",
    "            'E02' : 'HYDRAULIC ENGINEERING; FOUNDATIONS; SOIL-SHIFTING',\n",
    "            'E03' : 'WATER SUPPLY; SEWERAGE',\n",
    "            'E04' : 'BUILDING',\n",
    "            'E05' : 'LOCKS; KEYS; WINDOW OR DOOR FITTINGS; SAFES',\n",
    "            'E06' : 'DOORS, WINDOWS, SHUTTERS, OR ROLLER BLINDS, IN GENERAL; LADDERS',\n",
    "            'E21' : 'EARTH OR ROCK DRILLING; MINING',\n",
    "            'E99' : 'SUBJECT MATTER NOT OTHERWISE PROVIDED FOR IN THIS SECTION',\n",
    "            'F01' : 'MACHINES OR ENGINES IN GENERAL; ENGINE PLANTS IN GENERAL; STEAM ENGINES',\n",
    "            'F02' : 'COMBUSTION ENGINES; HOT-GAS OR COMBUSTION-PRODUCT ENGINE PLANTS',\n",
    "            'F03' : 'MACHINES OR ENGINES FOR LIQUIDS; WIND, SPRING, OR WEIGHT MOTORS; PRODUCING MECHANICAL POWER OR A REACTIVE PROPULSIVE THRUST, NOT OTHERWISE PROVIDED FOR',\n",
    "            'F04' : 'POSITIVE-DISPLACEMENT MACHINES FOR LIQUIDS; PUMPS FOR LIQUIDS OR ELASTIC FLUIDS',\n",
    "            'F15' : 'FLUID-PRESSURE ACTUATORS; HYDRAULICS OR PNEUMATICS IN GENERAL',\n",
    "            'F16' : 'ENGINEERING ELEMENTS OR UNITS; GENERAL MEASURES FOR PRODUCING AND MAINTAINING EFFECTIVE FUNCTIONING OF MACHINES OR INSTALLATIONS; THERMAL INSULATION IN GENERAL',\n",
    "            'F17' : 'STORING OR DISTRIBUTING GASES OR LIQUIDS',\n",
    "            'F21' : 'LIGHTING',\n",
    "            'F22' : 'STEAM GENERATION',\n",
    "            'F23' : 'COMBUSTION APPARATUS; COMBUSTION PROCESSES',\n",
    "            'F24' : 'HEATING; RANGES; VENTILATING',\n",
    "            'F25' : 'REFRIGERATION OR COOLING; COMBINED HEATING AND REFRIGERATION SYSTEMS; HEAT PUMP SYSTEMS; MANUFACTURE OR STORAGE OF ICE; LIQUEFACTION OR SOLIDIFICATION OF GASES',\n",
    "            'F26' : 'DRYING',\n",
    "            'F27' : 'FURNACES; KILNS, OVENS OR RETORTS',\n",
    "            'F28' : 'HEAT EXCHANGE IN GENERAL',\n",
    "            'F41' : 'WEAPONS',\n",
    "            'F42' : 'AMMUNITION; BLASTING',\n",
    "            'F99' : 'SUBJECT MATTER NOT OTHERWISE PROVIDED FOR IN THIS SECTION',\n",
    "            'G01' : 'MEASURING; TESTING',\n",
    "            'G02' : 'OPTICS',\n",
    "            'G03' : 'PHOTOGRAPHY; CINEMATOGRAPHY; ANALOGOUS TECHNIQUES USING WAVES OTHER THAN OPTICAL WAVES; ELECTROGRAPHY; HOLOGRAPHY',\n",
    "            'G04' : 'HOROLOGY',\n",
    "            'G05' : 'CONTROLLING; REGULATING',\n",
    "            'G06' : 'COMPUTING; CALCULATING OR COUNTING',\n",
    "            'G07' : 'CHECKING-DEVICES',\n",
    "            'G08' : 'SIGNALLING',\n",
    "            'G09' : 'EDUCATING; CRYPTOGRAPHY; DISPLAY; ADVERTISING; SEALS',\n",
    "            'G10' : 'MUSICAL INSTRUMENTS; ACOUSTICS',\n",
    "            'G11' : 'INFORMATION STORAGE',\n",
    "            'G12' : 'INSTRUMENT DETAILS',\n",
    "            'G16' : 'INFORMATION AND COMMUNICATION TECHNOLOGY [ICT] SPECIALLY ADAPTED FOR SPECIFIC APPLICATION FIELDS',\n",
    "            'G21' : 'NUCLEAR PHYSICS; NUCLEAR ENGINEERING',\n",
    "            'G99' : 'SUBJECT MATTER NOT OTHERWISE PROVIDED FOR IN THIS SECTION',\n",
    "            'H01' : 'BASIC ELECTRIC ELEMENTS',\n",
    "            'H02' : 'GENERATION, CONVERSION, OR DISTRIBUTION OF ELECTRIC POWER',\n",
    "            'H03' : 'BASIC ELECTRONIC CIRCUITRY',\n",
    "            'H04' : 'ELECTRIC COMMUNICATION TECHNIQUE',\n",
    "            'H05' : 'ELECTRIC TECHNIQUES NOT OTHERWISE PROVIDED FOR',\n",
    "            'H99' : 'SUBJECT MATTER NOT OTHERWISE PROVIDED FOR IN THIS SECTION',\n",
    "            }"
   ],
   "metadata": {
    "collapsed": false
   }
  },
  {
   "cell_type": "code",
   "execution_count": 125,
   "outputs": [],
   "source": [
    "## Dictionary mapping each category description to the group of category codes - obtained from the world patent organisation website\n",
    "ipc_category = {'AGRICULTURE' : ['A01'],\n",
    "'FOODSTUFFS; TOBACCO' : ['A21', 'A22', 'A23', 'A24'],\n",
    "'PERSONAL OR DOMESTIC ARTICLES' : ['A41', 'A42','A43','A44','A45','A46','A47'],\n",
    "'HEALTH; LIFE-SAVING; AMUSEMENT' : ['A61', 'A62', 'A63'],\n",
    "'HUMAN NECESSITIES - OTHER' : ['A99'],\n",
    "'SEPARATING; MIXING' : ['B01','B02','B03','B04','B05','B06','B07','B08','B09'],\n",
    "'SHAPING' : ['B21','B22','B23','B24','B25','B26','B27','B28','B29','B30','B31','B32','B33'],\n",
    "'PRINTING' : ['B41','B42','B43','B44'],\n",
    "'TRANSPORTING' : ['B60','B61','B62','B63','B64','B65','B66','B67','B68'],\n",
    "'MICROSTRUCTURAL TECHNOLOGY; NANOTECHNOLOGY' : ['B81','B82'],\n",
    "'PERFORMING OPERATIONS; TRANSPORTING - OTHER' : ['B99'],\n",
    "'CHEMISTRY' : ['C01','C02','C03','C04','C05','C06','C07','C08','C09','C10','C11','C12','C13','C14'],\n",
    "'METALLURGY' : ['C21','C22','C23','C25','C30'],\n",
    "'COMBINATORIAL TECHNOLOGY' : ['C40'],\n",
    "'CHEMISTRY - OTHER' : ['C99'],\n",
    "'TEXTILES OR FLEXIBLE MATERIALS' : ['D01','D02','D03','D04','D05','D06','D07'],\n",
    "'PAPER' : ['D21'],\n",
    "'TEXTILES - OTHER' : ['D99'],\n",
    "'BUILDING' : ['E01','E02','E03','E04','E05','E06'],\n",
    "'EARTH OR ROCK DRILLING; MINING' : ['E21'],\n",
    "'FIXED CONSTRUCTIONS - OTHER' : ['E99'],\n",
    "'ENGINES OR PUMPS' : ['F01','F02','F03','F04'],\n",
    "'ENGINEERING IN GENERAL' : ['F15','F16','F17'],\n",
    "'LIGHTING; HEATING' : ['F21','F22','F23','F24','F25','F26','F27','F28'],\n",
    "'WEAPONS; BLASTING' : ['F41','F42'],\n",
    "'ENGINEERING - OTHER' : ['F99'],\n",
    "'PHYSICS' : ['G01','G02','G03','G04','G05','G06','G07','G08','G09','G10','G11','G12','G16','G21','G99'],\n",
    "'ELECTRICITY' : ['H01','H02','H03','H04','H05','H99']}"
   ],
   "metadata": {
    "collapsed": false
   }
  },
  {
   "cell_type": "code",
   "execution_count": 126,
   "outputs": [],
   "source": [
    "## Dictionary mapping each class to the class description - obtained from the world patent organisation website\n",
    "ipc_class = {'A' : 'HUMAN NECESSITIES',\n",
    "             'B': 'PERFORMING OPERATIONS; TRANSPORTING',\n",
    "             'C' : 'CHEMISTRY; METALLURGY',\n",
    "             'D' : 'TEXTILES; PAPER' ,\n",
    "             'E' : 'FIXED CONSTRUCTIONS' ,\n",
    "             'F' : 'MECHANICAL ENGINEERING; LIGHTING; HEATING; WEAPONS; BLASTING',\n",
    "             'G' : 'PHYSICS',\n",
    "             'H' : 'ELECTRICITY'}"
   ],
   "metadata": {
    "collapsed": false
   }
  },
  {
   "cell_type": "code",
   "execution_count": 126,
   "outputs": [],
   "source": [],
   "metadata": {
    "collapsed": false
   }
  },
  {
   "cell_type": "markdown",
   "source": [
    "## Patents by Territory Analysis"
   ],
   "metadata": {
    "collapsed": false
   }
  },
  {
   "cell_type": "code",
   "execution_count": 127,
   "outputs": [
    {
     "data": {
      "text/plain": "CN    462481\nUS    144679\nJP     92468\nEP     68402\nKR     58783\n       ...  \nEE         5\nSV         4\nIS         3\nMC         1\nSA         1\nName: country_code, Length: 72, dtype: int64"
     },
     "execution_count": 127,
     "metadata": {},
     "output_type": "execute_result"
    }
   ],
   "source": [
    "country_count = df['country_code'].value_counts()\n",
    "country_count"
   ],
   "metadata": {
    "collapsed": false
   }
  },
  {
   "cell_type": "code",
   "execution_count": 128,
   "outputs": [
    {
     "data": {
      "text/plain": "   country code  patent count\n0            CN        462481\n1            US        144679\n2            JP         92468\n3            EP         68402\n4            KR         58783\n..          ...           ...\n67           EE             5\n68           SV             4\n69           IS             3\n70           MC             1\n71           SA             1\n\n[72 rows x 2 columns]",
      "text/html": "<div>\n<style scoped>\n    .dataframe tbody tr th:only-of-type {\n        vertical-align: middle;\n    }\n\n    .dataframe tbody tr th {\n        vertical-align: top;\n    }\n\n    .dataframe thead th {\n        text-align: right;\n    }\n</style>\n<table border=\"1\" class=\"dataframe\">\n  <thead>\n    <tr style=\"text-align: right;\">\n      <th></th>\n      <th>country code</th>\n      <th>patent count</th>\n    </tr>\n  </thead>\n  <tbody>\n    <tr>\n      <th>0</th>\n      <td>CN</td>\n      <td>462481</td>\n    </tr>\n    <tr>\n      <th>1</th>\n      <td>US</td>\n      <td>144679</td>\n    </tr>\n    <tr>\n      <th>2</th>\n      <td>JP</td>\n      <td>92468</td>\n    </tr>\n    <tr>\n      <th>3</th>\n      <td>EP</td>\n      <td>68402</td>\n    </tr>\n    <tr>\n      <th>4</th>\n      <td>KR</td>\n      <td>58783</td>\n    </tr>\n    <tr>\n      <th>...</th>\n      <td>...</td>\n      <td>...</td>\n    </tr>\n    <tr>\n      <th>67</th>\n      <td>EE</td>\n      <td>5</td>\n    </tr>\n    <tr>\n      <th>68</th>\n      <td>SV</td>\n      <td>4</td>\n    </tr>\n    <tr>\n      <th>69</th>\n      <td>IS</td>\n      <td>3</td>\n    </tr>\n    <tr>\n      <th>70</th>\n      <td>MC</td>\n      <td>1</td>\n    </tr>\n    <tr>\n      <th>71</th>\n      <td>SA</td>\n      <td>1</td>\n    </tr>\n  </tbody>\n</table>\n<p>72 rows × 2 columns</p>\n</div>"
     },
     "execution_count": 128,
     "metadata": {},
     "output_type": "execute_result"
    }
   ],
   "source": [
    "# converting country_count to data frame and assigning new names to the columns\n",
    "df_country = pd.DataFrame(country_count)\n",
    "df_country = df_country.reset_index()\n",
    "df_country.columns = ['country code', 'patent count'] # change column names\n",
    "df_country"
   ],
   "metadata": {
    "collapsed": false
   }
  },
  {
   "cell_type": "code",
   "execution_count": 129,
   "outputs": [
    {
     "data": {
      "text/plain": "   country code  patent count              country_name\n0            CN        462481                     China\n1            US        144679  United States of America\n2            JP         92468                     Japan\n3            EP         68402    European Patent Office\n4            KR         58783         Republic of Korea\n..          ...           ...                       ...\n67           EE             5                   Estonia\n68           SV             4               El Salvador\n69           IS             3                   Iceland\n70           MC             1                    Monaco\n71           SA             1                       NaN\n\n[72 rows x 3 columns]",
      "text/html": "<div>\n<style scoped>\n    .dataframe tbody tr th:only-of-type {\n        vertical-align: middle;\n    }\n\n    .dataframe tbody tr th {\n        vertical-align: top;\n    }\n\n    .dataframe thead th {\n        text-align: right;\n    }\n</style>\n<table border=\"1\" class=\"dataframe\">\n  <thead>\n    <tr style=\"text-align: right;\">\n      <th></th>\n      <th>country code</th>\n      <th>patent count</th>\n      <th>country_name</th>\n    </tr>\n  </thead>\n  <tbody>\n    <tr>\n      <th>0</th>\n      <td>CN</td>\n      <td>462481</td>\n      <td>China</td>\n    </tr>\n    <tr>\n      <th>1</th>\n      <td>US</td>\n      <td>144679</td>\n      <td>United States of America</td>\n    </tr>\n    <tr>\n      <th>2</th>\n      <td>JP</td>\n      <td>92468</td>\n      <td>Japan</td>\n    </tr>\n    <tr>\n      <th>3</th>\n      <td>EP</td>\n      <td>68402</td>\n      <td>European Patent Office</td>\n    </tr>\n    <tr>\n      <th>4</th>\n      <td>KR</td>\n      <td>58783</td>\n      <td>Republic of Korea</td>\n    </tr>\n    <tr>\n      <th>...</th>\n      <td>...</td>\n      <td>...</td>\n      <td>...</td>\n    </tr>\n    <tr>\n      <th>67</th>\n      <td>EE</td>\n      <td>5</td>\n      <td>Estonia</td>\n    </tr>\n    <tr>\n      <th>68</th>\n      <td>SV</td>\n      <td>4</td>\n      <td>El Salvador</td>\n    </tr>\n    <tr>\n      <th>69</th>\n      <td>IS</td>\n      <td>3</td>\n      <td>Iceland</td>\n    </tr>\n    <tr>\n      <th>70</th>\n      <td>MC</td>\n      <td>1</td>\n      <td>Monaco</td>\n    </tr>\n    <tr>\n      <th>71</th>\n      <td>SA</td>\n      <td>1</td>\n      <td>NaN</td>\n    </tr>\n  </tbody>\n</table>\n<p>72 rows × 3 columns</p>\n</div>"
     },
     "execution_count": 129,
     "metadata": {},
     "output_type": "execute_result"
    }
   ],
   "source": [
    "df_country['country_name'] = df_country['country code']\n",
    "df_country['country_name'] = df_country['country_name'].map(countrycode_lookup)\n",
    "df_country"
   ],
   "metadata": {
    "collapsed": false
   }
  },
  {
   "cell_type": "code",
   "execution_count": 130,
   "outputs": [
    {
     "data": {
      "text/plain": "   country code  patent count              country_name  proportion_%\n0            CN        462481                     China     50.189970\n1            US        144679  United States of America     15.701044\n2            JP         92468                     Japan     10.034934\n3            EP         68402    European Patent Office      7.423212\n4            KR         58783         Republic of Korea      6.379326\n..          ...           ...                       ...           ...\n67           EE             5                   Estonia      0.000543\n68           SV             4               El Salvador      0.000434\n69           IS             3                   Iceland      0.000326\n70           MC             1                    Monaco      0.000109\n71           SA             1                       NaN      0.000109\n\n[72 rows x 4 columns]",
      "text/html": "<div>\n<style scoped>\n    .dataframe tbody tr th:only-of-type {\n        vertical-align: middle;\n    }\n\n    .dataframe tbody tr th {\n        vertical-align: top;\n    }\n\n    .dataframe thead th {\n        text-align: right;\n    }\n</style>\n<table border=\"1\" class=\"dataframe\">\n  <thead>\n    <tr style=\"text-align: right;\">\n      <th></th>\n      <th>country code</th>\n      <th>patent count</th>\n      <th>country_name</th>\n      <th>proportion_%</th>\n    </tr>\n  </thead>\n  <tbody>\n    <tr>\n      <th>0</th>\n      <td>CN</td>\n      <td>462481</td>\n      <td>China</td>\n      <td>50.189970</td>\n    </tr>\n    <tr>\n      <th>1</th>\n      <td>US</td>\n      <td>144679</td>\n      <td>United States of America</td>\n      <td>15.701044</td>\n    </tr>\n    <tr>\n      <th>2</th>\n      <td>JP</td>\n      <td>92468</td>\n      <td>Japan</td>\n      <td>10.034934</td>\n    </tr>\n    <tr>\n      <th>3</th>\n      <td>EP</td>\n      <td>68402</td>\n      <td>European Patent Office</td>\n      <td>7.423212</td>\n    </tr>\n    <tr>\n      <th>4</th>\n      <td>KR</td>\n      <td>58783</td>\n      <td>Republic of Korea</td>\n      <td>6.379326</td>\n    </tr>\n    <tr>\n      <th>...</th>\n      <td>...</td>\n      <td>...</td>\n      <td>...</td>\n      <td>...</td>\n    </tr>\n    <tr>\n      <th>67</th>\n      <td>EE</td>\n      <td>5</td>\n      <td>Estonia</td>\n      <td>0.000543</td>\n    </tr>\n    <tr>\n      <th>68</th>\n      <td>SV</td>\n      <td>4</td>\n      <td>El Salvador</td>\n      <td>0.000434</td>\n    </tr>\n    <tr>\n      <th>69</th>\n      <td>IS</td>\n      <td>3</td>\n      <td>Iceland</td>\n      <td>0.000326</td>\n    </tr>\n    <tr>\n      <th>70</th>\n      <td>MC</td>\n      <td>1</td>\n      <td>Monaco</td>\n      <td>0.000109</td>\n    </tr>\n    <tr>\n      <th>71</th>\n      <td>SA</td>\n      <td>1</td>\n      <td>NaN</td>\n      <td>0.000109</td>\n    </tr>\n  </tbody>\n</table>\n<p>72 rows × 4 columns</p>\n</div>"
     },
     "execution_count": 130,
     "metadata": {},
     "output_type": "execute_result"
    }
   ],
   "source": [
    "df_country['proportion_%'] = (df_country['patent count']/df_country['patent count'].sum())*100\n",
    "df_country"
   ],
   "metadata": {
    "collapsed": false
   }
  },
  {
   "cell_type": "code",
   "execution_count": 131,
   "outputs": [
    {
     "data": {
      "text/plain": "<Figure size 640x480 with 1 Axes>",
      "image/png": "[encoded data removed]"
     },
     "metadata": {},
     "output_type": "display_data"
    }
   ],
   "source": [
    "# create initial plot of patents by country\n",
    "sns.barplot(x = 'country_name', y = 'patent count', data = df_country.head(10),\n",
    "            palette = 'hls'\n",
    "            )\n",
    "\n",
    "plt.show()"
   ],
   "metadata": {
    "collapsed": false
   }
  },
  {
   "cell_type": "markdown",
   "source": [
    "China is clearly the leader in nuber of patents filed globally in the last 5 years - by a large margin\n",
    "\n",
    "This will be later plotted in a presentable form in tableau."
   ],
   "metadata": {
    "collapsed": false
   }
  },
  {
   "cell_type": "markdown",
   "source": [
    "# Patents by technology area analysis"
   ],
   "metadata": {
    "collapsed": false
   }
  },
  {
   "cell_type": "code",
   "execution_count": 132,
   "outputs": [
    {
     "data": {
      "text/plain": "  publication_number application_number country_code  publication_date  \\\n0      EP-3716307-A1      EP-17932779-A           EP          20200930   \n1    JP-2020191060-A    JP-2019151335-A           JP          20201126   \n3   US-2019015283-A1  US-201715648518-A           US          20190117   \n4   KR-20210078242-A   KR-20190170085-A           KR          20210628   \n5     CN-113091512-A  CN-202110372226-A           CN          20210709   \n\n   filing_date                                           assignee  family_id  \\\n0     20171218  ['The 41st Institute of China Electronics Tech...   62031869   \n1     20190821  ['廣達電腦股▲ふん▼有限公司Ｑｕａｎｔａ Ｃｏｍｐｕｔｅｒ Ｉｎｃ．', 'Quanta ...   67840994   \n3     20170713                             ['James Earl Jackson']   65000790   \n4     20191218                                   ['엘지디스플레이 주식회사']   76608219   \n5     20210407                                   ['合肥英睿系统技术有限公司']   76674690   \n\n                                                 ipc  \\\n0  [{'code': 'H01H50/00', 'inventive': True, 'fir...   \n1  [{'code': 'G06F1/20', 'inventive': True, 'firs...   \n3  [{'code': 'A61H1/00', 'inventive': True, 'firs...   \n4  [{'code': 'G09F9/30', 'inventive': True, 'firs...   \n5  [{'code': 'F41G1/46', 'inventive': True, 'firs...   \n\n               country_name                   ipc_codes_full     ipc_subclass  \\\n0    European Patent Office                      [H01H50/00]            {H01}   \n1                     Japan   [G06F1/20, H05K7/20, G06F1/16]       {H05, G06}   \n3  United States of America             [A61H1/00, A41C1/00]       {A61, A41}   \n4         Republic of Korea  [G09F9/30, G06F1/16, H01L51/00]  {H01, G09, G06}   \n5                     China            [F41G1/46, F41G1/473]            {F41}   \n\n  ipc_class  \n0       {H}  \n1    {G, H}  \n3       {A}  \n4    {G, H}  \n5       {F}  ",
      "text/html": "<div>\n<style scoped>\n    .dataframe tbody tr th:only-of-type {\n        vertical-align: middle;\n    }\n\n    .dataframe tbody tr th {\n        vertical-align: top;\n    }\n\n    .dataframe thead th {\n        text-align: right;\n    }\n</style>\n<table border=\"1\" class=\"dataframe\">\n  <thead>\n    <tr style=\"text-align: right;\">\n      <th></th>\n      <th>publication_number</th>\n      <th>application_number</th>\n      <th>country_code</th>\n      <th>publication_date</th>\n      <th>filing_date</th>\n      <th>assignee</th>\n      <th>family_id</th>\n      <th>ipc</th>\n      <th>country_name</th>\n      <th>ipc_codes_full</th>\n      <th>ipc_subclass</th>\n      <th>ipc_class</th>\n    </tr>\n  </thead>\n  <tbody>\n    <tr>\n      <th>0</th>\n      <td>EP-3716307-A1</td>\n      <td>EP-17932779-A</td>\n      <td>EP</td>\n      <td>20200930</td>\n      <td>20171218</td>\n      <td>['The 41st Institute of China Electronics Tech...</td>\n      <td>62031869</td>\n      <td>[{'code': 'H01H50/00', 'inventive': True, 'fir...</td>\n      <td>European Patent Office</td>\n      <td>[H01H50/00]</td>\n      <td>{H01}</td>\n      <td>{H}</td>\n    </tr>\n    <tr>\n      <th>1</th>\n      <td>JP-2020191060-A</td>\n      <td>JP-2019151335-A</td>\n      <td>JP</td>\n      <td>20201126</td>\n      <td>20190821</td>\n      <td>['廣達電腦股▲ふん▼有限公司Ｑｕａｎｔａ Ｃｏｍｐｕｔｅｒ Ｉｎｃ．', 'Quanta ...</td>\n      <td>67840994</td>\n      <td>[{'code': 'G06F1/20', 'inventive': True, 'firs...</td>\n      <td>Japan</td>\n      <td>[G06F1/20, H05K7/20, G06F1/16]</td>\n      <td>{H05, G06}</td>\n      <td>{G, H}</td>\n    </tr>\n    <tr>\n      <th>3</th>\n      <td>US-2019015283-A1</td>\n      <td>US-201715648518-A</td>\n      <td>US</td>\n      <td>20190117</td>\n      <td>20170713</td>\n      <td>['James Earl Jackson']</td>\n      <td>65000790</td>\n      <td>[{'code': 'A61H1/00', 'inventive': True, 'firs...</td>\n      <td>United States of America</td>\n      <td>[A61H1/00, A41C1/00]</td>\n      <td>{A61, A41}</td>\n      <td>{A}</td>\n    </tr>\n    <tr>\n      <th>4</th>\n      <td>KR-20210078242-A</td>\n      <td>KR-20190170085-A</td>\n      <td>KR</td>\n      <td>20210628</td>\n      <td>20191218</td>\n      <td>['엘지디스플레이 주식회사']</td>\n      <td>76608219</td>\n      <td>[{'code': 'G09F9/30', 'inventive': True, 'firs...</td>\n      <td>Republic of Korea</td>\n      <td>[G09F9/30, G06F1/16, H01L51/00]</td>\n      <td>{H01, G09, G06}</td>\n      <td>{G, H}</td>\n    </tr>\n    <tr>\n      <th>5</th>\n      <td>CN-113091512-A</td>\n      <td>CN-202110372226-A</td>\n      <td>CN</td>\n      <td>20210709</td>\n      <td>20210407</td>\n      <td>['合肥英睿系统技术有限公司']</td>\n      <td>76674690</td>\n      <td>[{'code': 'F41G1/46', 'inventive': True, 'firs...</td>\n      <td>China</td>\n      <td>[F41G1/46, F41G1/473]</td>\n      <td>{F41}</td>\n      <td>{F}</td>\n    </tr>\n  </tbody>\n</table>\n</div>"
     },
     "execution_count": 132,
     "metadata": {},
     "output_type": "execute_result"
    }
   ],
   "source": [
    "df.head()"
   ],
   "metadata": {
    "collapsed": false
   }
  },
  {
   "cell_type": "code",
   "execution_count": 133,
   "outputs": [
    {
     "data": {
      "text/plain": "                  class  patent count\n0                   {G}        176749\n1                   {H}        138313\n2                   {B}        118638\n3                   {A}        105554\n4                   {C}         65104\n..                  ...           ...\n182     {D, E, B, G, H}             1\n183     {E, D, B, G, A}             1\n184  {D, E, A, B, G, F}             1\n185        {F, D, H, B}             1\n186     {E, B, G, F, C}             1\n\n[187 rows x 2 columns]",
      "text/html": "<div>\n<style scoped>\n    .dataframe tbody tr th:only-of-type {\n        vertical-align: middle;\n    }\n\n    .dataframe tbody tr th {\n        vertical-align: top;\n    }\n\n    .dataframe thead th {\n        text-align: right;\n    }\n</style>\n<table border=\"1\" class=\"dataframe\">\n  <thead>\n    <tr style=\"text-align: right;\">\n      <th></th>\n      <th>class</th>\n      <th>patent count</th>\n    </tr>\n  </thead>\n  <tbody>\n    <tr>\n      <th>0</th>\n      <td>{G}</td>\n      <td>176749</td>\n    </tr>\n    <tr>\n      <th>1</th>\n      <td>{H}</td>\n      <td>138313</td>\n    </tr>\n    <tr>\n      <th>2</th>\n      <td>{B}</td>\n      <td>118638</td>\n    </tr>\n    <tr>\n      <th>3</th>\n      <td>{A}</td>\n      <td>105554</td>\n    </tr>\n    <tr>\n      <th>4</th>\n      <td>{C}</td>\n      <td>65104</td>\n    </tr>\n    <tr>\n      <th>...</th>\n      <td>...</td>\n      <td>...</td>\n    </tr>\n    <tr>\n      <th>182</th>\n      <td>{D, E, B, G, H}</td>\n      <td>1</td>\n    </tr>\n    <tr>\n      <th>183</th>\n      <td>{E, D, B, G, A}</td>\n      <td>1</td>\n    </tr>\n    <tr>\n      <th>184</th>\n      <td>{D, E, A, B, G, F}</td>\n      <td>1</td>\n    </tr>\n    <tr>\n      <th>185</th>\n      <td>{F, D, H, B}</td>\n      <td>1</td>\n    </tr>\n    <tr>\n      <th>186</th>\n      <td>{E, B, G, F, C}</td>\n      <td>1</td>\n    </tr>\n  </tbody>\n</table>\n<p>187 rows × 2 columns</p>\n</div>"
     },
     "execution_count": 133,
     "metadata": {},
     "output_type": "execute_result"
    }
   ],
   "source": [
    "#creating dataframe of class counts\n",
    "class_count = df['ipc_class'].value_counts()\n",
    "class_count = pd.DataFrame(class_count).reset_index()\n",
    "class_count.columns = ['class', 'patent count'] # change column names\n",
    "class_count"
   ],
   "metadata": {
    "collapsed": false
   }
  },
  {
   "cell_type": "code",
   "execution_count": 134,
   "outputs": [
    {
     "data": {
      "text/plain": "  index       0\n0     A  166770\n1     B  214738\n2     C  142714\n3     D   14056\n4     E   45301\n5     F   89946\n6     G  278208",
      "text/html": "<div>\n<style scoped>\n    .dataframe tbody tr th:only-of-type {\n        vertical-align: middle;\n    }\n\n    .dataframe tbody tr th {\n        vertical-align: top;\n    }\n\n    .dataframe thead th {\n        text-align: right;\n    }\n</style>\n<table border=\"1\" class=\"dataframe\">\n  <thead>\n    <tr style=\"text-align: right;\">\n      <th></th>\n      <th>index</th>\n      <th>0</th>\n    </tr>\n  </thead>\n  <tbody>\n    <tr>\n      <th>0</th>\n      <td>A</td>\n      <td>166770</td>\n    </tr>\n    <tr>\n      <th>1</th>\n      <td>B</td>\n      <td>214738</td>\n    </tr>\n    <tr>\n      <th>2</th>\n      <td>C</td>\n      <td>142714</td>\n    </tr>\n    <tr>\n      <th>3</th>\n      <td>D</td>\n      <td>14056</td>\n    </tr>\n    <tr>\n      <th>4</th>\n      <td>E</td>\n      <td>45301</td>\n    </tr>\n    <tr>\n      <th>5</th>\n      <td>F</td>\n      <td>89946</td>\n    </tr>\n    <tr>\n      <th>6</th>\n      <td>G</td>\n      <td>278208</td>\n    </tr>\n  </tbody>\n</table>\n</div>"
     },
     "execution_count": 134,
     "metadata": {},
     "output_type": "execute_result"
    }
   ],
   "source": [
    "## Summing up the counts for each class (patents with multiple classes will be counted once for each listed class)\n",
    "class_list = {'A':0,'B':0,'C':0,'D':0,'E':0,'F':0,'G':0}\n",
    "for index in range(len(class_count['class'])):\n",
    "    for cl in class_list:\n",
    "        if cl in class_count['class'][index]:\n",
    "            class_list[cl] += class_count['patent count'][index]\n",
    "\n",
    "## Create a dataframe\n",
    "df_class_list = pd.DataFrame.from_dict(class_list, orient='index').reset_index()\n",
    "df_class_list"
   ],
   "metadata": {
    "collapsed": false
   }
  },
  {
   "cell_type": "code",
   "execution_count": 135,
   "metadata": {},
   "outputs": [],
   "source": [
    "#rename the columns\n",
    "df_class_list = df_class_list.rename(mapper={'index':'class', 0:'patent count'}, axis=1)"
   ]
  },
  {
   "cell_type": "code",
   "execution_count": 136,
   "outputs": [
    {
     "data": {
      "text/plain": "  class  patent count\n0     A        166770\n1     B        214738\n2     C        142714\n3     D         14056\n4     E         45301\n5     F         89946\n6     G        278208",
      "text/html": "<div>\n<style scoped>\n    .dataframe tbody tr th:only-of-type {\n        vertical-align: middle;\n    }\n\n    .dataframe tbody tr th {\n        vertical-align: top;\n    }\n\n    .dataframe thead th {\n        text-align: right;\n    }\n</style>\n<table border=\"1\" class=\"dataframe\">\n  <thead>\n    <tr style=\"text-align: right;\">\n      <th></th>\n      <th>class</th>\n      <th>patent count</th>\n    </tr>\n  </thead>\n  <tbody>\n    <tr>\n      <th>0</th>\n      <td>A</td>\n      <td>166770</td>\n    </tr>\n    <tr>\n      <th>1</th>\n      <td>B</td>\n      <td>214738</td>\n    </tr>\n    <tr>\n      <th>2</th>\n      <td>C</td>\n      <td>142714</td>\n    </tr>\n    <tr>\n      <th>3</th>\n      <td>D</td>\n      <td>14056</td>\n    </tr>\n    <tr>\n      <th>4</th>\n      <td>E</td>\n      <td>45301</td>\n    </tr>\n    <tr>\n      <th>5</th>\n      <td>F</td>\n      <td>89946</td>\n    </tr>\n    <tr>\n      <th>6</th>\n      <td>G</td>\n      <td>278208</td>\n    </tr>\n  </tbody>\n</table>\n</div>"
     },
     "execution_count": 136,
     "metadata": {},
     "output_type": "execute_result"
    }
   ],
   "source": [
    "df_class_list"
   ],
   "metadata": {
    "collapsed": false
   }
  },
  {
   "cell_type": "code",
   "execution_count": 137,
   "outputs": [
    {
     "data": {
      "text/plain": "  class  patent count                                  class_description\n0     G        278208                                            PHYSICS\n1     B        214738                PERFORMING OPERATIONS; TRANSPORTING\n2     A        166770                                  HUMAN NECESSITIES\n3     C        142714                              CHEMISTRY; METALLURGY\n4     F         89946  MECHANICAL ENGINEERING; LIGHTING; HEATING; WEA...\n5     E         45301                                FIXED CONSTRUCTIONS\n6     D         14056                                    TEXTILES; PAPER",
      "text/html": "<div>\n<style scoped>\n    .dataframe tbody tr th:only-of-type {\n        vertical-align: middle;\n    }\n\n    .dataframe tbody tr th {\n        vertical-align: top;\n    }\n\n    .dataframe thead th {\n        text-align: right;\n    }\n</style>\n<table border=\"1\" class=\"dataframe\">\n  <thead>\n    <tr style=\"text-align: right;\">\n      <th></th>\n      <th>class</th>\n      <th>patent count</th>\n      <th>class_description</th>\n    </tr>\n  </thead>\n  <tbody>\n    <tr>\n      <th>0</th>\n      <td>G</td>\n      <td>278208</td>\n      <td>PHYSICS</td>\n    </tr>\n    <tr>\n      <th>1</th>\n      <td>B</td>\n      <td>214738</td>\n      <td>PERFORMING OPERATIONS; TRANSPORTING</td>\n    </tr>\n    <tr>\n      <th>2</th>\n      <td>A</td>\n      <td>166770</td>\n      <td>HUMAN NECESSITIES</td>\n    </tr>\n    <tr>\n      <th>3</th>\n      <td>C</td>\n      <td>142714</td>\n      <td>CHEMISTRY; METALLURGY</td>\n    </tr>\n    <tr>\n      <th>4</th>\n      <td>F</td>\n      <td>89946</td>\n      <td>MECHANICAL ENGINEERING; LIGHTING; HEATING; WEA...</td>\n    </tr>\n    <tr>\n      <th>5</th>\n      <td>E</td>\n      <td>45301</td>\n      <td>FIXED CONSTRUCTIONS</td>\n    </tr>\n    <tr>\n      <th>6</th>\n      <td>D</td>\n      <td>14056</td>\n      <td>TEXTILES; PAPER</td>\n    </tr>\n  </tbody>\n</table>\n</div>"
     },
     "execution_count": 137,
     "metadata": {},
     "output_type": "execute_result"
    }
   ],
   "source": [
    "## mapping new class name to lookup dictionary\n",
    "df_class_list['class_description'] = df_class_list['class']\n",
    "df_class_list['class_description'] = df_class_list['class_description'].map(ipc_class)\n",
    "df_class_list.sort_values(by=['patent count'], axis=0, ascending=False, inplace=True)\n",
    "df_class_list.reset_index(drop=True, inplace=True)\n",
    "df_class_list"
   ],
   "metadata": {
    "collapsed": false
   }
  },
  {
   "cell_type": "code",
   "execution_count": 138,
   "outputs": [
    {
     "data": {
      "text/plain": "                        subclass  patent count\n0                          {G06}         79645\n1                          {H04}         55944\n2                          {A61}         51224\n3                          {H01}         47087\n4                          {G01}         41310\n...                          ...           ...\n26337       {B22, B28, G05, G06}             1\n26338  {H04, G03, F21, H05, H03}             1\n26339            {H02, D21, C08}             1\n26340            {A61, E06, G01}             1\n26341            {B32, D03, E02}             1\n\n[26342 rows x 2 columns]",
      "text/html": "<div>\n<style scoped>\n    .dataframe tbody tr th:only-of-type {\n        vertical-align: middle;\n    }\n\n    .dataframe tbody tr th {\n        vertical-align: top;\n    }\n\n    .dataframe thead th {\n        text-align: right;\n    }\n</style>\n<table border=\"1\" class=\"dataframe\">\n  <thead>\n    <tr style=\"text-align: right;\">\n      <th></th>\n      <th>subclass</th>\n      <th>patent count</th>\n    </tr>\n  </thead>\n  <tbody>\n    <tr>\n      <th>0</th>\n      <td>{G06}</td>\n      <td>79645</td>\n    </tr>\n    <tr>\n      <th>1</th>\n      <td>{H04}</td>\n      <td>55944</td>\n    </tr>\n    <tr>\n      <th>2</th>\n      <td>{A61}</td>\n      <td>51224</td>\n    </tr>\n    <tr>\n      <th>3</th>\n      <td>{H01}</td>\n      <td>47087</td>\n    </tr>\n    <tr>\n      <th>4</th>\n      <td>{G01}</td>\n      <td>41310</td>\n    </tr>\n    <tr>\n      <th>...</th>\n      <td>...</td>\n      <td>...</td>\n    </tr>\n    <tr>\n      <th>26337</th>\n      <td>{B22, B28, G05, G06}</td>\n      <td>1</td>\n    </tr>\n    <tr>\n      <th>26338</th>\n      <td>{H04, G03, F21, H05, H03}</td>\n      <td>1</td>\n    </tr>\n    <tr>\n      <th>26339</th>\n      <td>{H02, D21, C08}</td>\n      <td>1</td>\n    </tr>\n    <tr>\n      <th>26340</th>\n      <td>{A61, E06, G01}</td>\n      <td>1</td>\n    </tr>\n    <tr>\n      <th>26341</th>\n      <td>{B32, D03, E02}</td>\n      <td>1</td>\n    </tr>\n  </tbody>\n</table>\n<p>26342 rows × 2 columns</p>\n</div>"
     },
     "execution_count": 138,
     "metadata": {},
     "output_type": "execute_result"
    }
   ],
   "source": [
    "## Doing the same for the subclasses\n",
    "#creating dataframe of subclass counts\n",
    "subclass_count = df['ipc_subclass'].value_counts()\n",
    "subclass_count = pd.DataFrame(subclass_count).reset_index()\n",
    "subclass_count.columns = ['subclass', 'patent count'] # change column names\n",
    "subclass_count"
   ],
   "metadata": {
    "collapsed": false
   }
  },
  {
   "cell_type": "code",
   "execution_count": 139,
   "outputs": [],
   "source": [
    "## To get a count of the subclasses - define the subclass count function. This cannot be done through .value_counts() because of the multiple listed subclasses for many patents.\n",
    "def subclass_count_fn(dataframe):\n",
    "    '''Function returning a dataframe of total count of patent subclasses - input must be a dataframe with ipc_subclass column'''\n",
    "    subclass_count = dataframe['ipc_subclass'].value_counts()\n",
    "    subclass_count = pd.DataFrame(subclass_count).reset_index()\n",
    "    subclass_count.columns = ['subclass', 'patent count'] # change column names\n",
    "# define dictionary of each code mapping to a counter - initialised at 0.\n",
    "    subclass_list = {'A01' : 0,'A21' : 0,'A22' : 0,'A23' : 0,'A24' : 0,'A41' : 0, 'A42' : 0,'A43' : 0,'A44' : 0,'A45' : 0,'A46' : 0,'A47' : 0,'A61' : 0,'A62' : 0,'A63' : 0,\n",
    "                     'A99' : 0,'B01' : 0,'B02' : 0,'B03' : 0,'B04' : 0,'B05' : 0,'B06' : 0,'B07' : 0,'B08' : 0,'B09' : 0,'B21' : 0,'B22' : 0,'B23' : 0,'B24' : 0,'B25' : 0,'B26' : 0,'B27' : 0,\n",
    "                     'B28' : 0,'B29' : 0,'B30' : 0,'B31' : 0,'B32' : 0,'B33' : 0,'B41' : 0,'B42' : 0,'B43' : 0,'B44' : 0,'B60' : 0,'B61' : 0,'B62' : 0,'B63' : 0,'B64' : 0,'B65' : 0,'B66' : 0,\n",
    "                     'B67' : 0,'B68' : 0,'B81' : 0,'B82' : 0,'B99' : 0,'C01' : 0,'C02' : 0,'C03' : 0,'C04' : 0,'C05' : 0,'C06' : 0,'C07' : 0,'C08' : 0,'C09' : 0,'C10' : 0,'C11' : 0,'C12' : 0,\n",
    "                     'C13' : 0,'C14' : 0,'C21' : 0,'C22' : 0,'C23' : 0,'C25' : 0,'C30' : 0,'C40' : 0,'C99' : 0,'D01' : 0,'D02' : 0,'D03' : 0,'D04' : 0,'D05' : 0,'D06' : 0,'D07' : 0,'D21' : 0,\n",
    "                     'D99' : 0,'E01' : 0,'E02' : 0,'E03' : 0,'E04' : 0,'E05' : 0,'E06' : 0,'E21' : 0,'E99' : 0,'F01' : 0,'F02' : 0,'F03' : 0,'F04' : 0,'F15' : 0,'F16' : 0,'F17' : 0,'F21' : 0,\n",
    "                     'F22' : 0,'F23' : 0,'F24' : 0,'F25' : 0,'F26' : 0,'F27' : 0,'F28' : 0,'F41' : 0,'F42' : 0,'F99' : 0,'G01' : 0,'G02' : 0,'G03' : 0,'G04' : 0,'G05' : 0,'G06' : 0,'G07' : 0,\n",
    "                     'G08' : 0,'G09' : 0,'G10' : 0,'G11' : 0,'G12' : 0,'G16' : 0,'G21' : 0,'G99' : 0,'H01' : 0,'H02' : 0,'H03' : 0,'H04' : 0,'H05' : 0,'H99' : 0,}\n",
    "# loop though dataframe input and add to the counter dictionary for every appearance of a subclass code.\n",
    "    for index in range(len(subclass_count['subclass'])):\n",
    "        for sub in subclass_list:\n",
    "            if sub in subclass_count['subclass'][index]:\n",
    "                subclass_list[sub] += subclass_count['patent count'][index]\n",
    "\n",
    "    # Create a dataframe\n",
    "    df_subclass = pd.DataFrame.from_dict(subclass_list, orient='index').reset_index() #using subclass counter dictionary to create dataframe\n",
    "    df_subclass = df_subclass.rename(mapper={'index':'subclass', 0:'patent count'}, axis=1) # rename the columns\n",
    "    df_subclass.sort_values(by=['patent count'], axis=0, ascending=False, inplace=True) # sort by count descending\n",
    "    df_subclass.reset_index(drop=True, inplace=True)\n",
    "    df_subclass['class_description'] = df_subclass['subclass']\n",
    "    df_subclass['class_description'] = df_subclass['class_description'].map(ipc_subclass_mapping) #set the class description to the mapping dictionary.\n",
    "    df_subclass['subclass_proportion_%'] = (df_subclass['patent count']/df_subclass['patent count'].sum())*100 # create a column showing the percentage proportion of all subclass tags each tag is.\n",
    "    return df_subclass"
   ],
   "metadata": {
    "collapsed": false
   }
  },
  {
   "cell_type": "code",
   "execution_count": 140,
   "outputs": [],
   "source": [
    "df_subclass_count = subclass_count_fn(df)"
   ],
   "metadata": {
    "collapsed": false
   }
  },
  {
   "cell_type": "code",
   "execution_count": 141,
   "outputs": [
    {
     "data": {
      "text/plain": "    subclass  patent count                                  class_description  \\\n0        G06        134013                 COMPUTING; CALCULATING OR COUNTING   \n1        H04         97229                   ELECTRIC COMMUNICATION TECHNIQUE   \n2        A61         91001             MEDICAL OR VETERINARY SCIENCE; HYGIENE   \n3        H01         85913                            BASIC ELECTRIC ELEMENTS   \n4        G01         80152                                 MEASURING; TESTING   \n..       ...           ...                                                ...   \n126      B99             0  SUBJECT MATTER NOT OTHERWISE PROVIDED FOR IN T...   \n127      D99             0  SUBJECT MATTER NOT OTHERWISE PROVIDED FOR IN T...   \n128      F99             0  SUBJECT MATTER NOT OTHERWISE PROVIDED FOR IN T...   \n129      C99             0  SUBJECT MATTER NOT OTHERWISE PROVIDED FOR IN T...   \n130      E99             0  SUBJECT MATTER NOT OTHERWISE PROVIDED FOR IN T...   \n\n     subclass_proportion_%  \n0                10.096343  \n1                 7.325090  \n2                 6.855882  \n3                 6.472559  \n4                 6.038534  \n..                     ...  \n126               0.000000  \n127               0.000000  \n128               0.000000  \n129               0.000000  \n130               0.000000  \n\n[131 rows x 4 columns]",
      "text/html": "<div>\n<style scoped>\n    .dataframe tbody tr th:only-of-type {\n        vertical-align: middle;\n    }\n\n    .dataframe tbody tr th {\n        vertical-align: top;\n    }\n\n    .dataframe thead th {\n        text-align: right;\n    }\n</style>\n<table border=\"1\" class=\"dataframe\">\n  <thead>\n    <tr style=\"text-align: right;\">\n      <th></th>\n      <th>subclass</th>\n      <th>patent count</th>\n      <th>class_description</th>\n      <th>subclass_proportion_%</th>\n    </tr>\n  </thead>\n  <tbody>\n    <tr>\n      <th>0</th>\n      <td>G06</td>\n      <td>134013</td>\n      <td>COMPUTING; CALCULATING OR COUNTING</td>\n      <td>10.096343</td>\n    </tr>\n    <tr>\n      <th>1</th>\n      <td>H04</td>\n      <td>97229</td>\n      <td>ELECTRIC COMMUNICATION TECHNIQUE</td>\n      <td>7.325090</td>\n    </tr>\n    <tr>\n      <th>2</th>\n      <td>A61</td>\n      <td>91001</td>\n      <td>MEDICAL OR VETERINARY SCIENCE; HYGIENE</td>\n      <td>6.855882</td>\n    </tr>\n    <tr>\n      <th>3</th>\n      <td>H01</td>\n      <td>85913</td>\n      <td>BASIC ELECTRIC ELEMENTS</td>\n      <td>6.472559</td>\n    </tr>\n    <tr>\n      <th>4</th>\n      <td>G01</td>\n      <td>80152</td>\n      <td>MEASURING; TESTING</td>\n      <td>6.038534</td>\n    </tr>\n    <tr>\n      <th>...</th>\n      <td>...</td>\n      <td>...</td>\n      <td>...</td>\n      <td>...</td>\n    </tr>\n    <tr>\n      <th>126</th>\n      <td>B99</td>\n      <td>0</td>\n      <td>SUBJECT MATTER NOT OTHERWISE PROVIDED FOR IN T...</td>\n      <td>0.000000</td>\n    </tr>\n    <tr>\n      <th>127</th>\n      <td>D99</td>\n      <td>0</td>\n      <td>SUBJECT MATTER NOT OTHERWISE PROVIDED FOR IN T...</td>\n      <td>0.000000</td>\n    </tr>\n    <tr>\n      <th>128</th>\n      <td>F99</td>\n      <td>0</td>\n      <td>SUBJECT MATTER NOT OTHERWISE PROVIDED FOR IN T...</td>\n      <td>0.000000</td>\n    </tr>\n    <tr>\n      <th>129</th>\n      <td>C99</td>\n      <td>0</td>\n      <td>SUBJECT MATTER NOT OTHERWISE PROVIDED FOR IN T...</td>\n      <td>0.000000</td>\n    </tr>\n    <tr>\n      <th>130</th>\n      <td>E99</td>\n      <td>0</td>\n      <td>SUBJECT MATTER NOT OTHERWISE PROVIDED FOR IN T...</td>\n      <td>0.000000</td>\n    </tr>\n  </tbody>\n</table>\n<p>131 rows × 4 columns</p>\n</div>"
     },
     "execution_count": 141,
     "metadata": {},
     "output_type": "execute_result"
    }
   ],
   "source": [
    "# We have a dataframe to analyse the subclass count of any given patent dataset.\n",
    "df_subclass_count"
   ],
   "metadata": {
    "collapsed": false
   }
  },
  {
   "cell_type": "markdown",
   "source": [
    "# Patents by territory and technology area analysis\n",
    "\n",
    "## China, USA, Japan and Europe Case Studies"
   ],
   "metadata": {
    "collapsed": false
   }
  },
  {
   "cell_type": "code",
   "execution_count": 142,
   "outputs": [],
   "source": [
    "# case studies of technologies in CN, US, EP, JP\n",
    "\n",
    "# first - extract a data frame for each territory\n",
    "df_china = df[df['country_code'] == 'CN'].copy()\n",
    "df_usa = df[df['country_code'] == 'US'].copy()\n",
    "df_europe = df[df['country_code'] == 'EP'].copy()\n",
    "df_japan = df[df['country_code'] == 'JP'].copy()"
   ],
   "metadata": {
    "collapsed": false
   }
  },
  {
   "cell_type": "code",
   "execution_count": 143,
   "outputs": [
    {
     "data": {
      "text/plain": "    subclass  patent count                                  class_description  \\\n0        G06         68190                 COMPUTING; CALCULATING OR COUNTING   \n1        G01         42734                                 MEASURING; TESTING   \n2        H04         39104                   ELECTRIC COMMUNICATION TECHNIQUE   \n3        H01         31914                            BASIC ELECTRIC ELEMENTS   \n4        A61         31452             MEDICAL OR VETERINARY SCIENCE; HYGIENE   \n..       ...           ...                                                ...   \n126      F99             0  SUBJECT MATTER NOT OTHERWISE PROVIDED FOR IN T...   \n127      E99             0  SUBJECT MATTER NOT OTHERWISE PROVIDED FOR IN T...   \n128      D99             0  SUBJECT MATTER NOT OTHERWISE PROVIDED FOR IN T...   \n129      C99             0  SUBJECT MATTER NOT OTHERWISE PROVIDED FOR IN T...   \n130      B99             0  SUBJECT MATTER NOT OTHERWISE PROVIDED FOR IN T...   \n\n     subclass_proportion_%  \n0                11.143067  \n1                 6.983250  \n2                 6.390065  \n3                 5.215132  \n4                 5.139636  \n..                     ...  \n126               0.000000  \n127               0.000000  \n128               0.000000  \n129               0.000000  \n130               0.000000  \n\n[131 rows x 4 columns]",
      "text/html": "<div>\n<style scoped>\n    .dataframe tbody tr th:only-of-type {\n        vertical-align: middle;\n    }\n\n    .dataframe tbody tr th {\n        vertical-align: top;\n    }\n\n    .dataframe thead th {\n        text-align: right;\n    }\n</style>\n<table border=\"1\" class=\"dataframe\">\n  <thead>\n    <tr style=\"text-align: right;\">\n      <th></th>\n      <th>subclass</th>\n      <th>patent count</th>\n      <th>class_description</th>\n      <th>subclass_proportion_%</th>\n    </tr>\n  </thead>\n  <tbody>\n    <tr>\n      <th>0</th>\n      <td>G06</td>\n      <td>68190</td>\n      <td>COMPUTING; CALCULATING OR COUNTING</td>\n      <td>11.143067</td>\n    </tr>\n    <tr>\n      <th>1</th>\n      <td>G01</td>\n      <td>42734</td>\n      <td>MEASURING; TESTING</td>\n      <td>6.983250</td>\n    </tr>\n    <tr>\n      <th>2</th>\n      <td>H04</td>\n      <td>39104</td>\n      <td>ELECTRIC COMMUNICATION TECHNIQUE</td>\n      <td>6.390065</td>\n    </tr>\n    <tr>\n      <th>3</th>\n      <td>H01</td>\n      <td>31914</td>\n      <td>BASIC ELECTRIC ELEMENTS</td>\n      <td>5.215132</td>\n    </tr>\n    <tr>\n      <th>4</th>\n      <td>A61</td>\n      <td>31452</td>\n      <td>MEDICAL OR VETERINARY SCIENCE; HYGIENE</td>\n      <td>5.139636</td>\n    </tr>\n    <tr>\n      <th>...</th>\n      <td>...</td>\n      <td>...</td>\n      <td>...</td>\n      <td>...</td>\n    </tr>\n    <tr>\n      <th>126</th>\n      <td>F99</td>\n      <td>0</td>\n      <td>SUBJECT MATTER NOT OTHERWISE PROVIDED FOR IN T...</td>\n      <td>0.000000</td>\n    </tr>\n    <tr>\n      <th>127</th>\n      <td>E99</td>\n      <td>0</td>\n      <td>SUBJECT MATTER NOT OTHERWISE PROVIDED FOR IN T...</td>\n      <td>0.000000</td>\n    </tr>\n    <tr>\n      <th>128</th>\n      <td>D99</td>\n      <td>0</td>\n      <td>SUBJECT MATTER NOT OTHERWISE PROVIDED FOR IN T...</td>\n      <td>0.000000</td>\n    </tr>\n    <tr>\n      <th>129</th>\n      <td>C99</td>\n      <td>0</td>\n      <td>SUBJECT MATTER NOT OTHERWISE PROVIDED FOR IN T...</td>\n      <td>0.000000</td>\n    </tr>\n    <tr>\n      <th>130</th>\n      <td>B99</td>\n      <td>0</td>\n      <td>SUBJECT MATTER NOT OTHERWISE PROVIDED FOR IN T...</td>\n      <td>0.000000</td>\n    </tr>\n  </tbody>\n</table>\n<p>131 rows × 4 columns</p>\n</div>"
     },
     "execution_count": 143,
     "metadata": {},
     "output_type": "execute_result"
    }
   ],
   "source": [
    "## Patent subclass breakdown for China\n",
    "df_china_subclass = subclass_count_fn(df_china)\n",
    "df_china_subclass"
   ],
   "metadata": {
    "collapsed": false
   }
  },
  {
   "cell_type": "code",
   "execution_count": 144,
   "outputs": [
    {
     "data": {
      "text/plain": "    subclass  patent count                                  class_description  \\\n0        G06         33146                 COMPUTING; CALCULATING OR COUNTING   \n1        H04         27488                   ELECTRIC COMMUNICATION TECHNIQUE   \n2        H01         18604                            BASIC ELECTRIC ELEMENTS   \n3        A61         18230             MEDICAL OR VETERINARY SCIENCE; HYGIENE   \n4        G01         12604                                 MEASURING; TESTING   \n..       ...           ...                                                ...   \n126      B99             0  SUBJECT MATTER NOT OTHERWISE PROVIDED FOR IN T...   \n127      C99             0  SUBJECT MATTER NOT OTHERWISE PROVIDED FOR IN T...   \n128      D99             0  SUBJECT MATTER NOT OTHERWISE PROVIDED FOR IN T...   \n129      E99             0  SUBJECT MATTER NOT OTHERWISE PROVIDED FOR IN T...   \n130      H99             0  SUBJECT MATTER NOT OTHERWISE PROVIDED FOR IN T...   \n\n     subclass_proportion_%  \n0                14.124395  \n1                11.713370  \n2                 7.927661  \n3                 7.768289  \n4                 5.370901  \n..                     ...  \n126               0.000000  \n127               0.000000  \n128               0.000000  \n129               0.000000  \n130               0.000000  \n\n[131 rows x 4 columns]",
      "text/html": "<div>\n<style scoped>\n    .dataframe tbody tr th:only-of-type {\n        vertical-align: middle;\n    }\n\n    .dataframe tbody tr th {\n        vertical-align: top;\n    }\n\n    .dataframe thead th {\n        text-align: right;\n    }\n</style>\n<table border=\"1\" class=\"dataframe\">\n  <thead>\n    <tr style=\"text-align: right;\">\n      <th></th>\n      <th>subclass</th>\n      <th>patent count</th>\n      <th>class_description</th>\n      <th>subclass_proportion_%</th>\n    </tr>\n  </thead>\n  <tbody>\n    <tr>\n      <th>0</th>\n      <td>G06</td>\n      <td>33146</td>\n      <td>COMPUTING; CALCULATING OR COUNTING</td>\n      <td>14.124395</td>\n    </tr>\n    <tr>\n      <th>1</th>\n      <td>H04</td>\n      <td>27488</td>\n      <td>ELECTRIC COMMUNICATION TECHNIQUE</td>\n      <td>11.713370</td>\n    </tr>\n    <tr>\n      <th>2</th>\n      <td>H01</td>\n      <td>18604</td>\n      <td>BASIC ELECTRIC ELEMENTS</td>\n      <td>7.927661</td>\n    </tr>\n    <tr>\n      <th>3</th>\n      <td>A61</td>\n      <td>18230</td>\n      <td>MEDICAL OR VETERINARY SCIENCE; HYGIENE</td>\n      <td>7.768289</td>\n    </tr>\n    <tr>\n      <th>4</th>\n      <td>G01</td>\n      <td>12604</td>\n      <td>MEASURING; TESTING</td>\n      <td>5.370901</td>\n    </tr>\n    <tr>\n      <th>...</th>\n      <td>...</td>\n      <td>...</td>\n      <td>...</td>\n      <td>...</td>\n    </tr>\n    <tr>\n      <th>126</th>\n      <td>B99</td>\n      <td>0</td>\n      <td>SUBJECT MATTER NOT OTHERWISE PROVIDED FOR IN T...</td>\n      <td>0.000000</td>\n    </tr>\n    <tr>\n      <th>127</th>\n      <td>C99</td>\n      <td>0</td>\n      <td>SUBJECT MATTER NOT OTHERWISE PROVIDED FOR IN T...</td>\n      <td>0.000000</td>\n    </tr>\n    <tr>\n      <th>128</th>\n      <td>D99</td>\n      <td>0</td>\n      <td>SUBJECT MATTER NOT OTHERWISE PROVIDED FOR IN T...</td>\n      <td>0.000000</td>\n    </tr>\n    <tr>\n      <th>129</th>\n      <td>E99</td>\n      <td>0</td>\n      <td>SUBJECT MATTER NOT OTHERWISE PROVIDED FOR IN T...</td>\n      <td>0.000000</td>\n    </tr>\n    <tr>\n      <th>130</th>\n      <td>H99</td>\n      <td>0</td>\n      <td>SUBJECT MATTER NOT OTHERWISE PROVIDED FOR IN T...</td>\n      <td>0.000000</td>\n    </tr>\n  </tbody>\n</table>\n<p>131 rows × 4 columns</p>\n</div>"
     },
     "execution_count": 144,
     "metadata": {},
     "output_type": "execute_result"
    }
   ],
   "source": [
    "## Patent subclass breakdown for USA\n",
    "df_usa_subclass = subclass_count_fn(df_usa)\n",
    "df_usa_subclass"
   ],
   "metadata": {
    "collapsed": false
   }
  },
  {
   "cell_type": "code",
   "execution_count": 145,
   "outputs": [
    {
     "data": {
      "text/plain": "    subclass  patent count                                  class_description  \\\n0        A61         10755             MEDICAL OR VETERINARY SCIENCE; HYGIENE   \n1        H04         10284                   ELECTRIC COMMUNICATION TECHNIQUE   \n2        G06          7056                 COMPUTING; CALCULATING OR COUNTING   \n3        G01          5907                                 MEASURING; TESTING   \n4        H01          5859                            BASIC ELECTRIC ELEMENTS   \n..       ...           ...                                                ...   \n126      E99             0  SUBJECT MATTER NOT OTHERWISE PROVIDED FOR IN T...   \n127      D99             0  SUBJECT MATTER NOT OTHERWISE PROVIDED FOR IN T...   \n128      B99             0  SUBJECT MATTER NOT OTHERWISE PROVIDED FOR IN T...   \n129      A99             0  SUBJECT MATTER NOT OTHERWISE PROVIDED FOR IN T...   \n130      H99             0  SUBJECT MATTER NOT OTHERWISE PROVIDED FOR IN T...   \n\n     subclass_proportion_%  \n0                10.292457  \n1                 9.841713  \n2                 6.752541  \n3                 5.652956  \n4                 5.607020  \n..                     ...  \n126               0.000000  \n127               0.000000  \n128               0.000000  \n129               0.000000  \n130               0.000000  \n\n[131 rows x 4 columns]",
      "text/html": "<div>\n<style scoped>\n    .dataframe tbody tr th:only-of-type {\n        vertical-align: middle;\n    }\n\n    .dataframe tbody tr th {\n        vertical-align: top;\n    }\n\n    .dataframe thead th {\n        text-align: right;\n    }\n</style>\n<table border=\"1\" class=\"dataframe\">\n  <thead>\n    <tr style=\"text-align: right;\">\n      <th></th>\n      <th>subclass</th>\n      <th>patent count</th>\n      <th>class_description</th>\n      <th>subclass_proportion_%</th>\n    </tr>\n  </thead>\n  <tbody>\n    <tr>\n      <th>0</th>\n      <td>A61</td>\n      <td>10755</td>\n      <td>MEDICAL OR VETERINARY SCIENCE; HYGIENE</td>\n      <td>10.292457</td>\n    </tr>\n    <tr>\n      <th>1</th>\n      <td>H04</td>\n      <td>10284</td>\n      <td>ELECTRIC COMMUNICATION TECHNIQUE</td>\n      <td>9.841713</td>\n    </tr>\n    <tr>\n      <th>2</th>\n      <td>G06</td>\n      <td>7056</td>\n      <td>COMPUTING; CALCULATING OR COUNTING</td>\n      <td>6.752541</td>\n    </tr>\n    <tr>\n      <th>3</th>\n      <td>G01</td>\n      <td>5907</td>\n      <td>MEASURING; TESTING</td>\n      <td>5.652956</td>\n    </tr>\n    <tr>\n      <th>4</th>\n      <td>H01</td>\n      <td>5859</td>\n      <td>BASIC ELECTRIC ELEMENTS</td>\n      <td>5.607020</td>\n    </tr>\n    <tr>\n      <th>...</th>\n      <td>...</td>\n      <td>...</td>\n      <td>...</td>\n      <td>...</td>\n    </tr>\n    <tr>\n      <th>126</th>\n      <td>E99</td>\n      <td>0</td>\n      <td>SUBJECT MATTER NOT OTHERWISE PROVIDED FOR IN T...</td>\n      <td>0.000000</td>\n    </tr>\n    <tr>\n      <th>127</th>\n      <td>D99</td>\n      <td>0</td>\n      <td>SUBJECT MATTER NOT OTHERWISE PROVIDED FOR IN T...</td>\n      <td>0.000000</td>\n    </tr>\n    <tr>\n      <th>128</th>\n      <td>B99</td>\n      <td>0</td>\n      <td>SUBJECT MATTER NOT OTHERWISE PROVIDED FOR IN T...</td>\n      <td>0.000000</td>\n    </tr>\n    <tr>\n      <th>129</th>\n      <td>A99</td>\n      <td>0</td>\n      <td>SUBJECT MATTER NOT OTHERWISE PROVIDED FOR IN T...</td>\n      <td>0.000000</td>\n    </tr>\n    <tr>\n      <th>130</th>\n      <td>H99</td>\n      <td>0</td>\n      <td>SUBJECT MATTER NOT OTHERWISE PROVIDED FOR IN T...</td>\n      <td>0.000000</td>\n    </tr>\n  </tbody>\n</table>\n<p>131 rows × 4 columns</p>\n</div>"
     },
     "execution_count": 145,
     "metadata": {},
     "output_type": "execute_result"
    }
   ],
   "source": [
    "## Patent subclass breakdown for Europe\n",
    "df_europe_subclass = subclass_count_fn(df_europe)\n",
    "df_europe_subclass"
   ],
   "metadata": {
    "collapsed": false
   }
  },
  {
   "cell_type": "code",
   "execution_count": 1,
   "outputs": [
    {
     "ename": "NameError",
     "evalue": "name 'subclass_count_fn' is not defined",
     "output_type": "error",
     "traceback": [
      "\u001B[1;31m---------------------------------------------------------------------------\u001B[0m",
      "\u001B[1;31mNameError\u001B[0m                                 Traceback (most recent call last)",
      "Input \u001B[1;32mIn [1]\u001B[0m, in \u001B[0;36m<cell line: 2>\u001B[1;34m()\u001B[0m\n\u001B[0;32m      1\u001B[0m \u001B[38;5;66;03m## Patent subclass breakdown for Japan\u001B[39;00m\n\u001B[1;32m----> 2\u001B[0m df_japan_subclass \u001B[38;5;241m=\u001B[39m \u001B[43msubclass_count_fn\u001B[49m(df_japan)\n\u001B[0;32m      3\u001B[0m df_japan_subclass\u001B[38;5;241m.\u001B[39mhead(\u001B[38;5;241m10\u001B[39m)\n",
      "\u001B[1;31mNameError\u001B[0m: name 'subclass_count_fn' is not defined"
     ]
    }
   ],
   "source": [
    "## Patent subclass breakdown for Japan\n",
    "df_japan_subclass = subclass_count_fn(df_japan)\n",
    "df_japan_subclass"
   ],
   "metadata": {
    "collapsed": false
   }
  },
  {
   "cell_type": "markdown",
   "source": [
    "# Patents by assignee"
   ],
   "metadata": {
    "collapsed": false
   }
  },
  {
   "cell_type": "code",
   "execution_count": 147,
   "outputs": [],
   "source": [
    "def assignee_clean(string):\n",
    "    ''' Function to clean assignee columns'''\n",
    "    string = string.replace('[','')\n",
    "    string = string.replace(']','')\n",
    "    string = string.replace(\"'\",'')\n",
    "    return string\n"
   ],
   "metadata": {
    "collapsed": false
   }
  },
  {
   "cell_type": "code",
   "execution_count": 148,
   "outputs": [
    {
     "data": {
      "text/plain": "   publication_number application_number country_code  publication_date  \\\n0       EP-3716307-A1      EP-17932779-A           EP          20200930   \n1     JP-2020191060-A    JP-2019151335-A           JP          20201126   \n3    US-2019015283-A1  US-201715648518-A           US          20190117   \n4    KR-20210078242-A   KR-20190170085-A           KR          20210628   \n5      CN-113091512-A  CN-202110372226-A           CN          20210709   \n6    AU-2020285671-A1    AU-2020285671-A           AU          20211209   \n7      CN-106304518-B  CN-201510242673-A           CN          20190416   \n8      CN-111657088-A  CN-202010566953-A           CN          20200915   \n9      CN-114239837-A  CN-202111586532-A           CN          20220325   \n10    JP-2021176159-A    JP-2020081026-A           JP          20211104   \n\n    filing_date                                           assignee  family_id  \\\n0      20171218  The 41st Institute of China Electronics Techno...   62031869   \n1      20190821  廣達電腦股▲ふん▼有限公司Ｑｕａｎｔａ Ｃｏｍｐｕｔｅｒ Ｉｎｃ．, Quanta Comp...   67840994   \n3      20170713                                 James Earl Jackson   65000790   \n4      20191218                                       엘지디스플레이 주식회사   76608219   \n5      20210407                                       合肥英睿系统技术有限公司   76674690   \n6      20200527                    Kverneland Group Ravenna S.R.L.   67957338   \n7      20150513                                     华润矽威科技（上海）有限公司   57630890   \n8      20200619                         江苏沿江地区农业科学研究所, 如皋市鑫磊生态家庭农场   72388926   \n9      20211223                                         树根互联股份有限公司   80761871   \n10     20200501  三菱電機エンジニアリング株式会社, Mitsubishi Electric Engineer...   78300495   \n\n                                                  ipc  \\\n0   [{'code': 'H01H50/00', 'inventive': True, 'fir...   \n1   [{'code': 'G06F1/20', 'inventive': True, 'firs...   \n3   [{'code': 'A61H1/00', 'inventive': True, 'firs...   \n4   [{'code': 'G09F9/30', 'inventive': True, 'firs...   \n5   [{'code': 'F41G1/46', 'inventive': True, 'firs...   \n6   [{'code': 'A01F15/10', 'inventive': False, 'fi...   \n7   [{'code': 'H05B37/02', 'inventive': True, 'fir...   \n8   [{'code': 'C05G3/60', 'inventive': True, 'firs...   \n9   [{'code': 'G06N7/00', 'inventive': True, 'firs...   \n10  [{'code': 'H01L35/06', 'inventive': True, 'fir...   \n\n                country_name  \\\n0     European Patent Office   \n1                      Japan   \n3   United States of America   \n4          Republic of Korea   \n5                      China   \n6                  Australia   \n7                      China   \n8                      China   \n9                      China   \n10                     Japan   \n\n                                       ipc_codes_full     ipc_subclass  \\\n0                                         [H01H50/00]            {H01}   \n1                      [G06F1/20, H05K7/20, G06F1/16]       {H05, G06}   \n3                                [A61H1/00, A41C1/00]       {A61, A41}   \n4                     [G09F9/30, G06F1/16, H01L51/00]  {H01, G09, G06}   \n5                               [F41G1/46, F41G1/473]            {F41}   \n6                              [A01F15/10, A01F15/00]            {A01}   \n7                                         [H05B37/02]            {H05}   \n8   [C05G3/60, C05F11/00, A01N65/30, A01P3/00, A01...       {C05, A01}   \n9                                          [G06N7/00]            {G06}   \n10                             [H01L35/06, H02N11/00]       {H02, H01}   \n\n   ipc_class  \n0        {H}  \n1     {G, H}  \n3        {A}  \n4     {G, H}  \n5        {F}  \n6        {A}  \n7        {H}  \n8     {A, C}  \n9        {G}  \n10       {H}  ",
      "text/html": "<div>\n<style scoped>\n    .dataframe tbody tr th:only-of-type {\n        vertical-align: middle;\n    }\n\n    .dataframe tbody tr th {\n        vertical-align: top;\n    }\n\n    .dataframe thead th {\n        text-align: right;\n    }\n</style>\n<table border=\"1\" class=\"dataframe\">\n  <thead>\n    <tr style=\"text-align: right;\">\n      <th></th>\n      <th>publication_number</th>\n      <th>application_number</th>\n      <th>country_code</th>\n      <th>publication_date</th>\n      <th>filing_date</th>\n      <th>assignee</th>\n      <th>family_id</th>\n      <th>ipc</th>\n      <th>country_name</th>\n      <th>ipc_codes_full</th>\n      <th>ipc_subclass</th>\n      <th>ipc_class</th>\n    </tr>\n  </thead>\n  <tbody>\n    <tr>\n      <th>0</th>\n      <td>EP-3716307-A1</td>\n      <td>EP-17932779-A</td>\n      <td>EP</td>\n      <td>20200930</td>\n      <td>20171218</td>\n      <td>The 41st Institute of China Electronics Techno...</td>\n      <td>62031869</td>\n      <td>[{'code': 'H01H50/00', 'inventive': True, 'fir...</td>\n      <td>European Patent Office</td>\n      <td>[H01H50/00]</td>\n      <td>{H01}</td>\n      <td>{H}</td>\n    </tr>\n    <tr>\n      <th>1</th>\n      <td>JP-2020191060-A</td>\n      <td>JP-2019151335-A</td>\n      <td>JP</td>\n      <td>20201126</td>\n      <td>20190821</td>\n      <td>廣達電腦股▲ふん▼有限公司Ｑｕａｎｔａ Ｃｏｍｐｕｔｅｒ Ｉｎｃ．, Quanta Comp...</td>\n      <td>67840994</td>\n      <td>[{'code': 'G06F1/20', 'inventive': True, 'firs...</td>\n      <td>Japan</td>\n      <td>[G06F1/20, H05K7/20, G06F1/16]</td>\n      <td>{H05, G06}</td>\n      <td>{G, H}</td>\n    </tr>\n    <tr>\n      <th>3</th>\n      <td>US-2019015283-A1</td>\n      <td>US-201715648518-A</td>\n      <td>US</td>\n      <td>20190117</td>\n      <td>20170713</td>\n      <td>James Earl Jackson</td>\n      <td>65000790</td>\n      <td>[{'code': 'A61H1/00', 'inventive': True, 'firs...</td>\n      <td>United States of America</td>\n      <td>[A61H1/00, A41C1/00]</td>\n      <td>{A61, A41}</td>\n      <td>{A}</td>\n    </tr>\n    <tr>\n      <th>4</th>\n      <td>KR-20210078242-A</td>\n      <td>KR-20190170085-A</td>\n      <td>KR</td>\n      <td>20210628</td>\n      <td>20191218</td>\n      <td>엘지디스플레이 주식회사</td>\n      <td>76608219</td>\n      <td>[{'code': 'G09F9/30', 'inventive': True, 'firs...</td>\n      <td>Republic of Korea</td>\n      <td>[G09F9/30, G06F1/16, H01L51/00]</td>\n      <td>{H01, G09, G06}</td>\n      <td>{G, H}</td>\n    </tr>\n    <tr>\n      <th>5</th>\n      <td>CN-113091512-A</td>\n      <td>CN-202110372226-A</td>\n      <td>CN</td>\n      <td>20210709</td>\n      <td>20210407</td>\n      <td>合肥英睿系统技术有限公司</td>\n      <td>76674690</td>\n      <td>[{'code': 'F41G1/46', 'inventive': True, 'firs...</td>\n      <td>China</td>\n      <td>[F41G1/46, F41G1/473]</td>\n      <td>{F41}</td>\n      <td>{F}</td>\n    </tr>\n    <tr>\n      <th>6</th>\n      <td>AU-2020285671-A1</td>\n      <td>AU-2020285671-A</td>\n      <td>AU</td>\n      <td>20211209</td>\n      <td>20200527</td>\n      <td>Kverneland Group Ravenna S.R.L.</td>\n      <td>67957338</td>\n      <td>[{'code': 'A01F15/10', 'inventive': False, 'fi...</td>\n      <td>Australia</td>\n      <td>[A01F15/10, A01F15/00]</td>\n      <td>{A01}</td>\n      <td>{A}</td>\n    </tr>\n    <tr>\n      <th>7</th>\n      <td>CN-106304518-B</td>\n      <td>CN-201510242673-A</td>\n      <td>CN</td>\n      <td>20190416</td>\n      <td>20150513</td>\n      <td>华润矽威科技（上海）有限公司</td>\n      <td>57630890</td>\n      <td>[{'code': 'H05B37/02', 'inventive': True, 'fir...</td>\n      <td>China</td>\n      <td>[H05B37/02]</td>\n      <td>{H05}</td>\n      <td>{H}</td>\n    </tr>\n    <tr>\n      <th>8</th>\n      <td>CN-111657088-A</td>\n      <td>CN-202010566953-A</td>\n      <td>CN</td>\n      <td>20200915</td>\n      <td>20200619</td>\n      <td>江苏沿江地区农业科学研究所, 如皋市鑫磊生态家庭农场</td>\n      <td>72388926</td>\n      <td>[{'code': 'C05G3/60', 'inventive': True, 'firs...</td>\n      <td>China</td>\n      <td>[C05G3/60, C05F11/00, A01N65/30, A01P3/00, A01...</td>\n      <td>{C05, A01}</td>\n      <td>{A, C}</td>\n    </tr>\n    <tr>\n      <th>9</th>\n      <td>CN-114239837-A</td>\n      <td>CN-202111586532-A</td>\n      <td>CN</td>\n      <td>20220325</td>\n      <td>20211223</td>\n      <td>树根互联股份有限公司</td>\n      <td>80761871</td>\n      <td>[{'code': 'G06N7/00', 'inventive': True, 'firs...</td>\n      <td>China</td>\n      <td>[G06N7/00]</td>\n      <td>{G06}</td>\n      <td>{G}</td>\n    </tr>\n    <tr>\n      <th>10</th>\n      <td>JP-2021176159-A</td>\n      <td>JP-2020081026-A</td>\n      <td>JP</td>\n      <td>20211104</td>\n      <td>20200501</td>\n      <td>三菱電機エンジニアリング株式会社, Mitsubishi Electric Engineer...</td>\n      <td>78300495</td>\n      <td>[{'code': 'H01L35/06', 'inventive': True, 'fir...</td>\n      <td>Japan</td>\n      <td>[H01L35/06, H02N11/00]</td>\n      <td>{H02, H01}</td>\n      <td>{H}</td>\n    </tr>\n  </tbody>\n</table>\n</div>"
     },
     "execution_count": 148,
     "metadata": {},
     "output_type": "execute_result"
    }
   ],
   "source": [
    "df['assignee'] = df.apply(lambda x: assignee_clean(x['assignee']), axis=1)\n",
    "df.head(10)"
   ],
   "metadata": {
    "collapsed": false
   }
  },
  {
   "cell_type": "code",
   "execution_count": 173,
   "outputs": [],
   "source": [
    "## Renaming non-English alphabet names to english alphabet names for to 50 corps - this was done through translating the names.\n",
    "## Some sub-companies were merged with their parent - i.e. Samsung Display co. and Samsung Electronics\n",
    "df['assignee'].replace(to_replace=\"华为技术有限公司\", value = \"Huawei Technologies Co., Ltd.\", inplace=True)\n",
    "df['assignee'].replace(to_replace=\"삼성전자주식회사\", value = \"Samsung Electronics Co., Ltd.\", inplace=True)\n",
    "df['assignee'].replace(to_replace=\"珠海格力电器股份有限公司\", value = \"Gree Electric Appliances Inc.\", inplace=True)\n",
    "df['assignee'].replace(to_replace=\"腾讯科技（深圳）有限公司\", value = \"Tencent Technology (Shenzhen) Co., Ltd.\", inplace=True)\n",
    "df['assignee'].replace(to_replace=\"浙江大学\", value = \"Zhejiang University of Technology\", inplace=True)\n",
    "df['assignee'].replace(to_replace=\"엘지전자 주식회사\", value = \"Lg Electronics Inc.\", inplace=True)\n",
    "df['assignee'].replace(to_replace=\"维沃移动通信有限公司\", value = \"Vivo Communication Technology Co. Ltd.\", inplace=True)\n",
    "df['assignee'].replace(to_replace=\"三菱電機株式会社\", value = \"Mitsubishi Electric Corporation\", inplace=True)\n",
    "df['assignee'].replace(to_replace=\"天津大学\", value = \"Tianjin University\", inplace=True)\n",
    "df['assignee'].replace(to_replace=\"キヤノン株式会社, Canon Inc\", value = \"Canon Inc\", inplace=True)\n",
    "df['assignee'].replace(to_replace=\"Canon Kabushiki Kaisha\", value = \"Canon Inc\", inplace=True)\n",
    "df['assignee'].replace(to_replace=\"Oppo广东移动通信有限公司\", value = \"Guangdong Oppo Mobile Telecommunications Corp., Ltd\", inplace=True)\n",
    "df['assignee'].replace(to_replace=\"トヨタ自動車株式会社, Toyota Motor Corp\", value = \"Toyota Motor Corp\", inplace=True)\n",
    "df['assignee'].replace(to_replace=\"清华大学\", value = \"Tsinghua University\", inplace=True)\n",
    "df['assignee'].replace(to_replace=\"주식회사 엘지화학\", value = \"LG Chem\", inplace=True)\n",
    "df['assignee'].replace(to_replace=\"华南理工大学\", value = \"South China University of Technology\", inplace=True)\n",
    "df['assignee'].replace(to_replace=\"电子科技大学\", value = \"Chengdu University\", inplace=True)\n",
    "df['assignee'].replace(to_replace=\"三星电子株式会社\", value = \"Samsung Electronics Co., Ltd.\", inplace=True)\n",
    "df['assignee'].replace(to_replace=\"西安交通大学\", value = \"Xi'an Jiaotong University\", inplace=True)\n",
    "df['assignee'].replace(to_replace=\"东南大学\", value = \"Southeast China University\", inplace=True)\n",
    "df['assignee'].replace(to_replace=\"阿里巴巴集团控股有限公司\", value = \"Alibaba Group\", inplace=True)\n",
    "df['assignee'].replace(to_replace=\"Samsung Display Co., Ltd.\", value = \"Samsung Electronics Co., Ltd.\", inplace=True)\n",
    "df['assignee'].replace(to_replace=\"中兴通讯股份有限公司\", value = \"ZTE\", inplace=True)\n",
    "df['assignee'].replace(to_replace=\"キヤノン株式会社\", value = \"Canon Inc\", inplace=True)\n",
    "df['assignee'].replace(to_replace=\"华中科技大学\", value = \"Huazhong University of Science and Technology\", inplace=True)\n",
    "df['assignee'].replace(to_replace=\"中南大学\", value = \"Central South University Changsha\", inplace=True)\n",
    "df['assignee'].replace(to_replace=\"삼성디스플레이 주식회사\", value = \"Samsung Electronics Co., Ltd.\", inplace=True)\n",
    "df['assignee'].replace(to_replace=\"浙江工业大学\", value = \"Zhejiang University of Technology\", inplace=True)\n",
    "df['assignee'].replace(to_replace=\"北京航空航天大学\", value = \"Beihang University\", inplace=True)\n",
    "df['assignee'].replace(to_replace=\"哈尔滨工业大学\", value = \"Harbin Institute of Technology\", inplace=True)\n",
    "df['assignee'].replace(to_replace=\"吉林大学\", value = \"Jilin University\", inplace=True)\n",
    "df['assignee'].replace(to_replace=\"엘지디스플레이 주식회사\", value = \"Lg Electronics Inc.\", inplace=True)\n",
    "df['assignee'].replace(to_replace=\"パナソニックＩｐマネジメント株式会社\", value = \"Panasonic Intellectual Property Management Co., Ltd.\", inplace=True)\n",
    "df['assignee'].replace(to_replace=\"南京航空航天大学\", value = \"Nanjing University of Aeronautics and Astronautics\", inplace=True)\n",
    "df['assignee'].replace(to_replace=\"山东大学\", value = \"Shandong University\", inplace=True)\n",
    "df['assignee'].replace(to_replace=\"パナソニックＩｐマネジメント株式会社, Panasonic Ip Management Corp\", value = \"Panasonic Intellectual Property Management Co., Ltd.\", inplace=True)\n",
    "df['assignee'].replace(to_replace=\"上海交通大学\", value = \"Shanghai Jiaotong University\", inplace=True)\n",
    "df['assignee'].replace(to_replace=\"平安科技（深圳）有限公司\", value = \"Ping An Technology\", inplace=True)\n",
    "df['assignee'].replace(to_replace=\"苏州浪潮智能科技有限公司\", value = \"Suzhou Inspur Intelligent Technology Co., Ltd.\", inplace=True)\n",
    "df['assignee'].replace(to_replace=\"北京理工大学\", value = \"Beijing Institute of Technology\", inplace=True)\n",
    "df['assignee'].replace(to_replace=\"北京百度网讯科技有限公司\", value = \"Beijing Baidu Netcom Technology Co., Ltd\", inplace=True)\n",
    "df['assignee'].replace(to_replace=\"高通股份有限公司\", value = \"Qualcomm Incorporated\", inplace=True)"
   ],
   "metadata": {
    "collapsed": false
   }
  },
  {
   "cell_type": "code",
   "execution_count": 174,
   "outputs": [
    {
     "data": {
      "text/plain": "                                             Assignee  patent count\n0                       Samsung Electronics Co., Ltd.          7905\n1                       Huawei Technologies Co., Ltd.          5054\n2                                           Canon Inc          3671\n3         International Business Machines Corporation          3293\n4                                 Lg Electronics Inc.          3262\n5                               Qualcomm Incorporated          2274\n6   Panasonic Intellectual Property Management Co....          2238\n7                   Zhejiang University of Technology          2085\n8                     Mitsubishi Electric Corporation          2013\n9                       Gree Electric Appliances Inc.          1742\n10                                  Intel Corporation          1534\n11            Tencent Technology (Shenzhen) Co., Ltd.          1529\n12  Guangdong Oppo Mobile Telecommunications Corp....          1489\n13                                  Robert Bosch Gmbh          1218\n14                                         Apple Inc.          1191\n15             Vivo Communication Technology Co. Ltd.          1158\n16                    Toyota Jidosha Kabushiki Kaisha          1154\n17                      Ford Global Technologies, Llc          1122\n18                                 Tianjin University          1049\n19                Microsoft Technology Licensing, Llc          1024\n20                                   Sony Corporation          1020\n21                                Tsinghua University          1007\n22                                  Toyota Motor Corp          1003\n23                                            LG Chem           947\n24               South China University of Technology           941\n25                           General Electric Company           922\n26                                 Chengdu University           921\n27                          Xi'an Jiaotong University           909\n28                         Southeast China University           902\n29                                      Alibaba Group           882\n30                                                ZTE           861\n31                           Koninklijke Philips N.V.           811\n32                                 The Boeing Company           806\n33                         Siemens Aktiengesellschaft           805\n34      Huazhong University of Science and Technology           794\n35                  Central South University Changsha           783\n36                                 Beihang University           766\n37                                   Jilin University           745\n38                     Harbin Institute of Technology           741\n39                                Shandong University           702\n40  Nanjing University of Aeronautics and Astronau...           701\n41                                         Google Llc           700\n42                            Micron Technology, Inc.           697\n43                       Shanghai Jiaotong University           677\n44        Bayerische Motoren Werke Aktiengesellschaft           664\n45                                 Ping An Technology           663\n46     Suzhou Inspur Intelligent Technology Co., Ltd.           663\n47             Telefonaktiebolaget Lm Ericsson (Publ)           660\n48       Taiwan Semiconductor Manufacturing Co., Ltd.           652\n49                    Beijing Institute of Technology           650",
      "text/html": "<div>\n<style scoped>\n    .dataframe tbody tr th:only-of-type {\n        vertical-align: middle;\n    }\n\n    .dataframe tbody tr th {\n        vertical-align: top;\n    }\n\n    .dataframe thead th {\n        text-align: right;\n    }\n</style>\n<table border=\"1\" class=\"dataframe\">\n  <thead>\n    <tr style=\"text-align: right;\">\n      <th></th>\n      <th>Assignee</th>\n      <th>patent count</th>\n    </tr>\n  </thead>\n  <tbody>\n    <tr>\n      <th>0</th>\n      <td>Samsung Electronics Co., Ltd.</td>\n      <td>7905</td>\n    </tr>\n    <tr>\n      <th>1</th>\n      <td>Huawei Technologies Co., Ltd.</td>\n      <td>5054</td>\n    </tr>\n    <tr>\n      <th>2</th>\n      <td>Canon Inc</td>\n      <td>3671</td>\n    </tr>\n    <tr>\n      <th>3</th>\n      <td>International Business Machines Corporation</td>\n      <td>3293</td>\n    </tr>\n    <tr>\n      <th>4</th>\n      <td>Lg Electronics Inc.</td>\n      <td>3262</td>\n    </tr>\n    <tr>\n      <th>5</th>\n      <td>Qualcomm Incorporated</td>\n      <td>2274</td>\n    </tr>\n    <tr>\n      <th>6</th>\n      <td>Panasonic Intellectual Property Management Co....</td>\n      <td>2238</td>\n    </tr>\n    <tr>\n      <th>7</th>\n      <td>Zhejiang University of Technology</td>\n      <td>2085</td>\n    </tr>\n    <tr>\n      <th>8</th>\n      <td>Mitsubishi Electric Corporation</td>\n      <td>2013</td>\n    </tr>\n    <tr>\n      <th>9</th>\n      <td>Gree Electric Appliances Inc.</td>\n      <td>1742</td>\n    </tr>\n    <tr>\n      <th>10</th>\n      <td>Intel Corporation</td>\n      <td>1534</td>\n    </tr>\n    <tr>\n      <th>11</th>\n      <td>Tencent Technology (Shenzhen) Co., Ltd.</td>\n      <td>1529</td>\n    </tr>\n    <tr>\n      <th>12</th>\n      <td>Guangdong Oppo Mobile Telecommunications Corp....</td>\n      <td>1489</td>\n    </tr>\n    <tr>\n      <th>13</th>\n      <td>Robert Bosch Gmbh</td>\n      <td>1218</td>\n    </tr>\n    <tr>\n      <th>14</th>\n      <td>Apple Inc.</td>\n      <td>1191</td>\n    </tr>\n    <tr>\n      <th>15</th>\n      <td>Vivo Communication Technology Co. Ltd.</td>\n      <td>1158</td>\n    </tr>\n    <tr>\n      <th>16</th>\n      <td>Toyota Jidosha Kabushiki Kaisha</td>\n      <td>1154</td>\n    </tr>\n    <tr>\n      <th>17</th>\n      <td>Ford Global Technologies, Llc</td>\n      <td>1122</td>\n    </tr>\n    <tr>\n      <th>18</th>\n      <td>Tianjin University</td>\n      <td>1049</td>\n    </tr>\n    <tr>\n      <th>19</th>\n      <td>Microsoft Technology Licensing, Llc</td>\n      <td>1024</td>\n    </tr>\n    <tr>\n      <th>20</th>\n      <td>Sony Corporation</td>\n      <td>1020</td>\n    </tr>\n    <tr>\n      <th>21</th>\n      <td>Tsinghua University</td>\n      <td>1007</td>\n    </tr>\n    <tr>\n      <th>22</th>\n      <td>Toyota Motor Corp</td>\n      <td>1003</td>\n    </tr>\n    <tr>\n      <th>23</th>\n      <td>LG Chem</td>\n      <td>947</td>\n    </tr>\n    <tr>\n      <th>24</th>\n      <td>South China University of Technology</td>\n      <td>941</td>\n    </tr>\n    <tr>\n      <th>25</th>\n      <td>General Electric Company</td>\n      <td>922</td>\n    </tr>\n    <tr>\n      <th>26</th>\n      <td>Chengdu University</td>\n      <td>921</td>\n    </tr>\n    <tr>\n      <th>27</th>\n      <td>Xi'an Jiaotong University</td>\n      <td>909</td>\n    </tr>\n    <tr>\n      <th>28</th>\n      <td>Southeast China University</td>\n      <td>902</td>\n    </tr>\n    <tr>\n      <th>29</th>\n      <td>Alibaba Group</td>\n      <td>882</td>\n    </tr>\n    <tr>\n      <th>30</th>\n      <td>ZTE</td>\n      <td>861</td>\n    </tr>\n    <tr>\n      <th>31</th>\n      <td>Koninklijke Philips N.V.</td>\n      <td>811</td>\n    </tr>\n    <tr>\n      <th>32</th>\n      <td>The Boeing Company</td>\n      <td>806</td>\n    </tr>\n    <tr>\n      <th>33</th>\n      <td>Siemens Aktiengesellschaft</td>\n      <td>805</td>\n    </tr>\n    <tr>\n      <th>34</th>\n      <td>Huazhong University of Science and Technology</td>\n      <td>794</td>\n    </tr>\n    <tr>\n      <th>35</th>\n      <td>Central South University Changsha</td>\n      <td>783</td>\n    </tr>\n    <tr>\n      <th>36</th>\n      <td>Beihang University</td>\n      <td>766</td>\n    </tr>\n    <tr>\n      <th>37</th>\n      <td>Jilin University</td>\n      <td>745</td>\n    </tr>\n    <tr>\n      <th>38</th>\n      <td>Harbin Institute of Technology</td>\n      <td>741</td>\n    </tr>\n    <tr>\n      <th>39</th>\n      <td>Shandong University</td>\n      <td>702</td>\n    </tr>\n    <tr>\n      <th>40</th>\n      <td>Nanjing University of Aeronautics and Astronau...</td>\n      <td>701</td>\n    </tr>\n    <tr>\n      <th>41</th>\n      <td>Google Llc</td>\n      <td>700</td>\n    </tr>\n    <tr>\n      <th>42</th>\n      <td>Micron Technology, Inc.</td>\n      <td>697</td>\n    </tr>\n    <tr>\n      <th>43</th>\n      <td>Shanghai Jiaotong University</td>\n      <td>677</td>\n    </tr>\n    <tr>\n      <th>44</th>\n      <td>Bayerische Motoren Werke Aktiengesellschaft</td>\n      <td>664</td>\n    </tr>\n    <tr>\n      <th>45</th>\n      <td>Ping An Technology</td>\n      <td>663</td>\n    </tr>\n    <tr>\n      <th>46</th>\n      <td>Suzhou Inspur Intelligent Technology Co., Ltd.</td>\n      <td>663</td>\n    </tr>\n    <tr>\n      <th>47</th>\n      <td>Telefonaktiebolaget Lm Ericsson (Publ)</td>\n      <td>660</td>\n    </tr>\n    <tr>\n      <th>48</th>\n      <td>Taiwan Semiconductor Manufacturing Co., Ltd.</td>\n      <td>652</td>\n    </tr>\n    <tr>\n      <th>49</th>\n      <td>Beijing Institute of Technology</td>\n      <td>650</td>\n    </tr>\n  </tbody>\n</table>\n</div>"
     },
     "execution_count": 174,
     "metadata": {},
     "output_type": "execute_result"
    }
   ],
   "source": [
    "# counts of assignees - most frequent globally\n",
    "assignee_count = df['assignee'].value_counts()\n",
    "assignee_count = pd.DataFrame(assignee_count).reset_index()\n",
    "assignee_count.rename(mapper={'index':'Assignee', 'assignee':'patent count'}, axis=1, inplace=True)\n",
    "assignee_count.head(50)"
   ],
   "metadata": {
    "collapsed": false
   }
  },
  {
   "cell_type": "code",
   "execution_count": 175,
   "outputs": [
    {
     "data": {
      "text/plain": "                                             Assignee  patent count\n0                    Chinese Educational Institutions         14373\n1                       Samsung Electronics Co., Ltd.          7905\n2                       Huawei Technologies Co., Ltd.          5054\n3                                           Canon Inc          3671\n4         International Business Machines Corporation          3293\n5                                 Lg Electronics Inc.          3262\n6                               Qualcomm Incorporated          2274\n7   Panasonic Intellectual Property Management Co....          2238\n8                     Mitsubishi Electric Corporation          2013\n9                       Gree Electric Appliances Inc.          1742\n10                                  Intel Corporation          1534\n11            Tencent Technology (Shenzhen) Co., Ltd.          1529\n12  Guangdong Oppo Mobile Telecommunications Corp....          1489\n13                                  Robert Bosch Gmbh          1218\n14                                         Apple Inc.          1191\n15             Vivo Communication Technology Co. Ltd.          1158\n16                    Toyota Jidosha Kabushiki Kaisha          1154\n17                      Ford Global Technologies, Llc          1122\n18                Microsoft Technology Licensing, Llc          1024\n19                                   Sony Corporation          1020\n20                                  Toyota Motor Corp          1003\n21                                            LG Chem           947\n22                           General Electric Company           922\n23                                      Alibaba Group           882\n24                                                ZTE           861\n25                           Koninklijke Philips N.V.           811\n26                                 The Boeing Company           806\n27                         Siemens Aktiengesellschaft           805\n28                                         Google Llc           700\n29                            Micron Technology, Inc.           697\n30        Bayerische Motoren Werke Aktiengesellschaft           664\n31     Suzhou Inspur Intelligent Technology Co., Ltd.           663\n32                                 Ping An Technology           663\n33             Telefonaktiebolaget Lm Ericsson (Publ)           660\n34       Taiwan Semiconductor Manufacturing Co., Ltd.           652\n35           Beijing Baidu Netcom Technology Co., Ltd           649",
      "text/html": "<div>\n<style scoped>\n    .dataframe tbody tr th:only-of-type {\n        vertical-align: middle;\n    }\n\n    .dataframe tbody tr th {\n        vertical-align: top;\n    }\n\n    .dataframe thead th {\n        text-align: right;\n    }\n</style>\n<table border=\"1\" class=\"dataframe\">\n  <thead>\n    <tr style=\"text-align: right;\">\n      <th></th>\n      <th>Assignee</th>\n      <th>patent count</th>\n    </tr>\n  </thead>\n  <tbody>\n    <tr>\n      <th>0</th>\n      <td>Chinese Educational Institutions</td>\n      <td>14373</td>\n    </tr>\n    <tr>\n      <th>1</th>\n      <td>Samsung Electronics Co., Ltd.</td>\n      <td>7905</td>\n    </tr>\n    <tr>\n      <th>2</th>\n      <td>Huawei Technologies Co., Ltd.</td>\n      <td>5054</td>\n    </tr>\n    <tr>\n      <th>3</th>\n      <td>Canon Inc</td>\n      <td>3671</td>\n    </tr>\n    <tr>\n      <th>4</th>\n      <td>International Business Machines Corporation</td>\n      <td>3293</td>\n    </tr>\n    <tr>\n      <th>5</th>\n      <td>Lg Electronics Inc.</td>\n      <td>3262</td>\n    </tr>\n    <tr>\n      <th>6</th>\n      <td>Qualcomm Incorporated</td>\n      <td>2274</td>\n    </tr>\n    <tr>\n      <th>7</th>\n      <td>Panasonic Intellectual Property Management Co....</td>\n      <td>2238</td>\n    </tr>\n    <tr>\n      <th>8</th>\n      <td>Mitsubishi Electric Corporation</td>\n      <td>2013</td>\n    </tr>\n    <tr>\n      <th>9</th>\n      <td>Gree Electric Appliances Inc.</td>\n      <td>1742</td>\n    </tr>\n    <tr>\n      <th>10</th>\n      <td>Intel Corporation</td>\n      <td>1534</td>\n    </tr>\n    <tr>\n      <th>11</th>\n      <td>Tencent Technology (Shenzhen) Co., Ltd.</td>\n      <td>1529</td>\n    </tr>\n    <tr>\n      <th>12</th>\n      <td>Guangdong Oppo Mobile Telecommunications Corp....</td>\n      <td>1489</td>\n    </tr>\n    <tr>\n      <th>13</th>\n      <td>Robert Bosch Gmbh</td>\n      <td>1218</td>\n    </tr>\n    <tr>\n      <th>14</th>\n      <td>Apple Inc.</td>\n      <td>1191</td>\n    </tr>\n    <tr>\n      <th>15</th>\n      <td>Vivo Communication Technology Co. Ltd.</td>\n      <td>1158</td>\n    </tr>\n    <tr>\n      <th>16</th>\n      <td>Toyota Jidosha Kabushiki Kaisha</td>\n      <td>1154</td>\n    </tr>\n    <tr>\n      <th>17</th>\n      <td>Ford Global Technologies, Llc</td>\n      <td>1122</td>\n    </tr>\n    <tr>\n      <th>18</th>\n      <td>Microsoft Technology Licensing, Llc</td>\n      <td>1024</td>\n    </tr>\n    <tr>\n      <th>19</th>\n      <td>Sony Corporation</td>\n      <td>1020</td>\n    </tr>\n    <tr>\n      <th>20</th>\n      <td>Toyota Motor Corp</td>\n      <td>1003</td>\n    </tr>\n    <tr>\n      <th>21</th>\n      <td>LG Chem</td>\n      <td>947</td>\n    </tr>\n    <tr>\n      <th>22</th>\n      <td>General Electric Company</td>\n      <td>922</td>\n    </tr>\n    <tr>\n      <th>23</th>\n      <td>Alibaba Group</td>\n      <td>882</td>\n    </tr>\n    <tr>\n      <th>24</th>\n      <td>ZTE</td>\n      <td>861</td>\n    </tr>\n    <tr>\n      <th>25</th>\n      <td>Koninklijke Philips N.V.</td>\n      <td>811</td>\n    </tr>\n    <tr>\n      <th>26</th>\n      <td>The Boeing Company</td>\n      <td>806</td>\n    </tr>\n    <tr>\n      <th>27</th>\n      <td>Siemens Aktiengesellschaft</td>\n      <td>805</td>\n    </tr>\n    <tr>\n      <th>28</th>\n      <td>Google Llc</td>\n      <td>700</td>\n    </tr>\n    <tr>\n      <th>29</th>\n      <td>Micron Technology, Inc.</td>\n      <td>697</td>\n    </tr>\n    <tr>\n      <th>30</th>\n      <td>Bayerische Motoren Werke Aktiengesellschaft</td>\n      <td>664</td>\n    </tr>\n    <tr>\n      <th>31</th>\n      <td>Suzhou Inspur Intelligent Technology Co., Ltd.</td>\n      <td>663</td>\n    </tr>\n    <tr>\n      <th>32</th>\n      <td>Ping An Technology</td>\n      <td>663</td>\n    </tr>\n    <tr>\n      <th>33</th>\n      <td>Telefonaktiebolaget Lm Ericsson (Publ)</td>\n      <td>660</td>\n    </tr>\n    <tr>\n      <th>34</th>\n      <td>Taiwan Semiconductor Manufacturing Co., Ltd.</td>\n      <td>652</td>\n    </tr>\n    <tr>\n      <th>35</th>\n      <td>Beijing Baidu Netcom Technology Co., Ltd</td>\n      <td>649</td>\n    </tr>\n  </tbody>\n</table>\n</div>"
     },
     "execution_count": 175,
     "metadata": {},
     "output_type": "execute_result"
    }
   ],
   "source": [
    "## Grouping chinese educational institutions\n",
    "df_assignee_grouped = df.copy()\n",
    "df_assignee_grouped['assignee'].replace(to_replace=\"Zhejiang University of Technology\", value = \"Chinese Educational Institutions\", inplace=True)\n",
    "df_assignee_grouped['assignee'].replace(to_replace=\"Tianjin University\", value = \"Chinese Educational Institutions\", inplace=True)\n",
    "df_assignee_grouped['assignee'].replace(to_replace=\"Tsinghua University\", value = \"Chinese Educational Institutions\", inplace=True)\n",
    "df_assignee_grouped['assignee'].replace(to_replace=\"South China University of Technology\", value = \"Chinese Educational Institutions\", inplace=True)\n",
    "df_assignee_grouped['assignee'].replace(to_replace=\"Chengdu University\", value = \"Chinese Educational Institutions\", inplace=True)\n",
    "df_assignee_grouped['assignee'].replace(to_replace=\"Xi'an Jiaotong University\", value = \"Chinese Educational Institutions\", inplace=True)\n",
    "df_assignee_grouped['assignee'].replace(to_replace=\"Southeast China University\", value = \"Chinese Educational Institutions\", inplace=True)\n",
    "df_assignee_grouped['assignee'].replace(to_replace=\"Huazhong University of Science and Technology\", value = \"Chinese Educational Institutions\", inplace=True)\n",
    "df_assignee_grouped['assignee'].replace(to_replace=\"Central South University Changsha\", value = \"Chinese Educational Institutions\", inplace=True)\n",
    "df_assignee_grouped['assignee'].replace(to_replace=\"Zhejiang University of Technology\", value = \"Chinese Educational Institutions\", inplace=True)\n",
    "df_assignee_grouped['assignee'].replace(to_replace=\"Beihang University\", value = \"Chinese Educational Institutions\", inplace=True)\n",
    "df_assignee_grouped['assignee'].replace(to_replace=\"Harbin Institute of Technology\", value = \"Chinese Educational Institutions\", inplace=True)\n",
    "df_assignee_grouped['assignee'].replace(to_replace=\"Jilin University\", value = \"Chinese Educational Institutions\", inplace=True)\n",
    "df_assignee_grouped['assignee'].replace(to_replace=\"Nanjing University of Aeronautics and Astronautics\", value = \"Chinese Educational Institutions\", inplace=True)\n",
    "df_assignee_grouped['assignee'].replace(to_replace=\"Shandong University\", value = \"Chinese Educational Institutions\", inplace=True)\n",
    "df_assignee_grouped['assignee'].replace(to_replace=\"Shanghai Jiaotong University\", value = \"Chinese Educational Institutions\", inplace=True)\n",
    "df_assignee_grouped['assignee'].replace(to_replace=\"Beijing Institute of Technology\", value = \"Chinese Educational Institutions\", inplace=True)\n",
    "assignee_count_CN_uni_grouped = df_assignee_grouped['assignee'].value_counts()\n",
    "assignee_count_CN_uni_grouped = pd.DataFrame(assignee_count_CN_uni_grouped).reset_index()\n",
    "assignee_count_CN_uni_grouped.rename(mapper={'index':'Assignee', 'assignee':'patent count'}, axis=1, inplace=True)\n",
    "assignee_count_CN_uni_grouped.head(36)"
   ],
   "metadata": {
    "collapsed": false
   }
  },
  {
   "cell_type": "code",
   "execution_count": 176,
   "outputs": [
    {
     "data": {
      "text/plain": "                                          Assignee  patent count\n0  ['International Business Machines Corporation']          3252\n1                ['Samsung Electronics Co., Ltd.']          2288\n2                            ['Intel Corporation']          1283\n3                       ['Canon Kabushiki Kaisha']          1219\n4                        ['Qualcomm Incorporated']          1106\n5                          ['Lg Electronics Inc.']          1082\n6          ['Microsoft Technology Licensing, Llc']           997\n7                ['Huawei Technologies Co., Ltd.']           978\n8                                   ['Apple Inc.']           947\n9              ['Toyota Jidosha Kabushiki Kaisha']           811",
      "text/html": "<div>\n<style scoped>\n    .dataframe tbody tr th:only-of-type {\n        vertical-align: middle;\n    }\n\n    .dataframe tbody tr th {\n        vertical-align: top;\n    }\n\n    .dataframe thead th {\n        text-align: right;\n    }\n</style>\n<table border=\"1\" class=\"dataframe\">\n  <thead>\n    <tr style=\"text-align: right;\">\n      <th></th>\n      <th>Assignee</th>\n      <th>patent count</th>\n    </tr>\n  </thead>\n  <tbody>\n    <tr>\n      <th>0</th>\n      <td>['International Business Machines Corporation']</td>\n      <td>3252</td>\n    </tr>\n    <tr>\n      <th>1</th>\n      <td>['Samsung Electronics Co., Ltd.']</td>\n      <td>2288</td>\n    </tr>\n    <tr>\n      <th>2</th>\n      <td>['Intel Corporation']</td>\n      <td>1283</td>\n    </tr>\n    <tr>\n      <th>3</th>\n      <td>['Canon Kabushiki Kaisha']</td>\n      <td>1219</td>\n    </tr>\n    <tr>\n      <th>4</th>\n      <td>['Qualcomm Incorporated']</td>\n      <td>1106</td>\n    </tr>\n    <tr>\n      <th>5</th>\n      <td>['Lg Electronics Inc.']</td>\n      <td>1082</td>\n    </tr>\n    <tr>\n      <th>6</th>\n      <td>['Microsoft Technology Licensing, Llc']</td>\n      <td>997</td>\n    </tr>\n    <tr>\n      <th>7</th>\n      <td>['Huawei Technologies Co., Ltd.']</td>\n      <td>978</td>\n    </tr>\n    <tr>\n      <th>8</th>\n      <td>['Apple Inc.']</td>\n      <td>947</td>\n    </tr>\n    <tr>\n      <th>9</th>\n      <td>['Toyota Jidosha Kabushiki Kaisha']</td>\n      <td>811</td>\n    </tr>\n  </tbody>\n</table>\n</div>"
     },
     "execution_count": 176,
     "metadata": {},
     "output_type": "execute_result"
    }
   ],
   "source": [
    "# counts of assignees - US and EP case studies\n",
    "assignee_count_usa = df_usa['assignee'].value_counts()\n",
    "assignee_count_usa = pd.DataFrame(assignee_count_usa).reset_index()\n",
    "assignee_count_usa.rename(mapper={'index':'Assignee', 'assignee':'patent count'}, axis=1, inplace=True)\n",
    "assignee_count_usa.head(10)"
   ],
   "metadata": {
    "collapsed": false
   }
  },
  {
   "cell_type": "code",
   "execution_count": 177,
   "outputs": [
    {
     "data": {
      "text/plain": "                                     Assignee  patent count\n0           ['Huawei Technologies Co., Ltd.']          1266\n1           ['Samsung Electronics Co., Ltd.']          1037\n2                     ['LG Electronics Inc.']           491\n3                ['Koninklijke Philips N.V.']           417\n4  ['Telefonaktiebolaget LM Ericsson (publ)']           407\n5              ['Siemens Aktiengesellschaft']           401\n6                   ['Qualcomm Incorporated']           379\n7                       ['Robert Bosch GmbH']           372\n8     ['Microsoft Technology Licensing, LLC']           362\n9         ['Mitsubishi Electric Corporation']           353",
      "text/html": "<div>\n<style scoped>\n    .dataframe tbody tr th:only-of-type {\n        vertical-align: middle;\n    }\n\n    .dataframe tbody tr th {\n        vertical-align: top;\n    }\n\n    .dataframe thead th {\n        text-align: right;\n    }\n</style>\n<table border=\"1\" class=\"dataframe\">\n  <thead>\n    <tr style=\"text-align: right;\">\n      <th></th>\n      <th>Assignee</th>\n      <th>patent count</th>\n    </tr>\n  </thead>\n  <tbody>\n    <tr>\n      <th>0</th>\n      <td>['Huawei Technologies Co., Ltd.']</td>\n      <td>1266</td>\n    </tr>\n    <tr>\n      <th>1</th>\n      <td>['Samsung Electronics Co., Ltd.']</td>\n      <td>1037</td>\n    </tr>\n    <tr>\n      <th>2</th>\n      <td>['LG Electronics Inc.']</td>\n      <td>491</td>\n    </tr>\n    <tr>\n      <th>3</th>\n      <td>['Koninklijke Philips N.V.']</td>\n      <td>417</td>\n    </tr>\n    <tr>\n      <th>4</th>\n      <td>['Telefonaktiebolaget LM Ericsson (publ)']</td>\n      <td>407</td>\n    </tr>\n    <tr>\n      <th>5</th>\n      <td>['Siemens Aktiengesellschaft']</td>\n      <td>401</td>\n    </tr>\n    <tr>\n      <th>6</th>\n      <td>['Qualcomm Incorporated']</td>\n      <td>379</td>\n    </tr>\n    <tr>\n      <th>7</th>\n      <td>['Robert Bosch GmbH']</td>\n      <td>372</td>\n    </tr>\n    <tr>\n      <th>8</th>\n      <td>['Microsoft Technology Licensing, LLC']</td>\n      <td>362</td>\n    </tr>\n    <tr>\n      <th>9</th>\n      <td>['Mitsubishi Electric Corporation']</td>\n      <td>353</td>\n    </tr>\n  </tbody>\n</table>\n</div>"
     },
     "execution_count": 177,
     "metadata": {},
     "output_type": "execute_result"
    }
   ],
   "source": [
    "# counts of assignees - US and EP case studies\n",
    "assignee_count_europe = df_europe['assignee'].value_counts()\n",
    "assignee_count_europe = pd.DataFrame(assignee_count_europe).reset_index()\n",
    "assignee_count_europe.rename(mapper={'index':'Assignee', 'assignee':'patent count'}, axis=1, inplace=True)\n",
    "assignee_count_europe.head(10)"
   ],
   "metadata": {
    "collapsed": false
   }
  },
  {
   "cell_type": "markdown",
   "source": [
    "# Trends by year"
   ],
   "metadata": {
    "collapsed": false
   }
  },
  {
   "cell_type": "code",
   "execution_count": 178,
   "outputs": [],
   "source": [
    "df_2018 = df[df['publication_date'] < 20190000].copy()"
   ],
   "metadata": {
    "collapsed": false
   }
  },
  {
   "cell_type": "code",
   "execution_count": 179,
   "outputs": [],
   "source": [
    "df_2019 = df[ (df['publication_date'] < 20200000) & (df['publication_date'] >= 20190000)].copy()"
   ],
   "metadata": {
    "collapsed": false
   }
  },
  {
   "cell_type": "code",
   "execution_count": 180,
   "outputs": [],
   "source": [
    "df_2020 = df[ (df['publication_date'] < 20210000) & (df['publication_date'] >= 20200000)].copy()"
   ],
   "metadata": {
    "collapsed": false
   }
  },
  {
   "cell_type": "code",
   "execution_count": 181,
   "outputs": [],
   "source": [
    "df_2021 = df[ (df['publication_date'] < 20220000) & (df['publication_date'] >= 20210000)].copy()"
   ],
   "metadata": {
    "collapsed": false
   }
  },
  {
   "cell_type": "code",
   "execution_count": 182,
   "outputs": [],
   "source": [
    "df_2022 = df[df['publication_date'] >= 20220000].copy()"
   ],
   "metadata": {
    "collapsed": false
   }
  },
  {
   "cell_type": "code",
   "execution_count": 182,
   "outputs": [],
   "source": [],
   "metadata": {
    "collapsed": false
   }
  },
  {
   "cell_type": "code",
   "execution_count": 183,
   "outputs": [
    {
     "name": "stdout",
     "output_type": "stream",
     "text": [
      "Patents published in 2018: 195588\n",
      "Patents published in 2019: 196906\n",
      "Patents published in 2020: 197021\n",
      "Patents published in 2021: 214100\n",
      "Patents published by June 2022: 117846\n"
     ]
    }
   ],
   "source": [
    "## total number of patents filed per year\n",
    "print(f'Patents published in 2018: {len(df_2018)}')\n",
    "print(f'Patents published in 2019: {len(df_2019)}')\n",
    "print(f'Patents published in 2020: {len(df_2020)}')\n",
    "print(f'Patents published in 2021: {len(df_2021)}')\n",
    "print(f'Patents published by June 2022: {len(df_2022)}')"
   ],
   "metadata": {
    "collapsed": false
   }
  },
  {
   "cell_type": "code",
   "execution_count": 184,
   "outputs": [],
   "source": [
    "## differences in types of tech pre and post covid?"
   ],
   "metadata": {
    "collapsed": false
   }
  },
  {
   "cell_type": "code",
   "execution_count": 185,
   "outputs": [],
   "source": [
    "df_pre_pandemic = df[df['publication_date'] < 20210600].copy()\n",
    "df_post_pandemic = df[df['publication_date'] > 20210600].copy()"
   ],
   "metadata": {
    "collapsed": false
   }
  },
  {
   "cell_type": "code",
   "execution_count": 186,
   "outputs": [
    {
     "data": {
      "text/plain": "    subclass  patent count                                  class_description  \\\n0        G06         92921                 COMPUTING; CALCULATING OR COUNTING   \n1        H04         71134                   ELECTRIC COMMUNICATION TECHNIQUE   \n2        A61         66910             MEDICAL OR VETERINARY SCIENCE; HYGIENE   \n3        H01         62699                            BASIC ELECTRIC ELEMENTS   \n4        G01         57857                                 MEASURING; TESTING   \n..       ...           ...                                                ...   \n126      B99             0  SUBJECT MATTER NOT OTHERWISE PROVIDED FOR IN T...   \n127      D99             0  SUBJECT MATTER NOT OTHERWISE PROVIDED FOR IN T...   \n128      F99             0  SUBJECT MATTER NOT OTHERWISE PROVIDED FOR IN T...   \n129      C99             0  SUBJECT MATTER NOT OTHERWISE PROVIDED FOR IN T...   \n130      E99             0  SUBJECT MATTER NOT OTHERWISE PROVIDED FOR IN T...   \n\n     subclass_proportion_%  \n0                 9.559577  \n1                 7.318162  \n2                 6.883603  \n3                 6.450382  \n4                 5.952244  \n..                     ...  \n126               0.000000  \n127               0.000000  \n128               0.000000  \n129               0.000000  \n130               0.000000  \n\n[131 rows x 4 columns]",
      "text/html": "<div>\n<style scoped>\n    .dataframe tbody tr th:only-of-type {\n        vertical-align: middle;\n    }\n\n    .dataframe tbody tr th {\n        vertical-align: top;\n    }\n\n    .dataframe thead th {\n        text-align: right;\n    }\n</style>\n<table border=\"1\" class=\"dataframe\">\n  <thead>\n    <tr style=\"text-align: right;\">\n      <th></th>\n      <th>subclass</th>\n      <th>patent count</th>\n      <th>class_description</th>\n      <th>subclass_proportion_%</th>\n    </tr>\n  </thead>\n  <tbody>\n    <tr>\n      <th>0</th>\n      <td>G06</td>\n      <td>92921</td>\n      <td>COMPUTING; CALCULATING OR COUNTING</td>\n      <td>9.559577</td>\n    </tr>\n    <tr>\n      <th>1</th>\n      <td>H04</td>\n      <td>71134</td>\n      <td>ELECTRIC COMMUNICATION TECHNIQUE</td>\n      <td>7.318162</td>\n    </tr>\n    <tr>\n      <th>2</th>\n      <td>A61</td>\n      <td>66910</td>\n      <td>MEDICAL OR VETERINARY SCIENCE; HYGIENE</td>\n      <td>6.883603</td>\n    </tr>\n    <tr>\n      <th>3</th>\n      <td>H01</td>\n      <td>62699</td>\n      <td>BASIC ELECTRIC ELEMENTS</td>\n      <td>6.450382</td>\n    </tr>\n    <tr>\n      <th>4</th>\n      <td>G01</td>\n      <td>57857</td>\n      <td>MEASURING; TESTING</td>\n      <td>5.952244</td>\n    </tr>\n    <tr>\n      <th>...</th>\n      <td>...</td>\n      <td>...</td>\n      <td>...</td>\n      <td>...</td>\n    </tr>\n    <tr>\n      <th>126</th>\n      <td>B99</td>\n      <td>0</td>\n      <td>SUBJECT MATTER NOT OTHERWISE PROVIDED FOR IN T...</td>\n      <td>0.000000</td>\n    </tr>\n    <tr>\n      <th>127</th>\n      <td>D99</td>\n      <td>0</td>\n      <td>SUBJECT MATTER NOT OTHERWISE PROVIDED FOR IN T...</td>\n      <td>0.000000</td>\n    </tr>\n    <tr>\n      <th>128</th>\n      <td>F99</td>\n      <td>0</td>\n      <td>SUBJECT MATTER NOT OTHERWISE PROVIDED FOR IN T...</td>\n      <td>0.000000</td>\n    </tr>\n    <tr>\n      <th>129</th>\n      <td>C99</td>\n      <td>0</td>\n      <td>SUBJECT MATTER NOT OTHERWISE PROVIDED FOR IN T...</td>\n      <td>0.000000</td>\n    </tr>\n    <tr>\n      <th>130</th>\n      <td>E99</td>\n      <td>0</td>\n      <td>SUBJECT MATTER NOT OTHERWISE PROVIDED FOR IN T...</td>\n      <td>0.000000</td>\n    </tr>\n  </tbody>\n</table>\n<p>131 rows × 4 columns</p>\n</div>"
     },
     "execution_count": 186,
     "metadata": {},
     "output_type": "execute_result"
    }
   ],
   "source": [
    "subclass_count_fn(df_pre_pandemic)"
   ],
   "metadata": {
    "collapsed": false
   }
  },
  {
   "cell_type": "code",
   "execution_count": 187,
   "outputs": [
    {
     "data": {
      "text/plain": "    subclass  patent count                                  class_description  \\\n0        G06         41092                 COMPUTING; CALCULATING OR COUNTING   \n1        H04         26095                   ELECTRIC COMMUNICATION TECHNIQUE   \n2        A61         24091             MEDICAL OR VETERINARY SCIENCE; HYGIENE   \n3        H01         23214                            BASIC ELECTRIC ELEMENTS   \n4        G01         22295                                 MEASURING; TESTING   \n..       ...           ...                                                ...   \n126      B99             0  SUBJECT MATTER NOT OTHERWISE PROVIDED FOR IN T...   \n127      D99             0  SUBJECT MATTER NOT OTHERWISE PROVIDED FOR IN T...   \n128      F99             0  SUBJECT MATTER NOT OTHERWISE PROVIDED FOR IN T...   \n129      C99             0  SUBJECT MATTER NOT OTHERWISE PROVIDED FOR IN T...   \n130      H99             0  SUBJECT MATTER NOT OTHERWISE PROVIDED FOR IN T...   \n\n     subclass_proportion_%  \n0                11.564722  \n1                 7.344043  \n2                 6.780047  \n3                 6.533229  \n4                 6.274590  \n..                     ...  \n126               0.000000  \n127               0.000000  \n128               0.000000  \n129               0.000000  \n130               0.000000  \n\n[131 rows x 4 columns]",
      "text/html": "<div>\n<style scoped>\n    .dataframe tbody tr th:only-of-type {\n        vertical-align: middle;\n    }\n\n    .dataframe tbody tr th {\n        vertical-align: top;\n    }\n\n    .dataframe thead th {\n        text-align: right;\n    }\n</style>\n<table border=\"1\" class=\"dataframe\">\n  <thead>\n    <tr style=\"text-align: right;\">\n      <th></th>\n      <th>subclass</th>\n      <th>patent count</th>\n      <th>class_description</th>\n      <th>subclass_proportion_%</th>\n    </tr>\n  </thead>\n  <tbody>\n    <tr>\n      <th>0</th>\n      <td>G06</td>\n      <td>41092</td>\n      <td>COMPUTING; CALCULATING OR COUNTING</td>\n      <td>11.564722</td>\n    </tr>\n    <tr>\n      <th>1</th>\n      <td>H04</td>\n      <td>26095</td>\n      <td>ELECTRIC COMMUNICATION TECHNIQUE</td>\n      <td>7.344043</td>\n    </tr>\n    <tr>\n      <th>2</th>\n      <td>A61</td>\n      <td>24091</td>\n      <td>MEDICAL OR VETERINARY SCIENCE; HYGIENE</td>\n      <td>6.780047</td>\n    </tr>\n    <tr>\n      <th>3</th>\n      <td>H01</td>\n      <td>23214</td>\n      <td>BASIC ELECTRIC ELEMENTS</td>\n      <td>6.533229</td>\n    </tr>\n    <tr>\n      <th>4</th>\n      <td>G01</td>\n      <td>22295</td>\n      <td>MEASURING; TESTING</td>\n      <td>6.274590</td>\n    </tr>\n    <tr>\n      <th>...</th>\n      <td>...</td>\n      <td>...</td>\n      <td>...</td>\n      <td>...</td>\n    </tr>\n    <tr>\n      <th>126</th>\n      <td>B99</td>\n      <td>0</td>\n      <td>SUBJECT MATTER NOT OTHERWISE PROVIDED FOR IN T...</td>\n      <td>0.000000</td>\n    </tr>\n    <tr>\n      <th>127</th>\n      <td>D99</td>\n      <td>0</td>\n      <td>SUBJECT MATTER NOT OTHERWISE PROVIDED FOR IN T...</td>\n      <td>0.000000</td>\n    </tr>\n    <tr>\n      <th>128</th>\n      <td>F99</td>\n      <td>0</td>\n      <td>SUBJECT MATTER NOT OTHERWISE PROVIDED FOR IN T...</td>\n      <td>0.000000</td>\n    </tr>\n    <tr>\n      <th>129</th>\n      <td>C99</td>\n      <td>0</td>\n      <td>SUBJECT MATTER NOT OTHERWISE PROVIDED FOR IN T...</td>\n      <td>0.000000</td>\n    </tr>\n    <tr>\n      <th>130</th>\n      <td>H99</td>\n      <td>0</td>\n      <td>SUBJECT MATTER NOT OTHERWISE PROVIDED FOR IN T...</td>\n      <td>0.000000</td>\n    </tr>\n  </tbody>\n</table>\n<p>131 rows × 4 columns</p>\n</div>"
     },
     "execution_count": 187,
     "metadata": {},
     "output_type": "execute_result"
    }
   ],
   "source": [
    "subclass_count_fn(df_post_pandemic)"
   ],
   "metadata": {
    "collapsed": false
   }
  },
  {
   "cell_type": "markdown",
   "source": [
    "## Datasets and Visualisations"
   ],
   "metadata": {
    "collapsed": false
   }
  },
  {
   "cell_type": "code",
   "execution_count": 188,
   "outputs": [],
   "source": [
    "## Datasets being used:"
   ],
   "metadata": {
    "collapsed": false
   }
  },
  {
   "cell_type": "code",
   "execution_count": 189,
   "outputs": [
    {
     "data": {
      "text/plain": "   country code  patent count              country_name  proportion_%\n0            CN        462481                     China     50.189970\n1            US        144679  United States of America     15.701044\n2            JP         92468                     Japan     10.034934\n3            EP         68402    European Patent Office      7.423212\n4            KR         58783         Republic of Korea      6.379326\n..          ...           ...                       ...           ...\n67           EE             5                   Estonia      0.000543\n68           SV             4               El Salvador      0.000434\n69           IS             3                   Iceland      0.000326\n70           MC             1                    Monaco      0.000109\n71           SA             1                       NaN      0.000109\n\n[72 rows x 4 columns]",
      "text/html": "<div>\n<style scoped>\n    .dataframe tbody tr th:only-of-type {\n        vertical-align: middle;\n    }\n\n    .dataframe tbody tr th {\n        vertical-align: top;\n    }\n\n    .dataframe thead th {\n        text-align: right;\n    }\n</style>\n<table border=\"1\" class=\"dataframe\">\n  <thead>\n    <tr style=\"text-align: right;\">\n      <th></th>\n      <th>country code</th>\n      <th>patent count</th>\n      <th>country_name</th>\n      <th>proportion_%</th>\n    </tr>\n  </thead>\n  <tbody>\n    <tr>\n      <th>0</th>\n      <td>CN</td>\n      <td>462481</td>\n      <td>China</td>\n      <td>50.189970</td>\n    </tr>\n    <tr>\n      <th>1</th>\n      <td>US</td>\n      <td>144679</td>\n      <td>United States of America</td>\n      <td>15.701044</td>\n    </tr>\n    <tr>\n      <th>2</th>\n      <td>JP</td>\n      <td>92468</td>\n      <td>Japan</td>\n      <td>10.034934</td>\n    </tr>\n    <tr>\n      <th>3</th>\n      <td>EP</td>\n      <td>68402</td>\n      <td>European Patent Office</td>\n      <td>7.423212</td>\n    </tr>\n    <tr>\n      <th>4</th>\n      <td>KR</td>\n      <td>58783</td>\n      <td>Republic of Korea</td>\n      <td>6.379326</td>\n    </tr>\n    <tr>\n      <th>...</th>\n      <td>...</td>\n      <td>...</td>\n      <td>...</td>\n      <td>...</td>\n    </tr>\n    <tr>\n      <th>67</th>\n      <td>EE</td>\n      <td>5</td>\n      <td>Estonia</td>\n      <td>0.000543</td>\n    </tr>\n    <tr>\n      <th>68</th>\n      <td>SV</td>\n      <td>4</td>\n      <td>El Salvador</td>\n      <td>0.000434</td>\n    </tr>\n    <tr>\n      <th>69</th>\n      <td>IS</td>\n      <td>3</td>\n      <td>Iceland</td>\n      <td>0.000326</td>\n    </tr>\n    <tr>\n      <th>70</th>\n      <td>MC</td>\n      <td>1</td>\n      <td>Monaco</td>\n      <td>0.000109</td>\n    </tr>\n    <tr>\n      <th>71</th>\n      <td>SA</td>\n      <td>1</td>\n      <td>NaN</td>\n      <td>0.000109</td>\n    </tr>\n  </tbody>\n</table>\n<p>72 rows × 4 columns</p>\n</div>"
     },
     "execution_count": 189,
     "metadata": {},
     "output_type": "execute_result"
    }
   ],
   "source": [
    "df_country"
   ],
   "metadata": {
    "collapsed": false
   }
  },
  {
   "cell_type": "code",
   "execution_count": 190,
   "outputs": [
    {
     "data": {
      "text/plain": "    subclass  patent count                                  class_description  \\\n0        G06        134013                 COMPUTING; CALCULATING OR COUNTING   \n1        H04         97229                   ELECTRIC COMMUNICATION TECHNIQUE   \n2        A61         91001             MEDICAL OR VETERINARY SCIENCE; HYGIENE   \n3        H01         85913                            BASIC ELECTRIC ELEMENTS   \n4        G01         80152                                 MEASURING; TESTING   \n..       ...           ...                                                ...   \n126      B99             0  SUBJECT MATTER NOT OTHERWISE PROVIDED FOR IN T...   \n127      D99             0  SUBJECT MATTER NOT OTHERWISE PROVIDED FOR IN T...   \n128      F99             0  SUBJECT MATTER NOT OTHERWISE PROVIDED FOR IN T...   \n129      C99             0  SUBJECT MATTER NOT OTHERWISE PROVIDED FOR IN T...   \n130      E99             0  SUBJECT MATTER NOT OTHERWISE PROVIDED FOR IN T...   \n\n     subclass_proportion_%  \n0                10.096343  \n1                 7.325090  \n2                 6.855882  \n3                 6.472559  \n4                 6.038534  \n..                     ...  \n126               0.000000  \n127               0.000000  \n128               0.000000  \n129               0.000000  \n130               0.000000  \n\n[131 rows x 4 columns]",
      "text/html": "<div>\n<style scoped>\n    .dataframe tbody tr th:only-of-type {\n        vertical-align: middle;\n    }\n\n    .dataframe tbody tr th {\n        vertical-align: top;\n    }\n\n    .dataframe thead th {\n        text-align: right;\n    }\n</style>\n<table border=\"1\" class=\"dataframe\">\n  <thead>\n    <tr style=\"text-align: right;\">\n      <th></th>\n      <th>subclass</th>\n      <th>patent count</th>\n      <th>class_description</th>\n      <th>subclass_proportion_%</th>\n    </tr>\n  </thead>\n  <tbody>\n    <tr>\n      <th>0</th>\n      <td>G06</td>\n      <td>134013</td>\n      <td>COMPUTING; CALCULATING OR COUNTING</td>\n      <td>10.096343</td>\n    </tr>\n    <tr>\n      <th>1</th>\n      <td>H04</td>\n      <td>97229</td>\n      <td>ELECTRIC COMMUNICATION TECHNIQUE</td>\n      <td>7.325090</td>\n    </tr>\n    <tr>\n      <th>2</th>\n      <td>A61</td>\n      <td>91001</td>\n      <td>MEDICAL OR VETERINARY SCIENCE; HYGIENE</td>\n      <td>6.855882</td>\n    </tr>\n    <tr>\n      <th>3</th>\n      <td>H01</td>\n      <td>85913</td>\n      <td>BASIC ELECTRIC ELEMENTS</td>\n      <td>6.472559</td>\n    </tr>\n    <tr>\n      <th>4</th>\n      <td>G01</td>\n      <td>80152</td>\n      <td>MEASURING; TESTING</td>\n      <td>6.038534</td>\n    </tr>\n    <tr>\n      <th>...</th>\n      <td>...</td>\n      <td>...</td>\n      <td>...</td>\n      <td>...</td>\n    </tr>\n    <tr>\n      <th>126</th>\n      <td>B99</td>\n      <td>0</td>\n      <td>SUBJECT MATTER NOT OTHERWISE PROVIDED FOR IN T...</td>\n      <td>0.000000</td>\n    </tr>\n    <tr>\n      <th>127</th>\n      <td>D99</td>\n      <td>0</td>\n      <td>SUBJECT MATTER NOT OTHERWISE PROVIDED FOR IN T...</td>\n      <td>0.000000</td>\n    </tr>\n    <tr>\n      <th>128</th>\n      <td>F99</td>\n      <td>0</td>\n      <td>SUBJECT MATTER NOT OTHERWISE PROVIDED FOR IN T...</td>\n      <td>0.000000</td>\n    </tr>\n    <tr>\n      <th>129</th>\n      <td>C99</td>\n      <td>0</td>\n      <td>SUBJECT MATTER NOT OTHERWISE PROVIDED FOR IN T...</td>\n      <td>0.000000</td>\n    </tr>\n    <tr>\n      <th>130</th>\n      <td>E99</td>\n      <td>0</td>\n      <td>SUBJECT MATTER NOT OTHERWISE PROVIDED FOR IN T...</td>\n      <td>0.000000</td>\n    </tr>\n  </tbody>\n</table>\n<p>131 rows × 4 columns</p>\n</div>"
     },
     "execution_count": 190,
     "metadata": {},
     "output_type": "execute_result"
    }
   ],
   "source": [
    "df_subclass_count"
   ],
   "metadata": {
    "collapsed": false
   }
  },
  {
   "cell_type": "code",
   "execution_count": 191,
   "outputs": [
    {
     "data": {
      "text/plain": "    subclass  patent count                                  class_description  \\\n0        G06         68190                 COMPUTING; CALCULATING OR COUNTING   \n1        G01         42734                                 MEASURING; TESTING   \n2        H04         39104                   ELECTRIC COMMUNICATION TECHNIQUE   \n3        H01         31914                            BASIC ELECTRIC ELEMENTS   \n4        A61         31452             MEDICAL OR VETERINARY SCIENCE; HYGIENE   \n..       ...           ...                                                ...   \n126      F99             0  SUBJECT MATTER NOT OTHERWISE PROVIDED FOR IN T...   \n127      E99             0  SUBJECT MATTER NOT OTHERWISE PROVIDED FOR IN T...   \n128      D99             0  SUBJECT MATTER NOT OTHERWISE PROVIDED FOR IN T...   \n129      C99             0  SUBJECT MATTER NOT OTHERWISE PROVIDED FOR IN T...   \n130      B99             0  SUBJECT MATTER NOT OTHERWISE PROVIDED FOR IN T...   \n\n     subclass_proportion_%  \n0                11.143067  \n1                 6.983250  \n2                 6.390065  \n3                 5.215132  \n4                 5.139636  \n..                     ...  \n126               0.000000  \n127               0.000000  \n128               0.000000  \n129               0.000000  \n130               0.000000  \n\n[131 rows x 4 columns]",
      "text/html": "<div>\n<style scoped>\n    .dataframe tbody tr th:only-of-type {\n        vertical-align: middle;\n    }\n\n    .dataframe tbody tr th {\n        vertical-align: top;\n    }\n\n    .dataframe thead th {\n        text-align: right;\n    }\n</style>\n<table border=\"1\" class=\"dataframe\">\n  <thead>\n    <tr style=\"text-align: right;\">\n      <th></th>\n      <th>subclass</th>\n      <th>patent count</th>\n      <th>class_description</th>\n      <th>subclass_proportion_%</th>\n    </tr>\n  </thead>\n  <tbody>\n    <tr>\n      <th>0</th>\n      <td>G06</td>\n      <td>68190</td>\n      <td>COMPUTING; CALCULATING OR COUNTING</td>\n      <td>11.143067</td>\n    </tr>\n    <tr>\n      <th>1</th>\n      <td>G01</td>\n      <td>42734</td>\n      <td>MEASURING; TESTING</td>\n      <td>6.983250</td>\n    </tr>\n    <tr>\n      <th>2</th>\n      <td>H04</td>\n      <td>39104</td>\n      <td>ELECTRIC COMMUNICATION TECHNIQUE</td>\n      <td>6.390065</td>\n    </tr>\n    <tr>\n      <th>3</th>\n      <td>H01</td>\n      <td>31914</td>\n      <td>BASIC ELECTRIC ELEMENTS</td>\n      <td>5.215132</td>\n    </tr>\n    <tr>\n      <th>4</th>\n      <td>A61</td>\n      <td>31452</td>\n      <td>MEDICAL OR VETERINARY SCIENCE; HYGIENE</td>\n      <td>5.139636</td>\n    </tr>\n    <tr>\n      <th>...</th>\n      <td>...</td>\n      <td>...</td>\n      <td>...</td>\n      <td>...</td>\n    </tr>\n    <tr>\n      <th>126</th>\n      <td>F99</td>\n      <td>0</td>\n      <td>SUBJECT MATTER NOT OTHERWISE PROVIDED FOR IN T...</td>\n      <td>0.000000</td>\n    </tr>\n    <tr>\n      <th>127</th>\n      <td>E99</td>\n      <td>0</td>\n      <td>SUBJECT MATTER NOT OTHERWISE PROVIDED FOR IN T...</td>\n      <td>0.000000</td>\n    </tr>\n    <tr>\n      <th>128</th>\n      <td>D99</td>\n      <td>0</td>\n      <td>SUBJECT MATTER NOT OTHERWISE PROVIDED FOR IN T...</td>\n      <td>0.000000</td>\n    </tr>\n    <tr>\n      <th>129</th>\n      <td>C99</td>\n      <td>0</td>\n      <td>SUBJECT MATTER NOT OTHERWISE PROVIDED FOR IN T...</td>\n      <td>0.000000</td>\n    </tr>\n    <tr>\n      <th>130</th>\n      <td>B99</td>\n      <td>0</td>\n      <td>SUBJECT MATTER NOT OTHERWISE PROVIDED FOR IN T...</td>\n      <td>0.000000</td>\n    </tr>\n  </tbody>\n</table>\n<p>131 rows × 4 columns</p>\n</div>"
     },
     "execution_count": 191,
     "metadata": {},
     "output_type": "execute_result"
    }
   ],
   "source": [
    "df_china_subclass"
   ],
   "metadata": {
    "collapsed": false
   }
  },
  {
   "cell_type": "code",
   "execution_count": 192,
   "outputs": [
    {
     "data": {
      "text/plain": "    subclass  patent count                                  class_description  \\\n0        G06         33146                 COMPUTING; CALCULATING OR COUNTING   \n1        H04         27488                   ELECTRIC COMMUNICATION TECHNIQUE   \n2        H01         18604                            BASIC ELECTRIC ELEMENTS   \n3        A61         18230             MEDICAL OR VETERINARY SCIENCE; HYGIENE   \n4        G01         12604                                 MEASURING; TESTING   \n..       ...           ...                                                ...   \n126      B99             0  SUBJECT MATTER NOT OTHERWISE PROVIDED FOR IN T...   \n127      C99             0  SUBJECT MATTER NOT OTHERWISE PROVIDED FOR IN T...   \n128      D99             0  SUBJECT MATTER NOT OTHERWISE PROVIDED FOR IN T...   \n129      E99             0  SUBJECT MATTER NOT OTHERWISE PROVIDED FOR IN T...   \n130      H99             0  SUBJECT MATTER NOT OTHERWISE PROVIDED FOR IN T...   \n\n     subclass_proportion_%  \n0                14.124395  \n1                11.713370  \n2                 7.927661  \n3                 7.768289  \n4                 5.370901  \n..                     ...  \n126               0.000000  \n127               0.000000  \n128               0.000000  \n129               0.000000  \n130               0.000000  \n\n[131 rows x 4 columns]",
      "text/html": "<div>\n<style scoped>\n    .dataframe tbody tr th:only-of-type {\n        vertical-align: middle;\n    }\n\n    .dataframe tbody tr th {\n        vertical-align: top;\n    }\n\n    .dataframe thead th {\n        text-align: right;\n    }\n</style>\n<table border=\"1\" class=\"dataframe\">\n  <thead>\n    <tr style=\"text-align: right;\">\n      <th></th>\n      <th>subclass</th>\n      <th>patent count</th>\n      <th>class_description</th>\n      <th>subclass_proportion_%</th>\n    </tr>\n  </thead>\n  <tbody>\n    <tr>\n      <th>0</th>\n      <td>G06</td>\n      <td>33146</td>\n      <td>COMPUTING; CALCULATING OR COUNTING</td>\n      <td>14.124395</td>\n    </tr>\n    <tr>\n      <th>1</th>\n      <td>H04</td>\n      <td>27488</td>\n      <td>ELECTRIC COMMUNICATION TECHNIQUE</td>\n      <td>11.713370</td>\n    </tr>\n    <tr>\n      <th>2</th>\n      <td>H01</td>\n      <td>18604</td>\n      <td>BASIC ELECTRIC ELEMENTS</td>\n      <td>7.927661</td>\n    </tr>\n    <tr>\n      <th>3</th>\n      <td>A61</td>\n      <td>18230</td>\n      <td>MEDICAL OR VETERINARY SCIENCE; HYGIENE</td>\n      <td>7.768289</td>\n    </tr>\n    <tr>\n      <th>4</th>\n      <td>G01</td>\n      <td>12604</td>\n      <td>MEASURING; TESTING</td>\n      <td>5.370901</td>\n    </tr>\n    <tr>\n      <th>...</th>\n      <td>...</td>\n      <td>...</td>\n      <td>...</td>\n      <td>...</td>\n    </tr>\n    <tr>\n      <th>126</th>\n      <td>B99</td>\n      <td>0</td>\n      <td>SUBJECT MATTER NOT OTHERWISE PROVIDED FOR IN T...</td>\n      <td>0.000000</td>\n    </tr>\n    <tr>\n      <th>127</th>\n      <td>C99</td>\n      <td>0</td>\n      <td>SUBJECT MATTER NOT OTHERWISE PROVIDED FOR IN T...</td>\n      <td>0.000000</td>\n    </tr>\n    <tr>\n      <th>128</th>\n      <td>D99</td>\n      <td>0</td>\n      <td>SUBJECT MATTER NOT OTHERWISE PROVIDED FOR IN T...</td>\n      <td>0.000000</td>\n    </tr>\n    <tr>\n      <th>129</th>\n      <td>E99</td>\n      <td>0</td>\n      <td>SUBJECT MATTER NOT OTHERWISE PROVIDED FOR IN T...</td>\n      <td>0.000000</td>\n    </tr>\n    <tr>\n      <th>130</th>\n      <td>H99</td>\n      <td>0</td>\n      <td>SUBJECT MATTER NOT OTHERWISE PROVIDED FOR IN T...</td>\n      <td>0.000000</td>\n    </tr>\n  </tbody>\n</table>\n<p>131 rows × 4 columns</p>\n</div>"
     },
     "execution_count": 192,
     "metadata": {},
     "output_type": "execute_result"
    }
   ],
   "source": [
    "df_usa_subclass"
   ],
   "metadata": {
    "collapsed": false
   }
  },
  {
   "cell_type": "code",
   "execution_count": 193,
   "outputs": [
    {
     "data": {
      "text/plain": "    subclass  patent count                                  class_description  \\\n0        A61         10755             MEDICAL OR VETERINARY SCIENCE; HYGIENE   \n1        H04         10284                   ELECTRIC COMMUNICATION TECHNIQUE   \n2        G06          7056                 COMPUTING; CALCULATING OR COUNTING   \n3        G01          5907                                 MEASURING; TESTING   \n4        H01          5859                            BASIC ELECTRIC ELEMENTS   \n..       ...           ...                                                ...   \n126      E99             0  SUBJECT MATTER NOT OTHERWISE PROVIDED FOR IN T...   \n127      D99             0  SUBJECT MATTER NOT OTHERWISE PROVIDED FOR IN T...   \n128      B99             0  SUBJECT MATTER NOT OTHERWISE PROVIDED FOR IN T...   \n129      A99             0  SUBJECT MATTER NOT OTHERWISE PROVIDED FOR IN T...   \n130      H99             0  SUBJECT MATTER NOT OTHERWISE PROVIDED FOR IN T...   \n\n     subclass_proportion_%  \n0                10.292457  \n1                 9.841713  \n2                 6.752541  \n3                 5.652956  \n4                 5.607020  \n..                     ...  \n126               0.000000  \n127               0.000000  \n128               0.000000  \n129               0.000000  \n130               0.000000  \n\n[131 rows x 4 columns]",
      "text/html": "<div>\n<style scoped>\n    .dataframe tbody tr th:only-of-type {\n        vertical-align: middle;\n    }\n\n    .dataframe tbody tr th {\n        vertical-align: top;\n    }\n\n    .dataframe thead th {\n        text-align: right;\n    }\n</style>\n<table border=\"1\" class=\"dataframe\">\n  <thead>\n    <tr style=\"text-align: right;\">\n      <th></th>\n      <th>subclass</th>\n      <th>patent count</th>\n      <th>class_description</th>\n      <th>subclass_proportion_%</th>\n    </tr>\n  </thead>\n  <tbody>\n    <tr>\n      <th>0</th>\n      <td>A61</td>\n      <td>10755</td>\n      <td>MEDICAL OR VETERINARY SCIENCE; HYGIENE</td>\n      <td>10.292457</td>\n    </tr>\n    <tr>\n      <th>1</th>\n      <td>H04</td>\n      <td>10284</td>\n      <td>ELECTRIC COMMUNICATION TECHNIQUE</td>\n      <td>9.841713</td>\n    </tr>\n    <tr>\n      <th>2</th>\n      <td>G06</td>\n      <td>7056</td>\n      <td>COMPUTING; CALCULATING OR COUNTING</td>\n      <td>6.752541</td>\n    </tr>\n    <tr>\n      <th>3</th>\n      <td>G01</td>\n      <td>5907</td>\n      <td>MEASURING; TESTING</td>\n      <td>5.652956</td>\n    </tr>\n    <tr>\n      <th>4</th>\n      <td>H01</td>\n      <td>5859</td>\n      <td>BASIC ELECTRIC ELEMENTS</td>\n      <td>5.607020</td>\n    </tr>\n    <tr>\n      <th>...</th>\n      <td>...</td>\n      <td>...</td>\n      <td>...</td>\n      <td>...</td>\n    </tr>\n    <tr>\n      <th>126</th>\n      <td>E99</td>\n      <td>0</td>\n      <td>SUBJECT MATTER NOT OTHERWISE PROVIDED FOR IN T...</td>\n      <td>0.000000</td>\n    </tr>\n    <tr>\n      <th>127</th>\n      <td>D99</td>\n      <td>0</td>\n      <td>SUBJECT MATTER NOT OTHERWISE PROVIDED FOR IN T...</td>\n      <td>0.000000</td>\n    </tr>\n    <tr>\n      <th>128</th>\n      <td>B99</td>\n      <td>0</td>\n      <td>SUBJECT MATTER NOT OTHERWISE PROVIDED FOR IN T...</td>\n      <td>0.000000</td>\n    </tr>\n    <tr>\n      <th>129</th>\n      <td>A99</td>\n      <td>0</td>\n      <td>SUBJECT MATTER NOT OTHERWISE PROVIDED FOR IN T...</td>\n      <td>0.000000</td>\n    </tr>\n    <tr>\n      <th>130</th>\n      <td>H99</td>\n      <td>0</td>\n      <td>SUBJECT MATTER NOT OTHERWISE PROVIDED FOR IN T...</td>\n      <td>0.000000</td>\n    </tr>\n  </tbody>\n</table>\n<p>131 rows × 4 columns</p>\n</div>"
     },
     "execution_count": 193,
     "metadata": {},
     "output_type": "execute_result"
    }
   ],
   "source": [
    "df_europe_subclass"
   ],
   "metadata": {
    "collapsed": false
   }
  },
  {
   "cell_type": "code",
   "execution_count": 194,
   "outputs": [
    {
     "data": {
      "text/plain": "    subclass  patent count                                  class_description  \\\n0        H01         12081                            BASIC ELECTRIC ELEMENTS   \n1        G06         10154                 COMPUTING; CALCULATING OR COUNTING   \n2        A61          8809             MEDICAL OR VETERINARY SCIENCE; HYGIENE   \n3        H04          8433                   ELECTRIC COMMUNICATION TECHNIQUE   \n4        G01          7145                                 MEASURING; TESTING   \n..       ...           ...                                                ...   \n126      C99             0  SUBJECT MATTER NOT OTHERWISE PROVIDED FOR IN T...   \n127      D99             0  SUBJECT MATTER NOT OTHERWISE PROVIDED FOR IN T...   \n128      E99             0  SUBJECT MATTER NOT OTHERWISE PROVIDED FOR IN T...   \n129      A99             0  SUBJECT MATTER NOT OTHERWISE PROVIDED FOR IN T...   \n130      H99             0  SUBJECT MATTER NOT OTHERWISE PROVIDED FOR IN T...   \n\n     subclass_proportion_%  \n0                 8.425039  \n1                 7.081189  \n2                 6.143214  \n3                 5.880999  \n4                 4.982775  \n..                     ...  \n126               0.000000  \n127               0.000000  \n128               0.000000  \n129               0.000000  \n130               0.000000  \n\n[131 rows x 4 columns]",
      "text/html": "<div>\n<style scoped>\n    .dataframe tbody tr th:only-of-type {\n        vertical-align: middle;\n    }\n\n    .dataframe tbody tr th {\n        vertical-align: top;\n    }\n\n    .dataframe thead th {\n        text-align: right;\n    }\n</style>\n<table border=\"1\" class=\"dataframe\">\n  <thead>\n    <tr style=\"text-align: right;\">\n      <th></th>\n      <th>subclass</th>\n      <th>patent count</th>\n      <th>class_description</th>\n      <th>subclass_proportion_%</th>\n    </tr>\n  </thead>\n  <tbody>\n    <tr>\n      <th>0</th>\n      <td>H01</td>\n      <td>12081</td>\n      <td>BASIC ELECTRIC ELEMENTS</td>\n      <td>8.425039</td>\n    </tr>\n    <tr>\n      <th>1</th>\n      <td>G06</td>\n      <td>10154</td>\n      <td>COMPUTING; CALCULATING OR COUNTING</td>\n      <td>7.081189</td>\n    </tr>\n    <tr>\n      <th>2</th>\n      <td>A61</td>\n      <td>8809</td>\n      <td>MEDICAL OR VETERINARY SCIENCE; HYGIENE</td>\n      <td>6.143214</td>\n    </tr>\n    <tr>\n      <th>3</th>\n      <td>H04</td>\n      <td>8433</td>\n      <td>ELECTRIC COMMUNICATION TECHNIQUE</td>\n      <td>5.880999</td>\n    </tr>\n    <tr>\n      <th>4</th>\n      <td>G01</td>\n      <td>7145</td>\n      <td>MEASURING; TESTING</td>\n      <td>4.982775</td>\n    </tr>\n    <tr>\n      <th>...</th>\n      <td>...</td>\n      <td>...</td>\n      <td>...</td>\n      <td>...</td>\n    </tr>\n    <tr>\n      <th>126</th>\n      <td>C99</td>\n      <td>0</td>\n      <td>SUBJECT MATTER NOT OTHERWISE PROVIDED FOR IN T...</td>\n      <td>0.000000</td>\n    </tr>\n    <tr>\n      <th>127</th>\n      <td>D99</td>\n      <td>0</td>\n      <td>SUBJECT MATTER NOT OTHERWISE PROVIDED FOR IN T...</td>\n      <td>0.000000</td>\n    </tr>\n    <tr>\n      <th>128</th>\n      <td>E99</td>\n      <td>0</td>\n      <td>SUBJECT MATTER NOT OTHERWISE PROVIDED FOR IN T...</td>\n      <td>0.000000</td>\n    </tr>\n    <tr>\n      <th>129</th>\n      <td>A99</td>\n      <td>0</td>\n      <td>SUBJECT MATTER NOT OTHERWISE PROVIDED FOR IN T...</td>\n      <td>0.000000</td>\n    </tr>\n    <tr>\n      <th>130</th>\n      <td>H99</td>\n      <td>0</td>\n      <td>SUBJECT MATTER NOT OTHERWISE PROVIDED FOR IN T...</td>\n      <td>0.000000</td>\n    </tr>\n  </tbody>\n</table>\n<p>131 rows × 4 columns</p>\n</div>"
     },
     "execution_count": 194,
     "metadata": {},
     "output_type": "execute_result"
    }
   ],
   "source": [
    "df_japan_subclass"
   ],
   "metadata": {
    "collapsed": false
   }
  },
  {
   "cell_type": "code",
   "execution_count": 195,
   "outputs": [
    {
     "data": {
      "text/plain": "                                           Assignee  patent count\n0                     Samsung Electronics Co., Ltd.          7905\n1                     Huawei Technologies Co., Ltd.          5054\n2                                         Canon Inc          3671\n3       International Business Machines Corporation          3293\n4                               Lg Electronics Inc.          3262\n...                                             ...           ...\n345265                                蜻蜓实验室(深圳)有限公司             1\n345266                    ライオンデル ケミカル テクノロジー、エル．ピー．             1\n345267                                          李自勇             1\n345268                     Zarbaña Digital Fund Llc             1\n345269                        Promaton Holding B.V.             1\n\n[345270 rows x 2 columns]",
      "text/html": "<div>\n<style scoped>\n    .dataframe tbody tr th:only-of-type {\n        vertical-align: middle;\n    }\n\n    .dataframe tbody tr th {\n        vertical-align: top;\n    }\n\n    .dataframe thead th {\n        text-align: right;\n    }\n</style>\n<table border=\"1\" class=\"dataframe\">\n  <thead>\n    <tr style=\"text-align: right;\">\n      <th></th>\n      <th>Assignee</th>\n      <th>patent count</th>\n    </tr>\n  </thead>\n  <tbody>\n    <tr>\n      <th>0</th>\n      <td>Samsung Electronics Co., Ltd.</td>\n      <td>7905</td>\n    </tr>\n    <tr>\n      <th>1</th>\n      <td>Huawei Technologies Co., Ltd.</td>\n      <td>5054</td>\n    </tr>\n    <tr>\n      <th>2</th>\n      <td>Canon Inc</td>\n      <td>3671</td>\n    </tr>\n    <tr>\n      <th>3</th>\n      <td>International Business Machines Corporation</td>\n      <td>3293</td>\n    </tr>\n    <tr>\n      <th>4</th>\n      <td>Lg Electronics Inc.</td>\n      <td>3262</td>\n    </tr>\n    <tr>\n      <th>...</th>\n      <td>...</td>\n      <td>...</td>\n    </tr>\n    <tr>\n      <th>345265</th>\n      <td>蜻蜓实验室(深圳)有限公司</td>\n      <td>1</td>\n    </tr>\n    <tr>\n      <th>345266</th>\n      <td>ライオンデル ケミカル テクノロジー、エル．ピー．</td>\n      <td>1</td>\n    </tr>\n    <tr>\n      <th>345267</th>\n      <td>李自勇</td>\n      <td>1</td>\n    </tr>\n    <tr>\n      <th>345268</th>\n      <td>Zarbaña Digital Fund Llc</td>\n      <td>1</td>\n    </tr>\n    <tr>\n      <th>345269</th>\n      <td>Promaton Holding B.V.</td>\n      <td>1</td>\n    </tr>\n  </tbody>\n</table>\n<p>345270 rows × 2 columns</p>\n</div>"
     },
     "execution_count": 195,
     "metadata": {},
     "output_type": "execute_result"
    }
   ],
   "source": [
    "assignee_count"
   ],
   "metadata": {
    "collapsed": false
   }
  },
  {
   "cell_type": "code",
   "execution_count": 196,
   "outputs": [],
   "source": [
    "#Export Required dataframes\n",
    "df_country.to_csv('patents_by_country.csv')\n",
    "df_country.head(15).to_csv('pat_by_country_top15.csv')\n",
    "df_subclass_count.to_csv('patents_by_subclass.csv')\n",
    "df_subclass_count.head(15).to_csv('patents_by_subclass_top15.csv')\n",
    "df_china_subclass.to_csv('china_subclass.csv')\n",
    "df_china_subclass.head(15).to_csv('china_subclass_top15.csv')\n",
    "df_usa_subclass.to_csv('usa_subclass.csv')\n",
    "df_usa_subclass.head(15).to_csv('usa_subclass_top15.csv')\n",
    "df_europe_subclass.to_csv('europe_subclass.csv')\n",
    "df_europe_subclass.head(15).to_csv('europe_subclass_top15.csv')\n",
    "df_japan_subclass.to_csv('japan_subclass.csv')\n",
    "df_japan_subclass.head(15).to_csv('japan_subclass_top15.csv')\n",
    "assignee_count.to_csv('patents_by_assignee.csv')\n",
    "assignee_count.head(50).to_csv('patents_by_assignee_top50.csv')\n",
    "assignee_count_CN_uni_grouped.head(36).to_csv('Chinese_University_Grouped_assignee_count.csv')"
   ],
   "metadata": {
    "collapsed": false
   }
  },
  {
   "cell_type": "markdown",
   "source": [
    "Graphing and subsequent analysis was performed on Tableau"
   ],
   "metadata": {
    "collapsed": false
   }
  },
  {
   "cell_type": "code",
   "execution_count": null,
   "outputs": [],
   "source": [],
   "metadata": {
    "collapsed": false
   }
  }
 ],
 "metadata": {
  "kernelspec": {
   "display_name": "Python 3 (ipykernel)",
   "language": "python",
   "name": "python3"
  },
  "language_info": {
   "codemirror_mode": {
    "name": "ipython",
    "version": 3
   },
   "file_extension": ".py",
   "mimetype": "text/x-python",
   "name": "python",
   "nbconvert_exporter": "python",
   "pygments_lexer": "ipython3",
   "version": "3.9.7"
  }
 },
 "nbformat": 4,
 "nbformat_minor": 1
}
